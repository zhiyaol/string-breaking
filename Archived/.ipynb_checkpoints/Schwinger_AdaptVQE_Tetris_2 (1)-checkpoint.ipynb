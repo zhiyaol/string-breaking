{
 "cells": [
  {
   "cell_type": "markdown",
   "id": "cab535d9",
   "metadata": {},
   "source": [
    "### Roland Farrell 06/26/23"
   ]
  },
  {
   "cell_type": "code",
   "execution_count": 1,
   "id": "b12be020",
   "metadata": {},
   "outputs": [
    {
     "name": "stderr",
     "output_type": "stream",
     "text": [
      "/var/folders/v8/4cxk4xps5zd2gz41hm_hypnm0000gq/T/ipykernel_65963/1625233401.py:10: DeprecationWarning: ``qiskit.algorithms`` has been migrated to an independent package: https://github.com/qiskit-community/qiskit-algorithms. The ``qiskit.algorithms`` import path is deprecated as of qiskit-terra 0.25.0 and will be removed no earlier than 3 months after the release date. Please run ``pip install qiskit_algorithms`` and use ``import qiskit_algorithms`` instead.\n",
      "  from qiskit.algorithms.minimum_eigensolvers import VQE\n"
     ]
    }
   ],
   "source": [
    "import numpy as np\n",
    "import scipy as sp\n",
    "import sys\n",
    "import matplotlib.pyplot as plt\n",
    "\n",
    "import qiskit\n",
    "from qiskit.circuit import QuantumCircuit, ParameterVector, ClassicalRegister, QuantumRegister\n",
    "from qiskit.quantum_info import SparsePauliOp,commutator\n",
    "from qiskit.algorithms.minimum_eigensolvers import VQE\n",
    "from qiskit.algorithms.optimizers import CG\n",
    "from qiskit_aer.primitives import Estimator as AerEstimator\n",
    "from qiskit import Aer\n",
    "from qiskit.utils.mitigation import tensored_meas_cal, TensoredMeasFitter\n",
    "# from qiskit_research.utils.convenience import add_dynamical_decoupling,add_pauli_twirls,transpile_paulis\n",
    "\n",
    "from qiskit.circuit.library import XGate\n",
    "from qiskit.transpiler import PassManager, InstructionDurations\n",
    "from qiskit.transpiler.passes import ALAPSchedule, DynamicalDecoupling, ALAPScheduleAnalysis, PadDynamicalDecoupling\n",
    "from qiskit.visualization import timeline_drawer\n",
    "\n",
    "from qiskit_ibm_provider import IBMProvider\n",
    "from qiskit import Aer, execute, transpile, schedule\n",
    "from qiskit.result import marginal_counts"
   ]
  },
  {
   "cell_type": "code",
   "execution_count": 3,
   "id": "19464ad9",
   "metadata": {},
   "outputs": [],
   "source": [
    "import time\n",
    "import pickle"
   ]
  },
  {
   "cell_type": "markdown",
   "id": "d40b2089",
   "metadata": {},
   "source": [
    "# Using the ADAPT Variational Quantum Eigensolver (VQE) to determine the vacuum of the Schwiner model."
   ]
  },
  {
   "cell_type": "markdown",
   "id": "8a2719b4",
   "metadata": {},
   "source": [
    "# Constructing the Hamiltonian"
   ]
  },
  {
   "cell_type": "markdown",
   "id": "e86708ca",
   "metadata": {},
   "source": [
    "### Returns an operator corresponding to a given Pauli string. The given Pauli string is in the form of a dictionary which contains keys which label the qubit (0-5) and values which are Pauli operators. Factors of the identity are automatically included."
   ]
  },
  {
   "cell_type": "code",
   "execution_count": 4,
   "id": "660b74fd",
   "metadata": {},
   "outputs": [],
   "source": [
    "def Hpauli(dict,N):\n",
    "    tableop = \"\"\n",
    "    tableind = []\n",
    "    for index, Pauli in sorted(dict.items(),reverse=True):\n",
    "        tableop+=Pauli\n",
    "        tableind.append(index)\n",
    "    operator = SparsePauliOp.from_sparse_list([(tableop, tableind, 1)], num_qubits = N)\n",
    "    return operator.simplify()"
   ]
  },
  {
   "cell_type": "markdown",
   "id": "e35be539",
   "metadata": {},
   "source": [
    "### Constructs the mass part of the Hamiltonian"
   ]
  },
  {
   "cell_type": "code",
   "execution_count": 5,
   "id": "b9722163",
   "metadata": {},
   "outputs": [],
   "source": [
    "def Hm(N):\n",
    "    op = (N/2) * SparsePauliOp.from_sparse_list([(\"I\", [0], 1)], num_qubits = N)\n",
    "    for n in range(N):\n",
    "        op = op + (-1)**(n)/2 * Hpauli({n: \"Z\"},N)\n",
    "    return op.simplify()  "
   ]
  },
  {
   "cell_type": "markdown",
   "id": "eaf34fc1",
   "metadata": {},
   "source": [
    "### Constructs the kinetic part of the Hamiltonian"
   ]
  },
  {
   "cell_type": "code",
   "execution_count": 6,
   "id": "ab346749",
   "metadata": {},
   "outputs": [],
   "source": [
    "def Hkin(N):\n",
    "    op = SparsePauliOp.from_sparse_list([(\"I\", [0], 0)], num_qubits = N)\n",
    "    for n in range(N-1):\n",
    "        op = op + 1/2 * (Hpauli({n: \"X\", n+1: \"X\"},N) + Hpauli({n: \"Y\",  n+1: \"Y\"},N))\n",
    "    return (1/2 * op).simplify()  "
   ]
  },
  {
   "cell_type": "markdown",
   "id": "e46ec120",
   "metadata": {},
   "source": [
    "### Constructs the electric part of the Hamiltonian"
   ]
  },
  {
   "cell_type": "code",
   "execution_count": 7,
   "id": "d52c5754",
   "metadata": {},
   "outputs": [],
   "source": [
    "def Hel(N):\n",
    "    op = ((N**2)/16) * SparsePauliOp.from_sparse_list([(\"I\", [0], 1)], num_qubits = N)\n",
    "    for n in range(N-1):\n",
    "        op = op + ((N-n-1/2*(1+(-1)**(n+1)))/8) * (Hpauli({n: \"Z\"},N))\n",
    "        for m in range(N-2-n):\n",
    "            mp = (n+m+1)\n",
    "            op = op + (N-1-mp)/4 * (Hpauli({n: \"Z\", mp: \"Z\"},N))\n",
    "    return op.simplify()"
   ]
  },
  {
   "cell_type": "markdown",
   "id": "aac96581",
   "metadata": {},
   "source": [
    "### The full Hamiltonian. Takes as parameters the mass, m, and gauge coupling, g. "
   ]
  },
  {
   "cell_type": "code",
   "execution_count": 8,
   "id": "7d32f741",
   "metadata": {},
   "outputs": [],
   "source": [
    "def H(m,g,N):\n",
    "    return (m * Hm(N) + Hkin(N) + g**2 * Hel(N)).simplify()"
   ]
  },
  {
   "cell_type": "markdown",
   "id": "21ac3540",
   "metadata": {},
   "source": [
    "## Pool operators used to form the commutators"
   ]
  },
  {
   "cell_type": "markdown",
   "id": "f43fde51",
   "metadata": {},
   "source": [
    "### Reflection symmetric brickwork hopping between fermion sites distance $d$ and offset by $s$"
   ]
  },
  {
   "cell_type": "code",
   "execution_count": 9,
   "id": "b6d7fdba",
   "metadata": {},
   "outputs": [],
   "source": [
    "def OhdsSym(d,s,N):\n",
    "    op = SparsePauliOp.from_sparse_list([(\"I\", [0], 0)], num_qubits = N)\n",
    "    for m in range(int((N-s)/(d+1))):\n",
    "        st = m*(d+1)+s\n",
    "        dict1={}\n",
    "        for i in range(d-1):\n",
    "            dict1[st+i+1]=\"Z\"\n",
    "        dict2 = dict1.copy()\n",
    "        dict1[st] =\"X\";dict1[st+d]=\"X\"\n",
    "        dict2[st] =\"Y\";dict2[st+d]=\"Y\"\n",
    "        op = op + 1/2 * (Hpauli(dict1,N) + Hpauli(dict2,N))\n",
    "        \n",
    "        # If the reflection symmetric partner is unique (i.e. two layer pool operator)\n",
    "        if (int((N-s)/(d+1)))*(d+1) + s  != N - s:\n",
    "            st = N-m*(d+1)-s-1\n",
    "            dict1={}\n",
    "            for i in range(d-1):\n",
    "                dict1[st-i-1]=\"Z\"\n",
    "            dict2 = dict1.copy()\n",
    "            dict1[st] =\"X\";dict1[st-d]=\"X\"\n",
    "            dict2[st] =\"Y\";dict2[st-d]=\"Y\"\n",
    "            op = op + 1/2 * (Hpauli(dict1,N) + Hpauli(dict2,N))\n",
    "    \n",
    "    return (1/2 * op).simplify()  "
   ]
  },
  {
   "cell_type": "markdown",
   "id": "10c35d15",
   "metadata": {},
   "source": [
    "### Mass-like boundary terms"
   ]
  },
  {
   "cell_type": "code",
   "execution_count": 10,
   "id": "6f3d1989",
   "metadata": {},
   "outputs": [],
   "source": [
    "def OmB1(N):\n",
    "    op = SparsePauliOp.from_sparse_list([(\"I\", [0], 0)], num_qubits = N)\n",
    "    op = op + Hpauli({0: \"Z\"},N) -Hpauli({N-1: \"Z\"},N)\n",
    "    return op.simplify() "
   ]
  },
  {
   "cell_type": "code",
   "execution_count": 11,
   "id": "c4ab6b93",
   "metadata": {},
   "outputs": [],
   "source": [
    "def OmB2(N):\n",
    "    op = SparsePauliOp.from_sparse_list([(\"I\", [0], 0)], num_qubits = N)\n",
    "    op = op - Hpauli({1: \"Z\"},N) +Hpauli({N-2: \"Z\"},N)\n",
    "    return op.simplify() "
   ]
  },
  {
   "cell_type": "markdown",
   "id": "636d3392",
   "metadata": {},
   "source": [
    "# Constructing the Trotterized version of the pool operators"
   ]
  },
  {
   "cell_type": "markdown",
   "id": "9d109ab4",
   "metadata": {},
   "source": [
    "## Commutator of mass and hopping type terms with brickwork Trotterization"
   ]
  },
  {
   "cell_type": "markdown",
   "id": "aa5372fb",
   "metadata": {},
   "source": [
    "### Helper function creating Trotterized circuit for $X Z^{d-1} Y - Y Z^{d-1} X$"
   ]
  },
  {
   "cell_type": "code",
   "execution_count": 12,
   "id": "0671bd38",
   "metadata": {},
   "outputs": [],
   "source": [
    "def XYcirc(circ, ph, d, st):\n",
    "    # Could use more efficient 2 CNOT one instead\n",
    "    if d==1:\n",
    "        circ.s(st)\n",
    "        circ.h(st)\n",
    "        \n",
    "        circ.z(st+d)\n",
    "        circ.h(st+d)\n",
    "        circ.s(st+d)\n",
    "        circ.cnot(st,st+d)\n",
    "        circ.ry(-ph,st)\n",
    "        circ.rz(ph,st+d)\n",
    "        circ.cnot(st,st+d)\n",
    "        circ.sdg(st+d)\n",
    "        circ.h(st+d)\n",
    "        circ.h(st)\n",
    "        circ.sdg(st)\n",
    "        circ.z(st+d)\n",
    "        \n",
    "    else:\n",
    "        en = st+int(d/2)+1\n",
    "        circ.h(st)\n",
    "        circ.s(st+d)\n",
    "        circ.h(st+d)\n",
    "        for i in range(int(d/2)):\n",
    "            circ.cx(st+i,st+i+1)\n",
    "            circ.cx(st+d-i,st+d-i-1)\n",
    "        circ.cx(st+int(d/2),en)\n",
    "        \n",
    "        circ.rz(ph,en)\n",
    "        \n",
    "        circ.cx(st+int(d/2),en)\n",
    "        for i in reversed(range(int(d/2))):\n",
    "            circ.cx(st+i,st+i+1)\n",
    "            circ.cx(st+d-i,st+d-i-1)\n",
    "        \n",
    "        circ.h(st)\n",
    "        circ.h(st+d)\n",
    "        circ.sdg(st+d)\n",
    "\n",
    "        circ.s(st)\n",
    "        circ.h(st)\n",
    "        circ.h(st+d)\n",
    "        \n",
    "        for i in range(int(d/2)):\n",
    "            circ.cx(st+i,st+i+1)\n",
    "            circ.cx(st+d-i,st+d-i-1)\n",
    "        circ.cx(st+int(d/2),en)\n",
    "            \n",
    "        circ.rz(-ph,en)\n",
    "        \n",
    "        circ.cx(st+int(d/2),en)\n",
    "        for i in reversed(range(int(d/2))):\n",
    "            circ.cx(st+i,st+i+1)\n",
    "            circ.cx(st+d-i,st+d-i-1)\n",
    "            \n",
    "        circ.h(st)\n",
    "        circ.h(st+d)\n",
    "        circ.sdg(st)    "
   ]
  },
  {
   "cell_type": "code",
   "execution_count": 13,
   "id": "5477e9f9",
   "metadata": {},
   "outputs": [],
   "source": [
    "def UhMdsBr(circ, t, d , s, N, boundary=False):  \n",
    "    if boundary == True:\n",
    "        XYcirc(circ,t,d,s)\n",
    "        XYcirc(circ,t,d,N-1-s-d)\n",
    "    else:  \n",
    "        for m in range(int((N-s)/(d+1))):\n",
    "            st = m*(d+1)+s\n",
    "            ph = t*(-1)**(st)\n",
    "            XYcirc(circ,ph,d,st)\n",
    "        \n",
    "        # If the reflection symmetric partner is unique (i.e. two layer circuit)\n",
    "        if (int((N-s)/(d+1)))*(d+1) + s  != N - s:\n",
    "            for m in range(int((N-s)/(d+1))):\n",
    "                st = N-m*(d+1)-s-1-d\n",
    "                ph = t*(-1)**(st)\n",
    "                XYcirc(circ,ph,d,st)\n",
    "        \n",
    "    return circ"
   ]
  },
  {
   "cell_type": "markdown",
   "id": "4bcbf2b0",
   "metadata": {},
   "source": [
    "# Prepares the strong coupling vacuum"
   ]
  },
  {
   "cell_type": "code",
   "execution_count": 14,
   "id": "4ef866ac",
   "metadata": {},
   "outputs": [],
   "source": [
    "def vacPrep(N):\n",
    "    circ = QuantumCircuit(N)\n",
    "    N = int(N/2)\n",
    "    \n",
    "    for i in range(N):    \n",
    "        circ.x(2*i)\n",
    "    \n",
    "    return circ"
   ]
  },
  {
   "cell_type": "markdown",
   "id": "36ee1751",
   "metadata": {},
   "source": [
    "# Adapt VQE algorithm"
   ]
  },
  {
   "cell_type": "markdown",
   "id": "62b765fc",
   "metadata": {},
   "source": [
    "### Form the operator pool, corresponding circuits and commutator between pool operators and Hamiltonian"
   ]
  },
  {
   "cell_type": "code",
   "execution_count": 15,
   "id": "bb9ad335",
   "metadata": {},
   "outputs": [],
   "source": [
    "def adaptVQEPrep(m,g,N):\n",
    "    opPool=[]\n",
    "    opPoolName = []\n",
    "    \n",
    "    for dB1 in range(1,N-1,2):\n",
    "        opPool.append(1j*commutator(OmB1(N),OhdsSym(dB1,0,N)).simplify())\n",
    "        opPoolName.append([\"[OmB1\" + \", \" + \"Oh\" + \"]\",dB1,0])\n",
    "        \n",
    "    for dB2 in range(1,N-3,2):\n",
    "        opPool.append(1j*commutator(OmB2(N),OhdsSym(dB2,1,N)).simplify())\n",
    "        opPoolName.append([\"[OmB2\" + \", \" + \"Oh\" + \"]\",dB2,1])\n",
    "    \n",
    "    for d in range(1,N,2):\n",
    "        for s in range(min(d+1,N-d)):\n",
    "            op = 1j*commutator(Hm(N),OhdsSym(d,s,N)).simplify()\n",
    "            # Prevent adding the same operator twice\n",
    "            rep=False\n",
    "            for op1 in opPool:\n",
    "                if op.equiv(op1):\n",
    "                    rep = True\n",
    "            if not(rep):                \n",
    "                if (int((N-s)/(d+1)))*(d+1) + s  != N - s:\n",
    "                    op = 0.5*op\n",
    "                opPool.append(op)\n",
    "                opPoolName.append([\"[Om\" + \", \" + \"Oh\" + \"]\",d,s])\n",
    "    print(len(opPool))\n",
    "    comm=[]\n",
    "    for i in range(len(opPool)):\n",
    "        comm.append(1j*commutator(H(m,g,N),opPool[i]).simplify())\n",
    "    return [comm, opPoolName]"
   ]
  },
  {
   "cell_type": "code",
   "execution_count": 16,
   "id": "132ca331",
   "metadata": {},
   "outputs": [],
   "source": [
    "def adaptVQE(m,g,N,iterat):\n",
    "    res = adaptVQEPrep(m,g,N)\n",
    "    comm = res[0]\n",
    "    names = res[1]\n",
    "    \n",
    "    backend = Aer.get_backend('statevector_simulator')\n",
    "    \n",
    "    # Ground state found from exact diagonalization\n",
    "    gsEig = sp.sparse.linalg.eigsh(H(m,g,N).to_matrix(sparse=True),which='SR')\n",
    "    gs = gsEig[1][:,0]\n",
    "    gsE = gsEig[0][0]\n",
    "    \n",
    "    params = ParameterVector('theta', length=iterat)\n",
    "    it = iter(params)\n",
    "    \n",
    "    estim = AerEstimator(approximation=True,backend_options={\"method\":\"statevector\"})\n",
    "    estim.set_options(shots=None)\n",
    "    \n",
    "    # Initializat to the strong coupling vacuum\n",
    "    ansatz = vacPrep(N)\n",
    "    init =[]\n",
    "    en = []\n",
    "    ansatzStruct = []\n",
    "    CC=[]\n",
    "    fid=[]\n",
    "    for k in range(iterat):\n",
    "        # Cutoff on the expectation value of the commutator of a pool operator with the Hamiltonian\n",
    "        maxcomm=2e-4\n",
    "        j=-1\n",
    "        # For each operator in the pool\n",
    "        for i in range(len(comm)):\n",
    "            job = estim.run(ansatz.bind_parameters(init),comm[i])\n",
    "            val = np.abs(job.result().values[0])\n",
    "            if val >= maxcomm:\n",
    "                maxcomm = val\n",
    "                j=i\n",
    "        # If all commutators smaller than cutoff\n",
    "        if j==-1:\n",
    "            break\n",
    "            \n",
    "        dimB = 2*len(np.arange(1,N-1,2)) - 1\n",
    "        d = names[j][1]\n",
    "        s = names[j][2]\n",
    "        ansatzStruct.append(names[j][0][:-1] + str(d) + \"_\" + str(s)+\"]\")\n",
    "        if j < dimB:\n",
    "            ansatz = ansatz.compose(UhMdsBr(QuantumCircuit(N),next(it),d,s,N,boundary=True))\n",
    "        else:\n",
    "            ansatz = ansatz.compose(UhMdsBr(QuantumCircuit(N),next(it),d,s,N))\n",
    "            \n",
    "        # Initial guess for new parameter is 0\n",
    "        init = np.append(init,0)\n",
    "        vqe = VQE(estim,ansatz,CG(tol=1e-7, gtol=1e-6,maxiter = 300,disp=True),initial_point=init)\n",
    "        \n",
    "        result = vqe.compute_minimum_eigenvalue(H(m,g,N))\n",
    "        en.append(2*(result.optimal_value-gsE)/N)\n",
    "        init = result.optimal_point\n",
    "        \n",
    "        # Determine the fidelity\n",
    "        test = ansatz.bind_parameters(init)\n",
    "        \n",
    "        job = backend.run(test)\n",
    "        result = job.result()\n",
    "        os = result.get_statevector(test, decimals=12)\n",
    "        \n",
    "        CC.append(estim.run(test,Hm(N)).result().values[0])\n",
    "        fid.append(1-np.abs(np.vdot(os.data,gs))**2)\n",
    "        \n",
    "        print(en)\n",
    "        print(fid)\n",
    "        print(CC)\n",
    "        print(init)\n",
    "        print(ansatzStruct)\n",
    "    return [en,fid,CC,init,ansatzStruct,ansatz,test]"
   ]
  },
  {
   "cell_type": "code",
   "execution_count": 188,
   "id": "f6dd9928",
   "metadata": {},
   "outputs": [
    {
     "name": "stdout",
     "output_type": "stream",
     "text": [
      "10\n",
      "Optimization terminated successfully.\n",
      "         Current function value: -1.631593\n",
      "         Iterations: 4\n",
      "         Function evaluations: 18\n",
      "         Gradient evaluations: 9\n",
      "[0.09692661745363307]\n",
      "[0.34184506925324465]\n",
      "[3.196705487478795]\n",
      "[0.68429886]\n",
      "['[Om, Oh1_0]']\n",
      "Optimization terminated successfully.\n",
      "         Current function value: -1.844960\n",
      "         Iterations: 7\n",
      "         Function evaluations: 48\n",
      "         Gradient evaluations: 16\n",
      "[0.09692661745363307, 0.0435846478857046]\n",
      "[0.34184506925324465, 0.2234197533237171]\n",
      "[3.196705487478795, 2.1254404788539185]\n",
      "[0.43329042 0.44347055]\n",
      "['[Om, Oh1_0]', '[Om, Oh1_1]']\n",
      "Optimization terminated successfully.\n",
      "         Current function value: -1.943006\n",
      "         Iterations: 12\n",
      "         Function evaluations: 96\n",
      "         Gradient evaluations: 24\n",
      "[0.09692661745363307, 0.0435846478857046, 0.019073366903160804]\n",
      "[0.34184506925324465, 0.2234197533237171, 0.08209048128893381]\n",
      "[3.196705487478795, 2.1254404788539185, 2.5771735288687294]\n",
      "[ 0.44899021  0.50774905 -0.31792176]\n",
      "['[Om, Oh1_0]', '[Om, Oh1_1]', '[OmB1, Oh3_0]']\n",
      "Optimization terminated successfully.\n",
      "         Current function value: -1.969268\n",
      "         Iterations: 13\n",
      "         Function evaluations: 135\n",
      "         Gradient evaluations: 27\n",
      "[0.09692661745363307, 0.0435846478857046, 0.019073366903160804, 0.012507839993309566]\n",
      "[0.34184506925324465, 0.2234197533237171, 0.08209048128893381, 0.0707727202959183]\n",
      "[3.196705487478795, 2.1254404788539185, 2.5771735288687294, 2.716018163519598]\n",
      "[ 0.4061914   0.4776978  -0.28020255  0.14068946]\n",
      "['[Om, Oh1_0]', '[Om, Oh1_1]', '[OmB1, Oh3_0]', '[OmB1, Oh1_0]']\n",
      "Optimization terminated successfully.\n",
      "         Current function value: -2.003188\n",
      "         Iterations: 18\n",
      "         Function evaluations: 186\n",
      "         Gradient evaluations: 31\n",
      "[0.09692661745363307, 0.0435846478857046, 0.019073366903160804, 0.012507839993309566, 0.004027772348962011]\n",
      "[0.34184506925324465, 0.2234197533237171, 0.08209048128893381, 0.0707727202959183, 0.023739834122315506]\n",
      "[3.196705487478795, 2.1254404788539185, 2.5771735288687294, 2.716018163519598, 2.8370950480613333]\n",
      "[ 0.42184403  0.49335043 -0.2896587   0.12814477 -0.22793807]\n",
      "['[Om, Oh1_0]', '[Om, Oh1_1]', '[OmB1, Oh3_0]', '[OmB1, Oh1_0]', '[Om, Oh3_2]']\n",
      "Optimization terminated successfully.\n",
      "         Current function value: -2.010845\n",
      "         Iterations: 14\n",
      "         Function evaluations: 189\n",
      "         Gradient evaluations: 27\n",
      "[0.09692661745363307, 0.0435846478857046, 0.019073366903160804, 0.012507839993309566, 0.004027772348962011, 0.00211341238681384]\n",
      "[0.34184506925324465, 0.2234197533237171, 0.08209048128893381, 0.0707727202959183, 0.023739834122315506, 0.008520729127075133]\n",
      "[3.196705487478795, 2.1254404788539185, 2.5771735288687294, 2.716018163519598, 2.8370950480613333, 2.922839428553963]\n",
      "[ 0.41373698  0.50092041 -0.29755675  0.13339647 -0.2545581   0.0854036 ]\n",
      "['[Om, Oh1_0]', '[Om, Oh1_1]', '[OmB1, Oh3_0]', '[OmB1, Oh1_0]', '[Om, Oh3_2]', '[OmB1, Oh5_0]']\n",
      "Optimization terminated successfully.\n",
      "         Current function value: -2.015095\n",
      "         Iterations: 30\n",
      "         Function evaluations: 456\n",
      "         Gradient evaluations: 57\n",
      "[0.09692661745363307, 0.0435846478857046, 0.019073366903160804, 0.012507839993309566, 0.004027772348962011, 0.00211341238681384, 0.0010510920097196452]\n",
      "[0.34184506925324465, 0.2234197533237171, 0.08209048128893381, 0.0707727202959183, 0.023739834122315506, 0.008520729127075133, 0.004483693458905202]\n",
      "[3.196705487478795, 2.1254404788539185, 2.5771735288687294, 2.716018163519598, 2.8370950480613333, 2.922839428553963, 3.011356837476428]\n",
      "[ 0.37446813  0.44140401 -0.26497889  0.09475122 -0.24046909  0.07909242\n",
      "  0.10090199]\n",
      "['[Om, Oh1_0]', '[Om, Oh1_1]', '[OmB1, Oh3_0]', '[OmB1, Oh1_0]', '[Om, Oh3_2]', '[OmB1, Oh5_0]', '[Om, Oh1_0]']\n",
      "Optimization terminated successfully.\n",
      "         Current function value: -2.016253\n",
      "         Iterations: 37\n",
      "         Function evaluations: 576\n",
      "         Gradient evaluations: 64\n",
      "[0.09692661745363307, 0.0435846478857046, 0.019073366903160804, 0.012507839993309566, 0.004027772348962011, 0.00211341238681384, 0.0010510920097196452, 0.0007614455239864926]\n",
      "[0.34184506925324465, 0.2234197533237171, 0.08209048128893381, 0.0707727202959183, 0.023739834122315506, 0.008520729127075133, 0.004483693458905202, 0.0025653335857848125]\n",
      "[3.196705487478795, 2.1254404788539185, 2.5771735288687294, 2.716018163519598, 2.8370950480613333, 2.922839428553963, 3.011356837476428, 3.02700427173936]\n",
      "[ 0.38141538  0.45299298 -0.27347955  0.09745447 -0.24710863  0.0898139\n",
      "  0.08555745 -0.05269935]\n",
      "['[Om, Oh1_0]', '[Om, Oh1_1]', '[OmB1, Oh3_0]', '[OmB1, Oh1_0]', '[Om, Oh3_2]', '[OmB1, Oh5_0]', '[Om, Oh1_0]', '[Om, Oh7_0]']\n",
      "Optimization terminated successfully.\n",
      "         Current function value: -2.018144\n",
      "         Iterations: 60\n",
      "         Function evaluations: 1050\n",
      "         Gradient evaluations: 105\n",
      "[0.09692661745363307, 0.0435846478857046, 0.019073366903160804, 0.012507839993309566, 0.004027772348962011, 0.00211341238681384, 0.0010510920097196452, 0.0007614455239864926, 0.0002886394219580035]\n",
      "[0.34184506925324465, 0.2234197533237171, 0.08209048128893381, 0.0707727202959183, 0.023739834122315506, 0.008520729127075133, 0.004483693458905202, 0.0025653335857848125, 0.0010241601265750244]\n",
      "[3.196705487478795, 2.1254404788539185, 2.5771735288687294, 2.716018163519598, 2.8370950480613333, 2.922839428553963, 3.011356837476428, 3.02700427173936, 3.038453049068688]\n",
      "[ 0.38403805  0.45447687 -0.2636329   0.09004215 -0.2831115   0.03811052\n",
      "  0.08991551 -0.1464671   0.13646368]\n",
      "['[Om, Oh1_0]', '[Om, Oh1_1]', '[OmB1, Oh3_0]', '[OmB1, Oh1_0]', '[Om, Oh3_2]', '[OmB1, Oh5_0]', '[Om, Oh1_0]', '[Om, Oh7_0]', '[Om, Oh5_1]']\n",
      "Optimization terminated successfully.\n",
      "         Current function value: -2.019298\n",
      "         Iterations: 145\n",
      "         Function evaluations: 2673\n",
      "         Gradient evaluations: 243\n",
      "[0.09692661745363307, 0.0435846478857046, 0.019073366903160804, 0.012507839993309566, 0.004027772348962011, 0.00211341238681384, 0.0010510920097196452, 0.0007614455239864926, 0.0002886394219580035, 1.7250632844412195e-07]\n",
      "[0.34184506925324465, 0.2234197533237171, 0.08209048128893381, 0.0707727202959183, 0.023739834122315506, 0.008520729127075133, 0.004483693458905202, 0.0025653335857848125, 0.0010241601265750244, 4.1994220623120526e-07]\n",
      "[3.196705487478795, 2.1254404788539185, 2.5771735288687294, 2.716018163519598, 2.8370950480613333, 2.922839428553963, 3.011356837476428, 3.02700427173936, 3.038453049068688, 3.0418565725824456]\n",
      "[ 0.37570669  0.47158126 -0.21897176  0.09744423 -0.33366773 -0.0167832\n",
      "  0.11601822 -0.20267422  0.24789607  0.06718996]\n",
      "['[Om, Oh1_0]', '[Om, Oh1_1]', '[OmB1, Oh3_0]', '[OmB1, Oh1_0]', '[Om, Oh3_2]', '[OmB1, Oh5_0]', '[Om, Oh1_0]', '[Om, Oh7_0]', '[Om, Oh5_1]', '[OmB2, Oh1_1]']\n"
     ]
    },
    {
     "data": {
      "text/plain": [
       "[[0.09692661745363307,\n",
       "  0.0435846478857046,\n",
       "  0.019073366903160804,\n",
       "  0.012507839993309566,\n",
       "  0.004027772348962011,\n",
       "  0.00211341238681384,\n",
       "  0.0010510920097196452,\n",
       "  0.0007614455239864926,\n",
       "  0.0002886394219580035,\n",
       "  1.7250632844412195e-07],\n",
       " [0.34184506925324465,\n",
       "  0.2234197533237171,\n",
       "  0.08209048128893381,\n",
       "  0.0707727202959183,\n",
       "  0.023739834122315506,\n",
       "  0.008520729127075133,\n",
       "  0.004483693458905202,\n",
       "  0.0025653335857848125,\n",
       "  0.0010241601265750244,\n",
       "  4.1994220623120526e-07],\n",
       " [3.196705487478795,\n",
       "  2.1254404788539185,\n",
       "  2.5771735288687294,\n",
       "  2.716018163519598,\n",
       "  2.8370950480613333,\n",
       "  2.922839428553963,\n",
       "  3.011356837476428,\n",
       "  3.02700427173936,\n",
       "  3.038453049068688,\n",
       "  3.0418565725824456],\n",
       " array([ 0.37570669,  0.47158126, -0.21897176,  0.09744423, -0.33366773,\n",
       "        -0.0167832 ,  0.11601822, -0.20267422,  0.24789607,  0.06718996]),\n",
       " ['[Om, Oh1_0]',\n",
       "  '[Om, Oh1_1]',\n",
       "  '[OmB1, Oh3_0]',\n",
       "  '[OmB1, Oh1_0]',\n",
       "  '[Om, Oh3_2]',\n",
       "  '[OmB1, Oh5_0]',\n",
       "  '[Om, Oh1_0]',\n",
       "  '[Om, Oh7_0]',\n",
       "  '[Om, Oh5_1]',\n",
       "  '[OmB2, Oh1_1]'],\n",
       " <qiskit.circuit.quantumcircuit.QuantumCircuit at 0x7f8040cadde0>,\n",
       " <qiskit.circuit.quantumcircuit.QuantumCircuit at 0x7f8084745f60>]"
      ]
     },
     "execution_count": 188,
     "metadata": {},
     "output_type": "execute_result"
    }
   ],
   "source": [
    "adaptVQE(.1,.1,8,10)"
   ]
  },
  {
   "cell_type": "code",
   "execution_count": null,
   "id": "545f2285",
   "metadata": {},
   "outputs": [],
   "source": []
  }
 ],
 "metadata": {
  "kernelspec": {
   "display_name": "Python 3 (ipykernel)",
   "language": "python",
   "name": "python3"
  },
  "language_info": {
   "codemirror_mode": {
    "name": "ipython",
    "version": 3
   },
   "file_extension": ".py",
   "mimetype": "text/x-python",
   "name": "python",
   "nbconvert_exporter": "python",
   "pygments_lexer": "ipython3",
   "version": "3.11.7"
  }
 },
 "nbformat": 4,
 "nbformat_minor": 5
}
