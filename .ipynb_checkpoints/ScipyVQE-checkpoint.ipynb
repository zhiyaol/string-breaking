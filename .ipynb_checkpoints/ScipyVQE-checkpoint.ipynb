{
 "cells": [
  {
   "cell_type": "code",
   "execution_count": 61,
   "metadata": {},
   "outputs": [],
   "source": [
    "%run SetUp.ipynb\n",
    "\n",
    "from scipy.optimize import minimize"
   ]
  },
  {
   "cell_type": "code",
   "execution_count": 62,
   "metadata": {},
   "outputs": [],
   "source": [
    "from matplotlib import pyplot as plt"
   ]
  },
  {
   "cell_type": "markdown",
   "metadata": {},
   "source": [
    "# VQE with Scipy "
   ]
  },
  {
   "cell_type": "code",
   "execution_count": 63,
   "metadata": {},
   "outputs": [],
   "source": [
    "\n",
    "# Generate Fake Vacuum\n",
    "# version that generates [[1,0,...]] and has dimension issues:  \n",
    "#fake_vac = ft.reduce(sp.sparse.kron, [[1,0]]* nq)\n",
    "\n",
    "#fake_vac = sp.sparse.csr_array(np.ndarray.flatten(ft.reduce(sp.sparse.kron, [[1,0]]* nq).toarray()))\n",
    "fake_vac =  sp.sparse.csr_array(ft.reduce(sp.sparse.kron, [[1.,0.]]* nq).toarray()).transpose()"
   ]
  },
  {
   "cell_type": "code",
   "execution_count": 64,
   "metadata": {},
   "outputs": [],
   "source": [
    "#working on this\n",
    "# Layers of VQE\n",
    "\n",
    "def single_qubit_mat(angle):\n",
    "    return ft.reduce(sp.sparse.kron, [ry(angle)]* nq)\n",
    "\n",
    "def two_qubit_mat(zy_ang,yz_ang):\n",
    "    n_sets = int(nq/2)\n",
    "    mat = sp.sparse.identity(2**nq)\n",
    "    zy_ang,yz_ang = zy_ang/2,yz_ang/2 # to match with qiskit's angle conventions\n",
    "\n",
    "    for ii in range(n_sets):\n",
    "        b,c = (2*ii+1)%nq,(2*ii+2)%nq\n",
    "\n",
    "        mat @= sp.sparse.linalg.expm(-1j * zy_ang * pad_op(b,nq,z) @ pad_op(c,nq,y))\n",
    "        mat @= sp.sparse.linalg.expm(-1j * yz_ang * pad_op(b,nq,y) @ pad_op(c,nq,z))\n",
    "        \n",
    "    for i in range(n_sets):\n",
    "        a,b = 2*i,(2*i+1)%nq\n",
    "\n",
    "        mat @= sp.sparse.linalg.expm(-1j * zy_ang * pad_op(a,nq,z) @ pad_op(b,nq,y))\n",
    "        mat @= sp.sparse.linalg.expm(-1j * yz_ang * pad_op(a,nq,y) @ pad_op(b,nq,z))\n",
    "\n",
    "\n",
    "    return mat\n",
    "\n",
    "def three_qubit_mat(angle):\n",
    "    n_sets = int(nq/3)\n",
    "    mat = sp.sparse.identity(2**nq)\n",
    "    angle = angle/2\n",
    "\n",
    "    for mmm in range(n_sets):\n",
    "        cc,dd,ee = (3*mmm+2)%nq,(3*mmm+3)%nq,(3*mmm+4)%nq\n",
    "        mat @= sp.sparse.linalg.expm(-1j * angle * pad_op(cc,nq,z) @ pad_op(dd,nq,y) @ pad_op(ee,nq,z))\n",
    "\n",
    "    for mm in range(n_sets):\n",
    "        bb,cc,dd = (3*mm+1)%nq,(3*mm+2)%nq,(3*mm+3)%nq\n",
    "        mat @= sp.sparse.linalg.expm(-1j * angle * pad_op(bb,nq,z) @ pad_op(cc,nq,y) @ pad_op(dd,nq,z))\n",
    "\n",
    "        \n",
    "    for m in range(n_sets):\n",
    "        aa,bb,cc = (3*m)%nq,(3*m+1)%nq,(3*m+2)%nq\n",
    "        mat @= sp.sparse.linalg.expm(-1j * angle * pad_op(aa,nq,z) @ pad_op(bb,nq,y) @ pad_op(cc,nq,z))\n",
    "    \n",
    "\n",
    "    return mat\n"
   ]
  },
  {
   "cell_type": "code",
   "execution_count": 65,
   "metadata": {},
   "outputs": [],
   "source": [
    "\n",
    "def vqe_form(angles):\n",
    "    it = iter(angles)\n",
    "\n",
    "    '''one qubit gates layer'''\n",
    "    one_qubit_angle = next(it)\n",
    "    mat1 = single_qubit_mat(one_qubit_angle)\n",
    "\n",
    "    '''two qubit gates layer'''\n",
    "    # ZY two qubit gates have the same angle; YZ two qubit gates have the same angle;\n",
    "    ZY_angle = next(it)\n",
    "    YZ_angle = next(it)\n",
    "    mat2 = two_qubit_mat(ZY_angle,YZ_angle)\n",
    "        \n",
    "    ''' three qubit gates layer '''\n",
    "    tri_angle = next(it)\n",
    "    mat3 = three_qubit_mat(tri_angle)\n",
    "\n",
    "    '''two qubit gates layer'''\n",
    "    ZY_angle = next(it)\n",
    "    YZ_angle = next(it)\n",
    "    mat4 = two_qubit_mat(ZY_angle,YZ_angle)\n",
    "    \n",
    "    # think about what order this operates in. Want to do the single qubit layer first\n",
    "    return mat4 @ mat3 @ mat2 @ mat1"
   ]
  },
  {
   "cell_type": "code",
   "execution_count": 66,
   "metadata": {},
   "outputs": [],
   "source": [
    "# Generate a state from a set of angles\n",
    "# Calculate full Hamiltonian expectation value for this state \n",
    "# Want to minimize this expectation value\n",
    "\n",
    "Hf = sp.sparse.bsr_matrix(Hfull(nq,m,g).to_matrix())\n",
    "\n",
    "def H_exp(angles):\n",
    "    \n",
    "    state = vqe_form(angles).dot(fake_vac)\n",
    "    \n",
    "    #val = np.reshape(np.asarray(state.conjugate()),-1) @ Hf @ np.reshape(np.asarray(state),-1)\n",
    "    val = state.getH() @ Hf @ state\n",
    "    \n",
    "    return abs(val.toarray()[0][0])"
   ]
  },
  {
   "cell_type": "code",
   "execution_count": 67,
   "metadata": {},
   "outputs": [
    {
     "name": "stderr",
     "output_type": "stream",
     "text": [
      "/Users/zhiyaoli/anaconda3/envs/iqus/lib/python3.11/site-packages/scipy/sparse/linalg/_dsolve/linsolve.py:412: SparseEfficiencyWarning: splu converted its input to CSC format\n",
      "  warn('splu converted its input to CSC format', SparseEfficiencyWarning)\n",
      "/Users/zhiyaoli/anaconda3/envs/iqus/lib/python3.11/site-packages/scipy/sparse/linalg/_dsolve/linsolve.py:302: SparseEfficiencyWarning: spsolve is more efficient when sparse b is in the CSC matrix format\n",
      "  warn('spsolve is more efficient when sparse b '\n",
      "/Users/zhiyaoli/anaconda3/envs/iqus/lib/python3.11/site-packages/scipy/sparse/linalg/_dsolve/linsolve.py:229: SparseEfficiencyWarning: spsolve requires A be CSC or CSR matrix format\n",
      "  warn('spsolve requires A be CSC or CSR matrix format',\n"
     ]
    },
    {
     "data": {
      "text/plain": [
       "9.967461874794052"
      ]
     },
     "execution_count": 67,
     "metadata": {},
     "output_type": "execute_result"
    }
   ],
   "source": [
    "num_params = 6\n",
    "\n",
    "initial_point = np.random.rand(num_params)\n",
    "\n",
    "H_exp(initial_point)"
   ]
  },
  {
   "cell_type": "code",
   "execution_count": 68,
   "metadata": {},
   "outputs": [],
   "source": [
    "#res = minimize(H_exp, initial_point, method='nelder-mead',\n",
    "#               options={'xatol': 1e-8, 'disp': True})"
   ]
  },
  {
   "cell_type": "code",
   "execution_count": 69,
   "metadata": {},
   "outputs": [],
   "source": [
    "#print(res.x)"
   ]
  },
  {
   "cell_type": "code",
   "execution_count": 70,
   "metadata": {},
   "outputs": [
    {
     "name": "stderr",
     "output_type": "stream",
     "text": [
      "/var/folders/px/x0b827mx07s9_8yq2xxdt9qr0000gr/T/ipykernel_4828/3822391983.py:1: OptimizeWarning: Unknown solver options: xatol\n",
      "  res2 = minimize(H_exp, initial_point, method='powell',\n"
     ]
    },
    {
     "name": "stdout",
     "output_type": "stream",
     "text": [
      "Optimization terminated successfully.\n",
      "         Current function value: 3.869690\n",
      "         Iterations: 10\n",
      "         Function evaluations: 617\n"
     ]
    }
   ],
   "source": [
    "res2 = minimize(H_exp, initial_point, method='powell',\n",
    "               options={'xatol': 1e-8, 'disp': True})"
   ]
  },
  {
   "cell_type": "code",
   "execution_count": 71,
   "metadata": {},
   "outputs": [
    {
     "name": "stdout",
     "output_type": "stream",
     "text": [
      "[ 1.58163597  2.05020712 -0.97838434  0.83319393 -0.17114888  1.0119219 ]\n"
     ]
    }
   ],
   "source": [
    "print(res2.x)"
   ]
  },
  {
   "cell_type": "code",
   "execution_count": 72,
   "metadata": {},
   "outputs": [],
   "source": [
    "#res3 = minimize(H_exp, initial_point, method='BFGS',\n",
    "#               options={'xatol': 1e-8, 'disp': True})"
   ]
  },
  {
   "cell_type": "code",
   "execution_count": 73,
   "metadata": {},
   "outputs": [],
   "source": [
    "# print(res3.x)"
   ]
  },
  {
   "cell_type": "markdown",
   "metadata": {},
   "source": []
  },
  {
   "cell_type": "markdown",
   "metadata": {},
   "source": [
    "# Test"
   ]
  },
  {
   "cell_type": "code",
   "execution_count": 78,
   "metadata": {},
   "outputs": [],
   "source": [
    "# scipy_angles = [ 3.04216996,  0.1159617,   1.58116859, -0.14672205, -0.2568175,   0.09618963] # Powell Results # Best so far\n",
    "# scipy_angles = [-0.79029085,  0.22514344,  0.22417314,  1.57542312,  0.31176522,  0.31484779] #BFGS results\n",
    "scipy_angles = [ 1.58163597,  2.05020712, -0.97838434,  0.83319393, -0.17114888,  1.0119219 ]\n",
    "scipy_results = np.reshape(vqe_form(scipy_angles).dot(fake_vac).toarray(),-1)"
   ]
  },
  {
   "cell_type": "code",
   "execution_count": 79,
   "metadata": {},
   "outputs": [],
   "source": [
    "'''qiskit_angles = np.array([-0.22747522, -0.00897031,  0.5817404 ,  0.03811703, -0.04602667,\n",
    "       -0.00888931,  2.54297371])'''\n",
    "qiskit_angles = np.array([ 0.0310549 ,  0.08593939, -0.0328307 , -0.18265392,  2.99830422,\n",
    "       -0.02271861])\n",
    "qiskit_results = np.reshape(vqe_form(qiskit_angles).dot(fake_vac).toarray(),-1)"
   ]
  },
  {
   "cell_type": "code",
   "execution_count": 81,
   "metadata": {},
   "outputs": [
    {
     "data": {
      "text/plain": [
       "<matplotlib.legend.Legend at 0x13287dd10>"
      ]
     },
     "execution_count": 81,
     "metadata": {},
     "output_type": "execute_result"
    },
    {
     "data": {
      "image/png": "[encoded data removed]",
      "text/plain": [
       "<Figure size 640x480 with 1 Axes>"
      ]
     },
     "metadata": {},
     "output_type": "display_data"
    }
   ],
   "source": [
    "plt.plot(list(range(2**nq)), scipy_results,'g.',label = 'Scipy VQE')\n",
    "plt.plot(list(range(2**nq)), -qiskit_results,'b.',label = 'Qiskit VQE')\n",
    "plt.plot(list(range(2**nq)), mathematica_result_6_SU2,'r+',label = 'Exact Diagonalization')\n",
    "plt.legend()"
   ]
  },
  {
   "cell_type": "code",
   "execution_count": 77,
   "metadata": {},
   "outputs": [],
   "source": [
    "# powell behaves the est\n",
    "# set up still different from qiskit, need to find out what's different\n",
    "# try a slightly different ansatz. Maybe add another layer of 1 qubit gates or something. "
   ]
  }
 ],
 "metadata": {
  "kernelspec": {
   "display_name": "iqus",
   "language": "python",
   "name": "python3"
  },
  "language_info": {
   "codemirror_mode": {
    "name": "ipython",
    "version": 3
   },
   "file_extension": ".py",
   "mimetype": "text/x-python",
   "name": "python",
   "nbconvert_exporter": "python",
   "pygments_lexer": "ipython3",
   "version": "3.11.5"
  }
 },
 "nbformat": 4,
 "nbformat_minor": 2
}
