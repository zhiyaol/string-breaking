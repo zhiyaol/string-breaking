{
 "cells": [
  {
   "cell_type": "markdown",
   "metadata": {},
   "source": [
    "In this version, use more matrix implementation P0YP0 P1YP1 to hopefully reduce optimization time, get a working version of VQE for scipy, and something to compare and discuss with Anthony with. (When he uses P0YP0 P1YP1, how does he then later move it to qiskit)"
   ]
  },
  {
   "cell_type": "code",
   "execution_count": 38,
   "metadata": {},
   "outputs": [],
   "source": [
    "%run SetUp.ipynb\n",
    "\n",
    "from scipy.optimize import minimize"
   ]
  },
  {
   "cell_type": "code",
   "execution_count": 39,
   "metadata": {},
   "outputs": [],
   "source": [
    "from matplotlib import pyplot as plt"
   ]
  },
  {
   "cell_type": "markdown",
   "metadata": {},
   "source": [
    "# VQE with Scipy "
   ]
  },
  {
   "cell_type": "code",
   "execution_count": 40,
   "metadata": {},
   "outputs": [],
   "source": [
    "\n",
    "# Generate Fake Vacuum\n",
    "# version that generates [[1,0,...]] and has dimension issues:  \n",
    "#fake_vac = ft.reduce(sp.sparse.kron, [[1,0]]* nq)\n",
    "\n",
    "#fake_vac = sp.sparse.csr_array(np.ndarray.flatten(ft.reduce(sp.sparse.kron, [[1,0]]* nq).toarray()))\n",
    "fake_vac =  sp.sparse.csr_array(ft.reduce(sp.sparse.kron, [[1.,0.]]* nq).toarray()).transpose()"
   ]
  },
  {
   "cell_type": "code",
   "execution_count": 41,
   "metadata": {},
   "outputs": [],
   "source": [
    "# Layers of VQE\n",
    "\n",
    "def PYP(angle):\n",
    "    n_sets = int(nq/3)\n",
    "    mat = sp.sparse.identity(2**nq)\n",
    "    angle = angle/2\n",
    "\n",
    "    for mmm in range(n_sets):\n",
    "        cc,dd,ee = (3*mmm+2)%nq,(3*mmm+3)%nq,(3*mmm+4)%nq\n",
    "        mat @= sp.sparse.linalg.expm(-1j * angle * pad_op(cc,nq,proj0) @ pad_op(dd,nq,y) @ pad_op(ee,nq,proj0))\n",
    "        mat @= sp.sparse.linalg.expm(-1j * angle * pad_op(cc,nq,proj1) @ pad_op(dd,nq,y) @ pad_op(ee,nq,proj1))\n",
    "\n",
    "    for mm in range(n_sets):\n",
    "        bb,cc,dd = (3*mm+1)%nq,(3*mm+2)%nq,(3*mm+3)%nq\n",
    "        mat @= sp.sparse.linalg.expm(-1j * angle * pad_op(bb,nq,proj0) @ pad_op(cc,nq,y) @ pad_op(dd,nq,proj0))\n",
    "        mat @= sp.sparse.linalg.expm(-1j * angle * pad_op(bb,nq,proj1) @ pad_op(cc,nq,y) @ pad_op(dd,nq,proj1))\n",
    "\n",
    "        \n",
    "    for m in range(n_sets):\n",
    "        aa,bb,cc = (3*m)%nq,(3*m+1)%nq,(3*m+2)%nq\n",
    "        mat @= sp.sparse.linalg.expm(-1j * angle * pad_op(aa,nq,proj0) @ pad_op(bb,nq,y) @ pad_op(cc,nq,proj0))\n",
    "        mat @= sp.sparse.linalg.expm(-1j * angle * pad_op(aa,nq,proj1) @ pad_op(bb,nq,y) @ pad_op(cc,nq,proj1))\n",
    "    \n",
    "\n",
    "    return mat\n"
   ]
  },
  {
   "cell_type": "code",
   "execution_count": null,
   "metadata": {},
   "outputs": [],
   "source": [
    "def vqe_form(angles,num_layers):\n",
    "    it = iter(angles)\n",
    "\n",
    "    for i in num_layers:\n",
    "    \n",
    "\n",
    "    return mat4 @ mat3 @ mat2 @ mat1"
   ]
  },
  {
   "cell_type": "code",
   "execution_count": 42,
   "metadata": {},
   "outputs": [],
   "source": [
    "\n",
    "def vqe_form(angles):\n",
    "    it = iter(angles)\n",
    "\n",
    "    '''one qubit gates layer'''\n",
    "    one_qubit_angle = next(it)\n",
    "    mat1 = single_qubit_mat(one_qubit_angle)\n",
    "\n",
    "    '''two qubit gates layer'''\n",
    "    # ZY two qubit gates have the same angle; YZ two qubit gates have the same angle;\n",
    "    ZY_angle = next(it)\n",
    "    YZ_angle = next(it)\n",
    "    mat2 = two_qubit_mat(ZY_angle,YZ_angle)\n",
    "        \n",
    "    ''' three qubit gates layer '''\n",
    "    tri_angle = next(it)\n",
    "    mat3 = three_qubit_mat(tri_angle)\n",
    "\n",
    "    '''two qubit gates layer'''\n",
    "    ZY_angle = next(it)\n",
    "    YZ_angle = next(it)\n",
    "    mat4 = two_qubit_mat(ZY_angle,YZ_angle)\n",
    "    \n",
    "    # think about what order this operates in. Want to do the single qubit layer first\n",
    "    return mat4 @ mat3 @ mat2 @ mat1"
   ]
  },
  {
   "cell_type": "code",
   "execution_count": 43,
   "metadata": {},
   "outputs": [],
   "source": [
    "# Generate a state from a set of angles\n",
    "# Calculate full Hamiltonian expectation value for this state \n",
    "# Want to minimize this expectation value\n",
    "\n",
    "Hf = sp.sparse.bsr_matrix(Hfull(nq,m,g).to_matrix())\n",
    "\n",
    "def H_exp(angles):\n",
    "    \n",
    "    state = vqe_form(angles).dot(fake_vac)\n",
    "    \n",
    "    #val = np.reshape(np.asarray(state.conjugate()),-1) @ Hf @ np.reshape(np.asarray(state),-1)\n",
    "    val = state.getH() @ Hf @ state\n",
    "    \n",
    "    return abs(val.toarray()[0][0])"
   ]
  },
  {
   "cell_type": "code",
   "execution_count": 44,
   "metadata": {},
   "outputs": [
    {
     "data": {
      "text/plain": [
       "7.48677998183973"
      ]
     },
     "execution_count": 44,
     "metadata": {},
     "output_type": "execute_result"
    }
   ],
   "source": [
    "num_params = 6\n",
    "\n",
    "initial_point = np.random.rand(num_params)\n",
    "\n",
    "H_exp(initial_point)"
   ]
  },
  {
   "cell_type": "code",
   "execution_count": 45,
   "metadata": {},
   "outputs": [],
   "source": [
    "#res = minimize(H_exp, initial_point, method='nelder-mead',\n",
    "#               options={'xatol': 1e-8, 'disp': True})"
   ]
  },
  {
   "cell_type": "code",
   "execution_count": 46,
   "metadata": {},
   "outputs": [],
   "source": [
    "#print(res.x)"
   ]
  },
  {
   "cell_type": "code",
   "execution_count": 47,
   "metadata": {},
   "outputs": [
    {
     "name": "stderr",
     "output_type": "stream",
     "text": [
      "/var/folders/px/x0b827mx07s9_8yq2xxdt9qr0000gr/T/ipykernel_4828/3822391983.py:1: OptimizeWarning: Unknown solver options: xatol\n",
      "  res2 = minimize(H_exp, initial_point, method='powell',\n"
     ]
    },
    {
     "name": "stdout",
     "output_type": "stream",
     "text": [
      "Optimization terminated successfully.\n",
      "         Current function value: 6.274370\n",
      "         Iterations: 6\n",
      "         Function evaluations: 365\n"
     ]
    }
   ],
   "source": [
    "res2 = minimize(H_exp, initial_point, method='powell',\n",
    "               options={'xatol': 1e-8, 'disp': True})"
   ]
  },
  {
   "cell_type": "code",
   "execution_count": 48,
   "metadata": {},
   "outputs": [
    {
     "name": "stdout",
     "output_type": "stream",
     "text": [
      "[1.07727453 0.23341358 0.12906907 0.70540813 0.64338931 0.69969801]\n"
     ]
    }
   ],
   "source": [
    "print(res2.x)"
   ]
  },
  {
   "cell_type": "code",
   "execution_count": 49,
   "metadata": {},
   "outputs": [],
   "source": [
    "#res3 = minimize(H_exp, initial_point, method='BFGS',\n",
    "#               options={'xatol': 1e-8, 'disp': True})"
   ]
  },
  {
   "cell_type": "code",
   "execution_count": 50,
   "metadata": {},
   "outputs": [],
   "source": [
    "# print(res3.x)"
   ]
  },
  {
   "cell_type": "markdown",
   "metadata": {},
   "source": []
  },
  {
   "cell_type": "markdown",
   "metadata": {},
   "source": [
    "# Test"
   ]
  },
  {
   "cell_type": "code",
   "execution_count": 58,
   "metadata": {},
   "outputs": [],
   "source": [
    "# scipy_angles = [ 3.04216996,  0.1159617,   1.58116859, -0.14672205, -0.2568175,   0.09618963] # Powell Results # Best so far\n",
    "# scipy_angles = [-0.79029085,  0.22514344,  0.22417314,  1.57542312,  0.31176522,  0.31484779] #BFGS results\n",
    "scipy_angles = [1.07727453, 0.23341358, 0.12906907, 0.70540813, 0.64338931, 0.69969801]\n",
    "scipy_results = np.reshape(vqe_form(scipy_angles).dot(fake_vac).toarray(),-1)"
   ]
  },
  {
   "cell_type": "code",
   "execution_count": 59,
   "metadata": {},
   "outputs": [],
   "source": [
    "'''qiskit_angles = np.array([-0.22747522, -0.00897031,  0.5817404 ,  0.03811703, -0.04602667,\n",
    "       -0.00888931,  2.54297371])'''\n",
    "qiskit_angles = np.array([ 0.0310549 ,  0.08593939, -0.0328307 , -0.18265392,  2.99830422,\n",
    "       -0.02271861])\n",
    "qiskit_results = np.reshape(vqe_form(qiskit_angles).dot(fake_vac).toarray(),-1)"
   ]
  },
  {
   "cell_type": "code",
   "execution_count": 60,
   "metadata": {},
   "outputs": [
    {
     "data": {
      "text/plain": [
       "<matplotlib.legend.Legend at 0x1326a37d0>"
      ]
     },
     "execution_count": 60,
     "metadata": {},
     "output_type": "execute_result"
    },
    {
     "data": {
      "image/png": "[encoded data removed]",
      "text/plain": [
       "<Figure size 640x480 with 1 Axes>"
      ]
     },
     "metadata": {},
     "output_type": "display_data"
    }
   ],
   "source": [
    "plt.plot(list(range(2**nq)), scipy_results,'g.',label = 'Scipy VQE')\n",
    "plt.plot(list(range(2**nq)), qiskit_results,'b.',label = 'Qiskit VQE')\n",
    "plt.plot(list(range(2**nq)), mathematica_result_6_SU2,'r+',label = 'Exact Diagonalization')\n",
    "plt.legend()"
   ]
  },
  {
   "cell_type": "code",
   "execution_count": 54,
   "metadata": {},
   "outputs": [],
   "source": [
    "# powell behaves the est\n",
    "# set up still different from qiskit, need to find out what's different\n",
    "# try a slightly different ansatz. Maybe add another layer of 1 qubit gates or something. "
   ]
  }
 ],
 "metadata": {
  "kernelspec": {
   "display_name": "iqus",
   "language": "python",
   "name": "python3"
  },
  "language_info": {
   "codemirror_mode": {
    "name": "ipython",
    "version": 3
   },
   "file_extension": ".py",
   "mimetype": "text/x-python",
   "name": "python",
   "nbconvert_exporter": "python",
   "pygments_lexer": "ipython3",
   "version": "3.11.5"
  }
 },
 "nbformat": 4,
 "nbformat_minor": 2
}
