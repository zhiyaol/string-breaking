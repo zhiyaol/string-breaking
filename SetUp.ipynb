{
 "cells": [
  {
   "cell_type": "code",
   "execution_count": 2,
   "metadata": {},
   "outputs": [],
   "source": [
    "import numpy as np\n",
    "import scipy as sp\n",
    "import math\n",
    "import functools as ft\n",
    "from qiskit.quantum_info import Statevector, SparsePauliOp, Operator\n",
    "from matplotlib import pyplot as plt"
   ]
  },
  {
   "cell_type": "markdown",
   "metadata": {},
   "source": [
    "#### Constants"
   ]
  },
  {
   "cell_type": "code",
   "execution_count": 3,
   "metadata": {},
   "outputs": [],
   "source": [
    "# Can't use m and g too big because too massive and too much coupling means the particles are not going to move. \n",
    "# It's not just their ratio that matters but also the numerical values because of the kinetic term\n",
    "\n",
    "#m = 0.5\n",
    "#g = math.sqrt(m*16/3)\n",
    "\n",
    "g = 2.\n",
    "m = 1.\n",
    "nQ = 6"
   ]
  },
  {
   "cell_type": "code",
   "execution_count": 4,
   "metadata": {},
   "outputs": [
    {
     "data": {
      "text/plain": [
       "1.632993161855452"
      ]
     },
     "execution_count": 4,
     "metadata": {},
     "output_type": "execute_result"
    }
   ],
   "source": [
    "g"
   ]
  },
  {
   "cell_type": "markdown",
   "metadata": {},
   "source": [
    "#### Helper Functions"
   ]
  },
  {
   "cell_type": "code",
   "execution_count": 7,
   "metadata": {},
   "outputs": [],
   "source": [
    "# Define the Pauli Matrices\n",
    "\n",
    "x = np.matrix([[0.,1.],[1.,0.]])\n",
    "y = np.matrix([[0.,-1j],[1j,0.]])\n",
    "z = np.matrix([[1.,0.],[0.,-1.]])\n",
    "id = sp.sparse.identity(2)\n",
    "\n",
    "proj0 = (z + id)/2.\n",
    "proj1 = (id - z)/2."
   ]
  },
  {
   "cell_type": "code",
   "execution_count": 8,
   "metadata": {},
   "outputs": [],
   "source": [
    "def ry(angle):\n",
    "    ang = angle/2\n",
    "    return np.matrix([[math.cos(ang),-math.sin(ang)],[math.sin(ang),math.cos(ang)]])"
   ]
  },
  {
   "cell_type": "code",
   "execution_count": 9,
   "metadata": {},
   "outputs": [],
   "source": [
    "# Pad operator on one qubit with identities to expand it to dimension of the full hilbert space\n",
    "# \"op\" is the 1 qubit operator. For example Pauli x or Projection\n",
    "# \"site\" is the site where the operator is to be placed\n",
    "# \"total\" is the total dimension of the full hilbert space\n",
    "\n",
    "def pad_op(site,total,op):\n",
    "    return ft.reduce(sp.sparse.kron, [sp.sparse.identity(2**(site)),op,sp.sparse.identity(2**(total-site-1))])"
   ]
  },
  {
   "cell_type": "code",
   "execution_count": null,
   "metadata": {},
   "outputs": [],
   "source": [
    "def overlap(state1,state2):\n",
    "    return np.abs(state1.conj().T @ state2)[0]"
   ]
  },
  {
   "cell_type": "markdown",
   "metadata": {},
   "source": [
    "# Construct Hamiltonian for Scipy calculations"
   ]
  },
  {
   "cell_type": "code",
   "execution_count": 10,
   "metadata": {},
   "outputs": [],
   "source": [
    "# Calculate the electric energy at each site\n",
    "\n",
    "def He_persite_scipy(nq,g,site):\n",
    "    return 3 * g**2/8 * pad_op(site,nq,proj1)"
   ]
  },
  {
   "cell_type": "code",
   "execution_count": null,
   "metadata": {},
   "outputs": [],
   "source": [
    "# Plot the electric energy at each site for all the sites\n",
    "\n",
    "def plot_E_per_site(state,nq):      # state is a csr or csc array\n",
    "    E_exps = []\n",
    "    for loc in range(nq):\n",
    "        E_exps += [(np.real(state.conj().T @ He_persite_scipy(nq,g,loc) @ state)).toarray()[0][0]] # Should be CT(state).H.state\n",
    "    plt.plot(list(range(nq)), E_exps,'b.',linestyle = \"-\", label = 'Electric Hamiltonian Expectation Value')\n",
    "    return E_exps"
   ]
  },
  {
   "cell_type": "markdown",
   "metadata": {},
   "source": [
    "# Construct the Hamiltonian for Qiskit VQE"
   ]
  },
  {
   "cell_type": "markdown",
   "metadata": {},
   "source": [
    "#### Helper Functions"
   ]
  },
  {
   "cell_type": "code",
   "execution_count": 38,
   "metadata": {},
   "outputs": [],
   "source": [
    "# Generate Pauli operators\n",
    "# \"op\" is the Pauli operator. For example Pauli x or Pauli z\n",
    "# \"loc\" is the site where the operator is to be placed\n",
    "\n",
    "def pauli_op(op,loc,nq,cons = 1):\n",
    "    operator = SparsePauliOp.from_sparse_list([(op, [loc], cons)], num_qubits = nq)\n",
    "    return operator"
   ]
  },
  {
   "cell_type": "code",
   "execution_count": 39,
   "metadata": {},
   "outputs": [],
   "source": [
    "# Generate projection operators P0 or P1 with dimension of the full hilbert space. \n",
    "# \"which\" is 0 for P0 and 1 for P1. \n",
    "# \"loc\" is the site where the projection is to be placed.\n",
    "\n",
    "def projection(which, loc, nq):\n",
    "    if which == 0:\n",
    "        operator = SparsePauliOp.from_sparse_list([(\"Z\", [loc], 1), (\"I\", [loc], 1)], num_qubits=nq)/2\n",
    "    elif which == 1:\n",
    "        operator = SparsePauliOp.from_sparse_list([(\"Z\", [loc], -1), (\"I\", [loc], 1)], num_qubits=nq)/2\n",
    "    else:\n",
    "        raise Exception(\"Type of projection operator not supported. Choose 0 or 1.\")\n",
    "    return operator"
   ]
  },
  {
   "cell_type": "markdown",
   "metadata": {},
   "source": [
    "#### Kinetic Hamiltonian"
   ]
  },
  {
   "cell_type": "code",
   "execution_count": 40,
   "metadata": {},
   "outputs": [],
   "source": [
    "def Hkin(nq):\n",
    "    \n",
    "    # Initialize \"0\" operators\n",
    "    op1 = SparsePauliOp.from_sparse_list([(\"I\", [0], 0)], num_qubits = nq)\n",
    "    op2 = SparsePauliOp.from_sparse_list([(\"I\", [0], 0)], num_qubits = nq)\n",
    "\n",
    "    for i in range(nq):\n",
    "        op1 += projection(0,i,nq).dot(pauli_op(\"X\",(i+1)%nq,nq)).dot(projection(0,(i+2)%nq,nq))\n",
    "        op2 += projection(1,i,nq).dot(pauli_op(\"X\",(i+1)%nq,nq)).dot(projection(1,(i+2)%nq,nq))\n",
    "        \n",
    "    return (math.sqrt(2)*op1/2 + op2/math.sqrt(2)/2).simplify()"
   ]
  },
  {
   "cell_type": "markdown",
   "metadata": {},
   "source": [
    "#### Mass Hamiltonian"
   ]
  },
  {
   "cell_type": "code",
   "execution_count": 41,
   "metadata": {},
   "outputs": [],
   "source": [
    "def Hm(nq,m):\n",
    "    op = SparsePauliOp.from_sparse_list([(\"I\", [0], 0)], num_qubits = nq)\n",
    "\n",
    "    for i in range(nq):\n",
    "        op += projection(0,i,nq).dot(projection(1,(i+1)%nq,nq)) + projection(1,i,nq).dot(projection(0,(i+1)%nq,nq))\n",
    "        \n",
    "    return (m*op).simplify()"
   ]
  },
  {
   "cell_type": "code",
   "execution_count": 1,
   "metadata": {},
   "outputs": [
    {
     "ename": "NameError",
     "evalue": "name 'nQ' is not defined",
     "output_type": "error",
     "traceback": [
      "\u001b[0;31m---------------------------------------------------------------------------\u001b[0m",
      "\u001b[0;31mNameError\u001b[0m                                 Traceback (most recent call last)",
      "Cell \u001b[0;32mIn[1], line 1\u001b[0m\n\u001b[0;32m----> 1\u001b[0m \u001b[38;5;28;01mdef\u001b[39;00m \u001b[38;5;21mHm_per_site\u001b[39m(site, nq \u001b[38;5;241m=\u001b[39m \u001b[43mnQ\u001b[49m,m \u001b[38;5;241m=\u001b[39m m):\n\u001b[1;32m      2\u001b[0m     \u001b[38;5;28;01mreturn\u001b[39;00m m\u001b[38;5;241m*\u001b[39m(projection(\u001b[38;5;241m0\u001b[39m,site,nq)\u001b[38;5;241m.\u001b[39mdot(projection(\u001b[38;5;241m1\u001b[39m,(site\u001b[38;5;241m+\u001b[39m\u001b[38;5;241m1\u001b[39m)\u001b[38;5;241m%\u001b[39mnq,nq)) \u001b[38;5;241m+\u001b[39m projection(\u001b[38;5;241m1\u001b[39m,site,nq)\u001b[38;5;241m.\u001b[39mdot(projection(\u001b[38;5;241m0\u001b[39m,(site\u001b[38;5;241m+\u001b[39m\u001b[38;5;241m1\u001b[39m)\u001b[38;5;241m%\u001b[39mnq,nq)))\n",
      "\u001b[0;31mNameError\u001b[0m: name 'nQ' is not defined"
     ]
    }
   ],
   "source": [
    "def Hm_persite(site, nq = nQ,m = m):\n",
    "    return m*(projection(0,site,nq).dot(projection(1,(site+1)%nq,nq)) + projection(1,site,nq).dot(projection(0,(site+1)%nq,nq)))"
   ]
  },
  {
   "cell_type": "markdown",
   "metadata": {},
   "source": [
    "#### Electric Hamiltonian"
   ]
  },
  {
   "cell_type": "code",
   "execution_count": 42,
   "metadata": {},
   "outputs": [],
   "source": [
    "def He(nq,g):\n",
    "    op = SparsePauliOp.from_sparse_list([(\"I\", [0], 0)], num_qubits = nq)\n",
    "    \n",
    "    for i in range(nq):\n",
    "        op += projection(1,i,nq) \n",
    "        \n",
    "    return (3*g**2/8*op).simplify()"
   ]
  },
  {
   "cell_type": "code",
   "execution_count": 43,
   "metadata": {},
   "outputs": [],
   "source": [
    "def He_persite(site,nq = nQ,g = g):\n",
    "    return 3 * g**2/8 * projection(1,site,nq) "
   ]
  },
  {
   "cell_type": "markdown",
   "metadata": {},
   "source": [
    "#### Full Hamiltonian with mass m and gauge coupling g"
   ]
  },
  {
   "cell_type": "code",
   "execution_count": 44,
   "metadata": {},
   "outputs": [],
   "source": [
    "def Hfull(nq,m,g):\n",
    "    return (Hkin(nq)+He(nq,g)+Hm(nq,m)).simplify()"
   ]
  },
  {
   "cell_type": "markdown",
   "metadata": {},
   "source": [
    "#### Result Handling etc.."
   ]
  },
  {
   "cell_type": "code",
   "execution_count": null,
   "metadata": {},
   "outputs": [],
   "source": [
    "def plotAmpDict(AmpDict,isprob = False):\n",
    "    if isprob == True:\n",
    "        plt.plot(list(range(2**nQ)), np.sqrt(list(AmpDict.values())),label = 'QC Simulator')\n",
    "    else: \n",
    "        plt.plot(list(range(2**nQ)), AmpDict.values(),label = 'QC Simulator')\n",
    "    plt.xlabel(\"State\", fontsize=16)\n",
    "    plt.ylabel(\"Amplitude\", fontsize=16)\n",
    "    plt.legend()\n",
    "    plt.show() "
   ]
  },
  {
   "cell_type": "code",
   "execution_count": null,
   "metadata": {},
   "outputs": [],
   "source": [
    "# This function handles results from the sampler by padding the locations with no values 0.\n",
    "# Generates a list of probabilities in order of state 0-31\n",
    "# Could also want amplitude here instead of the probability\n",
    "# keys of the dictionary are the state numbers 0-2**nQ. Would generate all 0s if the keys are bit strings. \n",
    "\n",
    "def padDict(dicta):\n",
    "    ordered_prob = []\n",
    "    for i in range(2**nQ):\n",
    "        if i in dicta.keys(): \n",
    "            ordered_prob.append(dicta[i])\n",
    "        else: ordered_prob.append(0)\n",
    "    return ordered_prob "
   ]
  },
  {
   "cell_type": "code",
   "execution_count": null,
   "metadata": {},
   "outputs": [],
   "source": [
    "def index_from_bitstring(bitstring):\n",
    "    bitstring_reversed = reversed(bitstring)\n",
    "    index = 0\n",
    "    for i,c in enumerate(bitstring_reversed):\n",
    "        if c == '1':\n",
    "            index += np.power(2, i)\n",
    "    return index\n",
    "\n",
    "# works when keys are bitstrings\n",
    "def padbitstringDict(dictaa,nq = nQ):\n",
    "    ordered_prob = [0]*2**nq\n",
    "    for item in dictaa.keys():\n",
    "        ordered_prob[index_from_bitstring(item)] = dictaa[item]\n",
    "    return ordered_prob "
   ]
  }
 ],
 "metadata": {
  "kernelspec": {
   "display_name": "iqus",
   "language": "python",
   "name": "python3"
  },
  "language_info": {
   "codemirror_mode": {
    "name": "ipython",
    "version": 3
   },
   "file_extension": ".py",
   "mimetype": "text/x-python",
   "name": "python",
   "nbconvert_exporter": "python",
   "pygments_lexer": "ipython3",
   "version": "3.11.5"
  }
 },
 "nbformat": 4,
 "nbformat_minor": 2
}
