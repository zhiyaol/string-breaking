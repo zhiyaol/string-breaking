{
 "cells": [
  {
   "cell_type": "code",
   "execution_count": 2,
   "metadata": {},
   "outputs": [],
   "source": [
    "import numpy as np\n",
    "import scipy as sp\n",
    "import math\n",
    "import functools as ft\n",
    "from qiskit.quantum_info import Statevector, SparsePauliOp, Operator"
   ]
  },
  {
   "cell_type": "markdown",
   "metadata": {},
   "source": [
    "#### Constants"
   ]
  },
  {
   "cell_type": "code",
   "execution_count": 3,
   "metadata": {},
   "outputs": [],
   "source": [
    "nq = 6\n",
    "\n",
    "g = math.sqrt(16/3)\n",
    "m = 1.0"
   ]
  },
  {
   "cell_type": "markdown",
   "metadata": {},
   "source": [
    "#### Helper Functions"
   ]
  },
  {
   "cell_type": "code",
   "execution_count": 5,
   "metadata": {},
   "outputs": [],
   "source": [
    "# Define the Pauli Matrices\n",
    "\n",
    "x = np.matrix([[0.,1.],[1.,0.]])\n",
    "y = np.matrix([[0.,-1j],[1j,0.]])\n",
    "z = np.matrix([[1.,0.],[0.,-1.]])\n",
    "id = sp.sparse.identity(2)\n",
    "\n",
    "proj0 = (z + id)/2.\n",
    "proj1 = (id - z)/2."
   ]
  },
  {
   "cell_type": "code",
   "execution_count": 54,
   "metadata": {},
   "outputs": [],
   "source": [
    "def ry(angle):\n",
    "    ang = angle/2\n",
    "    return np.matrix([[math.cos(ang),-math.sin(ang)],[math.sin(ang),math.cos(ang)]])"
   ]
  },
  {
   "cell_type": "code",
   "execution_count": 36,
   "metadata": {},
   "outputs": [],
   "source": [
    "# Pad operator on one qubit with identities to expand it to dimension of the full hilbert space\n",
    "# \"op\" is the 1 qubit operator. For example Pauli x or Projection\n",
    "\n",
    "def pad_op(site,total,op):\n",
    "    return ft.reduce(sp.sparse.kron, [sp.sparse.identity(2**(site)),op,sp.sparse.identity(2**(total-site-1))])"
   ]
  },
  {
   "cell_type": "markdown",
   "metadata": {},
   "source": [
    "## Construct the Hamiltonian for Qiskit VQE"
   ]
  },
  {
   "cell_type": "markdown",
   "metadata": {},
   "source": [
    "#### Helper Functions"
   ]
  },
  {
   "cell_type": "code",
   "execution_count": 38,
   "metadata": {},
   "outputs": [],
   "source": [
    "def pauli_op(op,loc,nq,cons = 1):\n",
    "    operator = SparsePauliOp.from_sparse_list([(op, [loc], cons)], num_qubits = nq)\n",
    "    return operator"
   ]
  },
  {
   "cell_type": "code",
   "execution_count": 39,
   "metadata": {},
   "outputs": [],
   "source": [
    "def projection(which, loc, nq):\n",
    "    if which == 0:\n",
    "        operator = SparsePauliOp.from_sparse_list([(\"Z\", [loc], 1), (\"I\", [loc], 1)], num_qubits=nq)/2\n",
    "    elif which == 1:\n",
    "        operator = SparsePauliOp.from_sparse_list([(\"Z\", [loc], -1), (\"I\", [loc], 1)], num_qubits=nq)/2\n",
    "    else:\n",
    "        raise Exception(\"Type of projection operator not supported. Choose 0 or 1.\")\n",
    "    return operator"
   ]
  },
  {
   "cell_type": "markdown",
   "metadata": {},
   "source": [
    "#### Kinetic Hamiltonian"
   ]
  },
  {
   "cell_type": "code",
   "execution_count": 40,
   "metadata": {},
   "outputs": [],
   "source": [
    "def Hkin(nq):\n",
    "    op1 = SparsePauliOp.from_sparse_list([(\"I\", [0], 0)], num_qubits = nq)\n",
    "    op2 = SparsePauliOp.from_sparse_list([(\"I\", [0], 0)], num_qubits = nq)\n",
    "\n",
    "    for i in range(nq):\n",
    "        op1 += projection(0,i,nq).dot(pauli_op(\"X\",(i+1)%nq,nq)).dot(projection(0,(i+2)%nq,nq))\n",
    "        op2 += projection(1,i,nq).dot(pauli_op(\"X\",(i+1)%nq,nq)).dot(projection(1,(i+2)%nq,nq))\n",
    "        \n",
    "    return (math.sqrt(2)*op1/2 + op2/math.sqrt(2)/2).simplify()"
   ]
  },
  {
   "cell_type": "markdown",
   "metadata": {},
   "source": [
    "#### Mass Hamiltonian"
   ]
  },
  {
   "cell_type": "code",
   "execution_count": 41,
   "metadata": {},
   "outputs": [],
   "source": [
    "def Hm(nq,m):\n",
    "    op = SparsePauliOp.from_sparse_list([(\"I\", [0], 0)], num_qubits = nq)\n",
    "\n",
    "    for i in range(nq):\n",
    "        op += projection(0,i,nq).dot(projection(1,(i+1)%nq,nq)) + projection(1,i,nq).dot(projection(0,(i+1)%nq,nq))\n",
    "        \n",
    "    return (m*op).simplify()"
   ]
  },
  {
   "cell_type": "markdown",
   "metadata": {},
   "source": [
    "#### Electric Hamiltonian"
   ]
  },
  {
   "cell_type": "code",
   "execution_count": 42,
   "metadata": {},
   "outputs": [],
   "source": [
    "def He(nq,g):\n",
    "    op = SparsePauliOp.from_sparse_list([(\"I\", [0], 0)], num_qubits = nq)\n",
    "    \n",
    "    for i in range(nq):\n",
    "        op += projection(1,i,nq) \n",
    "        \n",
    "    return (3*g**2/8*op).simplify()"
   ]
  },
  {
   "cell_type": "code",
   "execution_count": 43,
   "metadata": {},
   "outputs": [],
   "source": [
    "def He_persite(nq,g,site):\n",
    "    return 3 * g**2/8 * projection(1,site,nq) "
   ]
  },
  {
   "cell_type": "markdown",
   "metadata": {},
   "source": [
    "#### Full Hamiltonian with mass m and gauge coupling g"
   ]
  },
  {
   "cell_type": "code",
   "execution_count": 44,
   "metadata": {},
   "outputs": [],
   "source": [
    "def Hfull(nq,m,g):\n",
    "    return (Hkin(nq)+He(nq,g)+Hm(nq,m)).simplify()"
   ]
  },
  {
   "cell_type": "markdown",
   "metadata": {},
   "source": [
    "# Construct Hamiltonian for QC"
   ]
  },
  {
   "cell_type": "code",
   "execution_count": null,
   "metadata": {},
   "outputs": [],
   "source": [
    "def exp_hkin(nq):\n",
    "    pass"
   ]
  },
  {
   "cell_type": "markdown",
   "metadata": {},
   "source": [
    "# Results for comparision"
   ]
  },
  {
   "cell_type": "code",
   "execution_count": null,
   "metadata": {},
   "outputs": [],
   "source": [
    "mathematica_result_6_SU2 = [0.926236987978189, -0.1508356043909894, -0.15083560439098942, \\\n",
    "2.0171952875234895e-24, -0.15083560439098942, 0.02492649322918862, \\\n",
    "-9.16392735034103e-25, -0.0010282134934231357, -0.15083560439098942, \\\n",
    "0.024544483055220404, 0.024926493229188655, -1.0515337362205943e-23, \\\n",
    "1.4320851255807765e-19, -9.482331711350042e-21, \\\n",
    "-0.0010282134934231461, 3.1393305130601976e-22, -0.15083560439098942, \\\n",
    "0.02492649322918864, 0.024544483055220404, -8.572106456264635e-24, \\\n",
    "0.024926493229188648, -0.004181101976514036, 5.557381168626394e-24, \\\n",
    "0.0001743146145043728, -7.582277481027858e-20, 7.124424974409261e-19, \\\n",
    "5.020488570199314e-21, 5.445321829208871e-7, -0.0010282134934231392, \\\n",
    "0.00017431461450437974, -1.6621377479442697e-22, \\\n",
    "-9.773072604810025e-6, -0.15083560439098936, -4.211634526036709e-20, \\\n",
    "0.024926493229188676, -0.0010282134934231461, 0.02454448305522039, \\\n",
    "2.7886691401959976e-21, 3.113863977461585e-24, -9.23256166021131e-23, \\\n",
    "0.024926493229188613, 3.9573168184914087e-19, -0.004181101976514043, \\\n",
    "0.00017431461450436586, -1.3456092921337008e-18, \\\n",
    "5.445321828792538e-7, 0.00017431461450437974, -9.7730726048105e-6, \\\n",
    "1.1640314533079734e-19, -0.0010282134934231496, \\\n",
    "-7.707455516956854e-21, 2.551727720217199e-22, \\\n",
    "-1.0937419234995143e-18, 0.00017431461450434504, \\\n",
    "5.445321828931315e-7, -9.773072604776308e-6, -0.0010282134934233023, \\\n",
    "-1.1102230246251565e-16, 0.00017431461450423402, \\\n",
    "-9.773072604860739e-6, 6.505213034913027e-17, -9.773072604822575e-6, \\\n",
    "-9.773072604811872e-6, 1.6335965486140253e-6]"
   ]
  }
 ],
 "metadata": {
  "kernelspec": {
   "display_name": "iqus",
   "language": "python",
   "name": "python3"
  },
  "language_info": {
   "codemirror_mode": {
    "name": "ipython",
    "version": 3
   },
   "file_extension": ".py",
   "mimetype": "text/x-python",
   "name": "python",
   "nbconvert_exporter": "python",
   "pygments_lexer": "ipython3",
   "version": "3.11.5"
  }
 },
 "nbformat": 4,
 "nbformat_minor": 2
}
