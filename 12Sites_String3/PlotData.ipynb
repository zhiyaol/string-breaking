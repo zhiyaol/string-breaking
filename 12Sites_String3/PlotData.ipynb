{
 "cells": [
  {
   "cell_type": "code",
   "execution_count": 1,
   "metadata": {},
   "outputs": [],
   "source": [
    "import json\n",
    "import numpy as np\n",
    "import matplotlib.pyplot as plt\n",
    "L=12\n",
    "\n",
    "def KeyConvert(key):\n",
    "    key_dist = []\n",
    "    \n",
    "    for k in range(len(key)):\n",
    "        entry = key[len(key)-k-1]\n",
    "        if entry == '1':\n",
    "            key_dist.append(1.)\n",
    "            \n",
    "        if entry == '0':\n",
    "            key_dist.append(0.)\n",
    "    return np.array(key_dist)\n",
    "\n",
    "def MatchRex(r):\n",
    "    sym = '0'\n",
    "    if r < 0.:\n",
    "        sym = '1'\n",
    "    return sym\n",
    "\n",
    "def ReadZ(results,RexList):\n",
    "    prob_dist = np.array([0. for x in range(L)])\n",
    "    counter = 0.\n",
    "    \n",
    "    for key in results:\n",
    "        counter += results.get(key,0.)\n",
    "        prob_dist += results.get(key,0.)*(1.-2.*KeyConvert(key))*RexList\n",
    "\n",
    "    return prob_dist/ counter\n",
    "\n",
    "def ReadZZ(results,RexList):\n",
    "    prob_dist = np.array([0. for x in range(L)])\n",
    "    counter = 0.\n",
    "    \n",
    "    for key in results:\n",
    "        counter += results.get(key,0.)\n",
    "        Ze = (1.-2.*KeyConvert(key))*RexList\n",
    "        prob_dist += results.get(key,0.)*Ze * np.roll(Ze,1)\n",
    "\n",
    "    return prob_dist/ counter\n"
   ]
  },
  {
   "cell_type": "code",
   "execution_count": 2,
   "metadata": {},
   "outputs": [],
   "source": [
    "physics_results = []\n",
    "mit_results = []\n",
    "RexRecord = []\n",
    "vac_results = []\n",
    "mit_vac_results = []\n",
    "\n",
    "ElectricSim=np.load('electric_ev.npy')\n",
    "QuarkSim=np.load('quark_ev.npy')\n",
    "\n",
    "for tstep in range(1,14,1):\n",
    "    f = open(\"SU2_L12_String_step\"+str(tstep)+\"_data.json\")\n",
    "    data = json.load(f)\n",
    "    physics_results.append(data['physics_results'])\n",
    "    mit_results.append(data['mit_results'])\n",
    "    RexRecord.append(data['RexSign'])\n",
    "\n",
    "    vac_results.append(data['physics_results_r'])\n",
    "    mit_vac_results.append(data['mit_results_r'])\n",
    "\n",
    "    \n",
    "theory_mit = [1. for x in range(L)]\n",
    "StringStart = 5\n",
    "StringEnd = 8\n",
    "for x in range(StringStart,StringEnd):\n",
    "    theory_mit[x] = -1\n",
    "    \n",
    "theory_mitZZ = [1. for x in range(L)]\n",
    "theory_mitZZ[StringStart] = -1\n",
    "theory_mitZZ[StringEnd] = -1"
   ]
  },
  {
   "cell_type": "code",
   "execution_count": 3,
   "metadata": {},
   "outputs": [],
   "source": [
    "#Bootstrapped Errors\n",
    "ntwirl = len(RexRecord)\n",
    "#Prepares <Z> for the bootstrap\n",
    "physics_list = []\n",
    "mit_list = []\n",
    "\n",
    "physics_vac_list = []\n",
    "mit_vac_list = []\n",
    "\n",
    "physicsZZ_list = []\n",
    "mitZZ_list = []\n",
    "\n",
    "physicsZZ_vac_list = []\n",
    "mitZZ_vac_list = []\n",
    "\n",
    "for t in range(len(physics_results)):\n",
    "    physics_listT = []\n",
    "    mit_listT = []\n",
    "\n",
    "    physics_vac_listT = []\n",
    "    mit_vac_listT = []\n",
    "\n",
    "    physicsZZ_listT = []\n",
    "    mitZZ_listT = []\n",
    "\n",
    "    physicsZZ_vac_listT = []\n",
    "    mitZZ_vac_listT = []\n",
    "    for n in range(len(physics_results[t])):\n",
    "        physics_circuits = ReadZ(physics_results[t][n],RexRecord[t][n])\n",
    "        mitigation_circuits = theory_mit*ReadZ(mit_results[t][n],RexRecord[t][n])\n",
    "    \n",
    "        physics_listT.append(physics_circuits)\n",
    "        mit_listT.append(mitigation_circuits)\n",
    "    \n",
    "        physics_vac_circuits = ReadZ(vac_results[t][n],RexRecord[t][n])\n",
    "        mitigation_vac_circuits = ReadZ(mit_vac_results[t][n],RexRecord[t][n])\n",
    "\n",
    "        physics_vac_listT.append(physics_vac_circuits)\n",
    "        mit_vac_listT.append(mitigation_vac_circuits)\n",
    "    \n",
    "        physics_circuits = ReadZZ(physics_results[t][n],RexRecord[t][n])\n",
    "        mitigation_circuits = theory_mitZZ*ReadZZ(mit_results[t][n],RexRecord[t][n])\n",
    "        physicsZZ_listT.append(physics_circuits)\n",
    "        mitZZ_listT.append(mitigation_circuits)\n",
    "    \n",
    "        physics_vac_circuits = ReadZZ(vac_results[t][n],RexRecord[t][n])\n",
    "        mitigation_vac_circuits = ReadZZ(mit_vac_results[t][n],RexRecord[t][n])\n",
    "\n",
    "        physicsZZ_vac_listT.append(physics_vac_circuits)\n",
    "        mitZZ_vac_listT.append(mitigation_vac_circuits)\n",
    "        \n",
    "    physics_list.append(physics_listT)\n",
    "    mit_list.append(mit_listT)\n",
    "    \n",
    "    physics_vac_list.append(physics_vac_listT)\n",
    "    mit_vac_list.append(mit_vac_listT)\n",
    "    \n",
    "    physicsZZ_list.append(physicsZZ_listT)\n",
    "    mitZZ_list.append(mitZZ_listT)\n",
    "    \n",
    "    physicsZZ_vac_list.append(physicsZZ_vac_listT)\n",
    "    mitZZ_vac_list.append(mitZZ_vac_listT)"
   ]
  },
  {
   "cell_type": "code",
   "execution_count": 4,
   "metadata": {},
   "outputs": [
    {
     "name": "stderr",
     "output_type": "stream",
     "text": [
      "<ipython-input-4-b4340763fccc>:28: RuntimeWarning: divide by zero encountered in divide\n",
      "  return PhysSample / MitSample\n"
     ]
    }
   ],
   "source": [
    "#Computes <Z> errors with correlated bootstrap\n",
    "import random\n",
    "NBoot = 2000\n",
    "\n",
    "PSub = []\n",
    "PSubErr = []\n",
    "\n",
    "QSub = []\n",
    "QSubErr = []\n",
    "\n",
    "TotalQ = []\n",
    "TotalQErr = []\n",
    "\n",
    "def BootSample(physlist,mitlist):\n",
    "    nsample = len(physlist)\n",
    "    tcircuit = random.randint(0,nsample-1)\n",
    "    PhysSample = np.copy(physlist[tcircuit])\n",
    "    MitSample = np.copy(mitlist[tcircuit])\n",
    "\n",
    "    for n in range(nsample - 1):\n",
    "        tcircuit = random.randint(0,nsample-1)\n",
    "        PhysSample += physlist[tcircuit]\n",
    "        MitSample += mitlist[tcircuit]\n",
    "        \n",
    "    PhysSample = PhysSample / nsample\n",
    "    MitSample = MitSample / nsample\n",
    "    \n",
    "    return PhysSample / MitSample\n",
    "    \n",
    "for t in range(len(physics_list)):\n",
    "    PSubLT = []\n",
    "    QSubLT = []\n",
    "    QTotalT = []\n",
    "    for b in range(NBoot):    \n",
    "        deco_boot = BootSample(physics_list[t],mit_list[t])\n",
    "        deco_vac_boot = BootSample(physics_vac_list[t],mit_vac_list[t])\n",
    "    \n",
    "        \n",
    "        #'''\n",
    "        for x in range(L):\n",
    "            if deco_boot[x] > 1.:\n",
    "                deco_boot[x] = 1.\n",
    "            if deco_vac_boot[x] > 1.:\n",
    "                deco_vac_boot[x] = 1.\n",
    "            \n",
    "            if deco_boot[x] < -1.:\n",
    "                deco_boot[x] = -1.\n",
    "            if deco_vac_boot[x] < -1.:\n",
    "                deco_vac_boot[x] = -1.\n",
    "        #'''\n",
    "        \n",
    "        PSubLT.append(-0.5*(deco_boot - deco_vac_boot))\n",
    "        #PSubLT.append(-0.5*(deco_boot - 1.))\n",
    "    \n",
    "        deco_bootZZ = BootSample(physicsZZ_list[t],mitZZ_list[t])\n",
    "        deco_vac_bootZZ = BootSample(physicsZZ_vac_list[t],mitZZ_vac_list[t])\n",
    "    \n",
    "        #'''\n",
    "        for x in range(L):\n",
    "            if deco_bootZZ[x] > 1.:\n",
    "                deco_bootZZ[x] = 1.\n",
    "            if deco_vac_bootZZ[x] > 1.:\n",
    "                deco_vac_bootZZ[x] = 1.\n",
    "            \n",
    "            if deco_bootZZ[x] < -1.:\n",
    "                deco_bootZZ[x] = -1.\n",
    "            if deco_vac_bootZZ[x] < -1.:\n",
    "                deco_vac_bootZZ[x] = -1.\n",
    "        #'''\n",
    "        QSubLT.append(0.5*(deco_vac_bootZZ-deco_bootZZ))\n",
    "        #QSubLT.append(0.5*(1.-deco_bootZZ))\n",
    "        QTotalT.append(np.sum(0.5*(deco_vac_bootZZ-deco_bootZZ)/2))\n",
    "\n",
    "    PSubT = np.mean(PSubLT,axis=0)\n",
    "    PErrT = np.std(PSubLT,axis=0)\n",
    "        \n",
    "    QSubT = np.mean(QSubLT,axis=0)\n",
    "    QErrT = np.std(QSubLT,axis=0)\n",
    "    \n",
    "    PSub.append(PSubT)\n",
    "    PSubErr.append(PErrT)\n",
    "    \n",
    "    QSub.append(QSubT)\n",
    "    QSubErr.append(QErrT)\n",
    "    \n",
    "    TotalQ.append(np.mean(QTotalT))\n",
    "    TotalQErr.append(np.std(QTotalT))"
   ]
  },
  {
   "cell_type": "code",
   "execution_count": 5,
   "metadata": {},
   "outputs": [
    {
     "data": {
      "text/plain": [
       "<matplotlib.legend.Legend at 0x2cbfbe32ee0>"
      ]
     },
     "execution_count": 5,
     "metadata": {},
     "output_type": "execute_result"
    },
    {
     "data": {
      "image/png": "[encoded data removed]",
      "text/plain": [
       "<Figure size 432x288 with 1 Axes>"
      ]
     },
     "metadata": {
      "needs_background": "light"
     },
     "output_type": "display_data"
    }
   ],
   "source": [
    "t=7\n",
    "plt.errorbar([x for x in range(L)],PSub[t],xerr=None,yerr=PSubErr[t],label='ibm_torino')\n",
    "plt.plot(ElectricSim[t], label=\"Ideal\")\n",
    "plt.xlabel('x')\n",
    "plt.ylabel('Meson Probabilty')\n",
    "plt.legend()\n",
    "#plt.savefig('string_break_torino_12steps_rot.png')"
   ]
  },
  {
   "cell_type": "code",
   "execution_count": 6,
   "metadata": {},
   "outputs": [
    {
     "data": {
      "text/plain": [
       "<matplotlib.legend.Legend at 0x2cbfbf3ceb0>"
      ]
     },
     "execution_count": 6,
     "metadata": {},
     "output_type": "execute_result"
    },
    {
     "data": {
      "image/png": "[encoded data removed]",
      "text/plain": [
       "<Figure size 432x288 with 1 Axes>"
      ]
     },
     "metadata": {
      "needs_background": "light"
     },
     "output_type": "display_data"
    }
   ],
   "source": [
    "plt.errorbar([x for x in range(L)],QSub[t],xerr=None,yerr=QSubErr[t],label='ibm_torino')\n",
    "plt.plot(QuarkSim[t], label=\"Ideal\")\n",
    "plt.xlabel('x')\n",
    "plt.ylabel('Quark Probabilty')\n",
    "plt.legend()"
   ]
  },
  {
   "cell_type": "code",
   "execution_count": 7,
   "metadata": {},
   "outputs": [
    {
     "data": {
      "text/plain": [
       "<matplotlib.image.AxesImage at 0x2cbfbfb1700>"
      ]
     },
     "execution_count": 7,
     "metadata": {},
     "output_type": "execute_result"
    },
    {
     "data": {
      "image/png": "[encoded data removed]",
      "text/plain": [
       "<Figure size 432x288 with 1 Axes>"
      ]
     },
     "metadata": {
      "needs_background": "light"
     },
     "output_type": "display_data"
    }
   ],
   "source": [
    "dt=0.5\n",
    "NStep=12\n",
    "plt.imshow(ElectricSim,cmap='rainbow',extent=[0,L,dt*NStep*2,0])"
   ]
  },
  {
   "cell_type": "code",
   "execution_count": 8,
   "metadata": {},
   "outputs": [
    {
     "data": {
      "text/plain": [
       "<matplotlib.image.AxesImage at 0x2cbfefaa5e0>"
      ]
     },
     "execution_count": 8,
     "metadata": {},
     "output_type": "execute_result"
    },
    {
     "data": {
      "image/png": "[encoded data removed]",
      "text/plain": [
       "<Figure size 432x288 with 1 Axes>"
      ]
     },
     "metadata": {
      "needs_background": "light"
     },
     "output_type": "display_data"
    }
   ],
   "source": [
    "plt.imshow(PSub,cmap='rainbow',extent=[0,L,dt*NStep*2,0])"
   ]
  },
  {
   "cell_type": "code",
   "execution_count": 9,
   "metadata": {},
   "outputs": [
    {
     "data": {
      "text/plain": [
       "<matplotlib.image.AxesImage at 0x2cbfeffc7c0>"
      ]
     },
     "execution_count": 9,
     "metadata": {},
     "output_type": "execute_result"
    },
    {
     "data": {
      "image/png": "[encoded data removed]",
      "text/plain": [
       "<Figure size 432x288 with 1 Axes>"
      ]
     },
     "metadata": {
      "needs_background": "light"
     },
     "output_type": "display_data"
    }
   ],
   "source": [
    "plt.imshow(QuarkSim,cmap='rainbow',extent=[0,L,dt*NStep*2,0])"
   ]
  },
  {
   "cell_type": "code",
   "execution_count": 10,
   "metadata": {},
   "outputs": [
    {
     "data": {
      "text/plain": [
       "<matplotlib.image.AxesImage at 0x2cbff04ea90>"
      ]
     },
     "execution_count": 10,
     "metadata": {},
     "output_type": "execute_result"
    },
    {
     "data": {
      "image/png": "[encoded data removed]",
      "text/plain": [
       "<Figure size 432x288 with 1 Axes>"
      ]
     },
     "metadata": {
      "needs_background": "light"
     },
     "output_type": "display_data"
    }
   ],
   "source": [
    "plt.imshow(QSub,cmap='rainbow',extent=[0,L,dt*NStep*2,0])"
   ]
  },
  {
   "cell_type": "code",
   "execution_count": 12,
   "metadata": {},
   "outputs": [
    {
     "data": {
      "text/plain": [
       "<matplotlib.legend.Legend at 0x2cbff0f8520>"
      ]
     },
     "execution_count": 12,
     "metadata": {},
     "output_type": "execute_result"
    },
    {
     "data": {
      "image/png": "[encoded data removed]",
      "text/plain": [
       "<Figure size 432x288 with 1 Axes>"
      ]
     },
     "metadata": {
      "needs_background": "light"
     },
     "output_type": "display_data"
    }
   ],
   "source": [
    "TotalQSim = [np.sum(QuarkSim[t])/2 for t in range(len(QuarkSim))]\n",
    "plt.errorbar([x for x in range(len(TotalQ))],TotalQ,xerr=None,yerr=TotalQErr,label='ibm_torino')\n",
    "plt.plot([x for x in range(len(TotalQSim))],TotalQSim,label='Classical')\n",
    "plt.ylim([0.8,2.5])\n",
    "plt.legend()"
   ]
  },
  {
   "cell_type": "code",
   "execution_count": null,
   "metadata": {},
   "outputs": [],
   "source": []
  }
 ],
 "metadata": {
  "kernelspec": {
   "display_name": "Python 3",
   "language": "python",
   "name": "python3"
  },
  "language_info": {
   "codemirror_mode": {
    "name": "ipython",
    "version": 3
   },
   "file_extension": ".py",
   "mimetype": "text/x-python",
   "name": "python",
   "nbconvert_exporter": "python",
   "pygments_lexer": "ipython3",
   "version": "3.8.5"
  }
 },
 "nbformat": 4,
 "nbformat_minor": 4
}
