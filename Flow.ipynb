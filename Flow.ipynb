{
 "cells": [
  {
   "cell_type": "code",
   "execution_count": 2,
   "metadata": {},
   "outputs": [],
   "source": [
    "%run SetUp.ipynb"
   ]
  },
  {
   "cell_type": "code",
   "execution_count": 3,
   "metadata": {},
   "outputs": [],
   "source": [
    "angles_from_vqe = np.array([ 0.0310549 ,  0.08593939, -0.0328307 , -0.18265392,  2.99830422,\n",
    "       -0.02271861])"
   ]
  },
  {
   "cell_type": "markdown",
   "metadata": {},
   "source": [
    "# Classical Calculation"
   ]
  },
  {
   "cell_type": "code",
   "execution_count": 16,
   "metadata": {},
   "outputs": [],
   "source": [
    "\n",
    "# Generate Fake Vacuum\n",
    "fake_vac = np.ndarray.flatten(ft.reduce(sp.sparse.kron, [[1,0]]* nq).toarray())\n"
   ]
  },
  {
   "cell_type": "code",
   "execution_count": null,
   "metadata": {},
   "outputs": [],
   "source": [
    "\n",
    "# Turn on 3 links in the middle\n",
    "def activate(init):\n",
    "    if nq <= 5: raise Exception (\" Size of system too small. Operate on number of qubits >= 6\")\n",
    "    loc = (nq-5) // 2\n",
    "\n",
    "    act_mat = pad_op(loc, nq, sp.linalg.expm(ft.reduce(sp.sparse.krom,[proj0,x,x,x,proj0])),5) # needs change\n",
    "    \n",
    "    return act_mat.dot(init)\n",
    "    \n",
    "# Unitary evolution on any initial with angles found in VQE1 to establish true vaccum\n",
    "def true_vac(init):\n",
    "    vqe_form(angles_from_vqe).dot(fake_vac)\n",
    "\n",
    "# Initialize State\n",
    "initial = true_vac(activate(fake_vac))"
   ]
  },
  {
   "cell_type": "code",
   "execution_count": null,
   "metadata": {},
   "outputs": [],
   "source": [
    "# Time evolution. Evolve with e^(-iHt)\n",
    "\n",
    "t = 5\n",
    "final_state = sp.linalg.expm(-1j * Ham * t).dot(initial)"
   ]
  },
  {
   "cell_type": "code",
   "execution_count": null,
   "metadata": {},
   "outputs": [],
   "source": [
    "# Plot State to check evolution results. Want to evolve to maximize using the available classical qubits \n",
    "plt.plot(list(range(2**nq)),initial,label = 'Initial')\n",
    "plt.plot(list(range(2**nq)),final_state,label = 'Final')"
   ]
  },
  {
   "cell_type": "markdown",
   "metadata": {},
   "source": [
    "# Move to QC"
   ]
  },
  {
   "cell_type": "code",
   "execution_count": null,
   "metadata": {},
   "outputs": [],
   "source": [
    "nQ = 100"
   ]
  },
  {
   "cell_type": "code",
   "execution_count": null,
   "metadata": {},
   "outputs": [],
   "source": [
    "# VQE2 to learn how to prepare the state generated above on the smaller number of qubits"
   ]
  },
  {
   "cell_type": "code",
   "execution_count": null,
   "metadata": {},
   "outputs": [],
   "source": [
    "# Use VQE1 results to prepare the 100 qubit QC to vacuum state\n",
    "\n",
    "full_cir = one_layer(nQ, angles_from_vqe)\n",
    "\n",
    "testcir = Statevector.from_int(0, 2**nQ)\n",
    "testcir = testcir.evolve(test)\n",
    "#results = testcir.probabilities_dict()\n",
    "results = np.real(testcir.data)\n",
    "\n",
    "plt.plot(list(range(2**nQ)), results,'b.',label = 'VQE 1 layer')"
   ]
  },
  {
   "cell_type": "code",
   "execution_count": null,
   "metadata": {},
   "outputs": [],
   "source": [
    "# Put the smaller evolved state on to QC"
   ]
  },
  {
   "cell_type": "code",
   "execution_count": null,
   "metadata": {},
   "outputs": [],
   "source": [
    "# Time evolution to the extend of QC available depth\n",
    "# e^iHt needs to be redefined in gates form and Trotterized "
   ]
  }
 ],
 "metadata": {
  "kernelspec": {
   "display_name": "iqus",
   "language": "python",
   "name": "python3"
  },
  "language_info": {
   "codemirror_mode": {
    "name": "ipython",
    "version": 3
   },
   "file_extension": ".py",
   "mimetype": "text/x-python",
   "name": "python",
   "nbconvert_exporter": "python",
   "pygments_lexer": "ipython3",
   "version": "3.11.5"
  }
 },
 "nbformat": 4,
 "nbformat_minor": 2
}
