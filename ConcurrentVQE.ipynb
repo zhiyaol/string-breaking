{
 "cells": [
  {
   "cell_type": "markdown",
   "metadata": {},
   "source": [
    "In this version, use Anthony's set up for P0YP0 P1YP1, and implement concurrent VQE"
   ]
  },
  {
   "cell_type": "code",
   "execution_count": 311,
   "metadata": {},
   "outputs": [],
   "source": [
    "%run SetUp.ipynb\n",
    "\n",
    "from scipy.optimize import minimize"
   ]
  },
  {
   "cell_type": "code",
   "execution_count": 312,
   "metadata": {},
   "outputs": [],
   "source": [
    "import cmath"
   ]
  },
  {
   "cell_type": "code",
   "execution_count": 355,
   "metadata": {},
   "outputs": [],
   "source": [
    "nQ = 6\n",
    "LL = nQ"
   ]
  },
  {
   "cell_type": "markdown",
   "metadata": {},
   "source": [
    "## Define VQE form"
   ]
  },
  {
   "cell_type": "code",
   "execution_count": 333,
   "metadata": {},
   "outputs": [],
   "source": [
    "# VQE\n",
    "# \"state\" is the state PYP acts on. Implementing this way to not have to generate an entire matrix and save running time. \n",
    "# odd layer theta0*POYPO theta1*P1YP1 then even layer\n",
    "\n",
    "def PYP(angle1,angle2, nq,state):\n",
    "    n_sets = int(nq/2)\n",
    "    for mm in range(n_sets):\n",
    "        bb,cc,dd = (2*mm+1)%nq,(2*mm+2)%nq,(2*mm+3)%nq\n",
    "        state = sp.sparse.linalg.expm_multiply(-1j * angle1 * pad_op(bb,nq,proj0) @ pad_op(cc,nq,y) @ pad_op(dd,nq,proj0),state) \n",
    "        state = sp.sparse.linalg.expm_multiply(-1j * angle2 * pad_op(bb,nq,proj1) @ pad_op(cc,nq,y) @ pad_op(dd,nq,proj1),state)\n",
    "    for m in range(n_sets):\n",
    "        aa,bb,cc = (2*m)%nq,(2*m+1)%nq,(2*m+2)%nq\n",
    "        state =  sp.sparse.linalg.expm_multiply(-1j * angle1 * pad_op(aa,nq,proj0) @ pad_op(bb,nq,y) @ pad_op(cc,nq,proj0),state)\n",
    "        state =  sp.sparse.linalg.expm_multiply(-1j * angle2 * pad_op(aa,nq,proj1) @ pad_op(bb,nq,y) @ pad_op(cc,nq,proj1),state)\n",
    "    return state\n"
   ]
  },
  {
   "cell_type": "code",
   "execution_count": 334,
   "metadata": {},
   "outputs": [],
   "source": [
    "\n",
    "# Generate Fake Vacuum\n",
    "# version that generates [[1,0,...]] and has dimension issues:  \n",
    "#  fake_vac = ft.reduce(sp.sparse.kron, [[1,0]]* nq)\n",
    "\n",
    "#fake_vac = sp.sparse.csr_array(np.ndarray.flatten(ft.reduce(sp.sparse.kron, [[1,0]]* nq).toarray()))\n",
    "\n",
    "def fake_vac(nq):\n",
    "    return sp.sparse.csr_array(ft.reduce(sp.sparse.kron, [[1.,0.]]* nq).toarray(),dtype = np.cfloat).transpose()"
   ]
  },
  {
   "cell_type": "markdown",
   "metadata": {},
   "source": [
    "## Set up function to minimize and initial points"
   ]
  },
  {
   "cell_type": "code",
   "execution_count": 358,
   "metadata": {},
   "outputs": [],
   "source": [
    "num_params = 2\n",
    "fake_vac_nQ = fake_vac(nQ) # predefine to save runtime"
   ]
  },
  {
   "cell_type": "code",
   "execution_count": 336,
   "metadata": {},
   "outputs": [],
   "source": [
    "\n",
    "# activate 1 site. \n",
    "\n",
    "def activate1(init,loc,nq): # init is a function of nq, init(nq) is a state, loc is which link is activated\n",
    "    #P0XP0 = math.pi/2* ft.reduce(sp.sparse.kron,[proj0,x,proj0])\n",
    "    act_mat =ft.reduce(sp.sparse.kron, [sp.sparse.identity(2**(loc)),x,sp.sparse.identity(2**(nq-loc-1))]) \n",
    "    return act_mat @ init(nq)"
   ]
  },
  {
   "cell_type": "markdown",
   "metadata": {},
   "source": [
    "#### Concurrent VQE"
   ]
  },
  {
   "cell_type": "code",
   "execution_count": 337,
   "metadata": {},
   "outputs": [],
   "source": [
    "import h5py"
   ]
  },
  {
   "cell_type": "code",
   "execution_count": 357,
   "metadata": {},
   "outputs": [],
   "source": [
    "# for 6 qubits\n",
    "# with h5py.File('/Users/zhiyaoli/IQuS Dropbox/Zhiyao Li/String Breaking/Data/eigenstates.h5', 'r') as f:\n",
    "\n",
    "# for 8 qubits # we are not doing VQE for 20 qubits\n",
    "with h5py.File('/Users/zhiyaoli/IQuS Dropbox/Zhiyao Li/String Breaking/Data/eigenstates.h5', 'r') as f:\n",
    "    data = f['Dataset1'][:]"
   ]
  },
  {
   "cell_type": "code",
   "execution_count": 339,
   "metadata": {},
   "outputs": [
    {
     "data": {
      "text/plain": [
       "(15, 16384)"
      ]
     },
     "execution_count": 339,
     "metadata": {},
     "output_type": "execute_result"
    }
   ],
   "source": [
    "data.shape"
   ]
  },
  {
   "cell_type": "code",
   "execution_count": 361,
   "metadata": {},
   "outputs": [],
   "source": [
    "meson_p_full = []\n",
    "\n",
    "for i in range(len(data)-1):\n",
    "    real_part = data[i][\"Re\"]\n",
    "    imag_part = data[i][\"Im\"]\n",
    "    complex_data = real_part + 1j * imag_part\n",
    "    meson_p_full.append(complex_data)\n",
    "\n",
    "real_part = data[-1][\"Re\"]\n",
    "imag_part = data[-1][\"Im\"]\n",
    "vac_full = real_part + 1j * imag_part    "
   ]
  },
  {
   "cell_type": "code",
   "execution_count": 341,
   "metadata": {},
   "outputs": [],
   "source": [
    "p_list = [(2*math.pi/LL)*(index+1) -math.pi for index in range(nQ)]"
   ]
  },
  {
   "cell_type": "code",
   "execution_count": 342,
   "metadata": {},
   "outputs": [
    {
     "data": {
      "text/plain": [
       "0.0"
      ]
     },
     "execution_count": 342,
     "metadata": {},
     "output_type": "execute_result"
    }
   ],
   "source": [
    "p_list[int(LL/2)-1]"
   ]
  },
  {
   "cell_type": "code",
   "execution_count": 343,
   "metadata": {},
   "outputs": [],
   "source": [
    "### Define cost function to maximize state fidelities for Concurrent VQE\n",
    "\n",
    "LL = nQ # 2L = nQ\n",
    "# vac_full and meson_p_full are the eigenstates of the full Hamiltonian.\n",
    "\n",
    "def cost_func(angles):\n",
    "    angle1, angle2 = angles[0], angles[1]    \n",
    "    \n",
    "    vac_state = PYP(angle1,angle2,nQ,fake_vac_nQ) \n",
    "    \n",
    "    meson_overlap = 0\n",
    "    for index in range(LL): # p goes from -Pi*(l-1)/L to Pi\n",
    "       # if index == int(LL/2)-1: # skipping the p = 0 case\n",
    "       #     continue\n",
    "        \n",
    "        p = p_list[index]\n",
    "        \n",
    "        # Sum over x to get |p>\n",
    "        mesons = sp.sparse.csr_array(ft.reduce(sp.sparse.kron, [[0.,0.]]* nQ).toarray(), dtype = np.cfloat).transpose()\n",
    "        for xx in range(nQ):\n",
    "            meson_state = activate1(fake_vac,xx,nQ)\n",
    "            mesons += cmath.exp(1j*p*xx) * meson_state\n",
    "            \n",
    "        meson_p = PYP(angle1,angle2,nQ,mesons/math.sqrt(LL)) \n",
    "        meson_overlap += overlap(meson_p_full[index],meson_p)**2\n",
    "    \n",
    "    return 1-(overlap(vac_full,vac_state)**2 + meson_overlap)"
   ]
  },
  {
   "cell_type": "code",
   "execution_count": 344,
   "metadata": {},
   "outputs": [],
   "source": [
    "initial_point = np.random.rand(num_params)"
   ]
  },
  {
   "cell_type": "code",
   "execution_count": 345,
   "metadata": {},
   "outputs": [
    {
     "data": {
      "text/plain": [
       "-4.66579285513168"
      ]
     },
     "execution_count": 345,
     "metadata": {},
     "output_type": "execute_result"
    }
   ],
   "source": [
    "cost_func(initial_point)"
   ]
  },
  {
   "cell_type": "code",
   "execution_count": 346,
   "metadata": {},
   "outputs": [
    {
     "data": {
      "text/plain": [
       "-2.8776396292794346"
      ]
     },
     "execution_count": 346,
     "metadata": {},
     "output_type": "execute_result"
    }
   ],
   "source": [
    "cost_func([0.17805,0.0795])"
   ]
  },
  {
   "cell_type": "code",
   "execution_count": 347,
   "metadata": {},
   "outputs": [
    {
     "data": {
      "text/plain": [
       "-12.984998923558171"
      ]
     },
     "execution_count": 347,
     "metadata": {},
     "output_type": "execute_result"
    }
   ],
   "source": [
    "cost_func([-0.17923051, -0.10247442])"
   ]
  },
  {
   "cell_type": "code",
   "execution_count": 348,
   "metadata": {},
   "outputs": [
    {
     "data": {
      "text/plain": [
       "array([0.12558217, 0.73550113])"
      ]
     },
     "execution_count": 348,
     "metadata": {},
     "output_type": "execute_result"
    }
   ],
   "source": [
    "initial_point"
   ]
  },
  {
   "cell_type": "markdown",
   "metadata": {},
   "source": [
    "## Run VQE"
   ]
  },
  {
   "cell_type": "markdown",
   "metadata": {},
   "source": [
    "#### nelder-mead"
   ]
  },
  {
   "cell_type": "code",
   "execution_count": 330,
   "metadata": {},
   "outputs": [
    {
     "name": "stdout",
     "output_type": "stream",
     "text": [
      "Optimization terminated successfully.\n",
      "         Current function value: -10.987846\n",
      "         Iterations: 81\n",
      "         Function evaluations: 164\n"
     ]
    }
   ],
   "source": [
    "res = minimize(cost_func, initial_point, method='nelder-mead',\n",
    "               options={'xatol': 1e-8, 'disp': True})"
   ]
  },
  {
   "cell_type": "code",
   "execution_count": 331,
   "metadata": {},
   "outputs": [
    {
     "name": "stdout",
     "output_type": "stream",
     "text": [
      "[-0.17871452 -0.10364305]\n"
     ]
    }
   ],
   "source": [
    "print(res.x)"
   ]
  },
  {
   "cell_type": "markdown",
   "metadata": {},
   "source": [
    "#### powell"
   ]
  },
  {
   "cell_type": "code",
   "execution_count": 349,
   "metadata": {},
   "outputs": [
    {
     "name": "stdout",
     "output_type": "stream",
     "text": [
      "Optimization terminated successfully.\n",
      "         Current function value: -12.985062\n",
      "         Iterations: 3\n",
      "         Function evaluations: 90\n"
     ]
    }
   ],
   "source": [
    "res2 = minimize(cost_func, initial_point, method='powell',\n",
    "               options={'disp': True})"
   ]
  },
  {
   "cell_type": "code",
   "execution_count": 350,
   "metadata": {},
   "outputs": [
    {
     "name": "stdout",
     "output_type": "stream",
     "text": [
      "[-0.17853036 -0.10245756]\n"
     ]
    }
   ],
   "source": [
    "print(res2.x)"
   ]
  },
  {
   "cell_type": "markdown",
   "metadata": {},
   "source": [
    "#### BFGS"
   ]
  },
  {
   "cell_type": "code",
   "execution_count": 275,
   "metadata": {},
   "outputs": [
    {
     "name": "stdout",
     "output_type": "stream",
     "text": [
      "         Current function value: 10.006849\n",
      "         Iterations: 10\n",
      "         Function evaluations: 42\n",
      "         Gradient evaluations: 14\n"
     ]
    },
    {
     "name": "stderr",
     "output_type": "stream",
     "text": [
      "/Users/zhiyaoli/anaconda3/envs/iqus/lib/python3.11/site-packages/scipy/optimize/_minimize.py:705: OptimizeWarning: Desired error not necessarily achieved due to precision loss.\n",
      "  res = _minimize_bfgs(fun, x0, args, jac, callback, **options)\n"
     ]
    }
   ],
   "source": [
    "res3 = minimize(cost_func,initial_point, method='BFGS', tol = 1e-8,\n",
    "               options={'disp': True})\n",
    "\n",
    "# tol = 1e-8,\n",
    "# xatol = 1e-8,"
   ]
  },
  {
   "cell_type": "code",
   "execution_count": 276,
   "metadata": {},
   "outputs": [
    {
     "name": "stdout",
     "output_type": "stream",
     "text": [
      "[-0.17939731 -0.10569839]\n"
     ]
    }
   ],
   "source": [
    "print(res3.x)"
   ]
  },
  {
   "cell_type": "markdown",
   "metadata": {},
   "source": [
    "## Test"
   ]
  },
  {
   "cell_type": "markdown",
   "metadata": {},
   "source": [
    "#### Concurrent VQE check"
   ]
  },
  {
   "cell_type": "code",
   "execution_count": 363,
   "metadata": {},
   "outputs": [],
   "source": [
    "scipy_angles = [-0.17939731, -0.10569839]\n",
    "scipy_results = np.reshape(PYP(0.17939731, 0.10569839,nQ,fake_vac_nQ).toarray(),-1)"
   ]
  },
  {
   "cell_type": "code",
   "execution_count": 364,
   "metadata": {},
   "outputs": [
    {
     "data": {
      "text/plain": [
       "<matplotlib.legend.Legend at 0x14a33a4d0>"
      ]
     },
     "execution_count": 364,
     "metadata": {},
     "output_type": "execute_result"
    },
    {
     "data": {
      "image/png": "[encoded data removed]",
      "text/plain": [
       "<Figure size 640x480 with 1 Axes>"
      ]
     },
     "metadata": {},
     "output_type": "display_data"
    }
   ],
   "source": [
    "plt.plot(list(range(2**nQ)), scipy_results,'g.',label = 'Scipy VQE')\n",
    "plt.plot(list(range(2**nQ)),-vac_full,'r+',label = 'Exact Diagonalization')\n",
    "plt.legend()"
   ]
  },
  {
   "cell_type": "code",
   "execution_count": 285,
   "metadata": {},
   "outputs": [
    {
     "name": "stdout",
     "output_type": "stream",
     "text": [
      "index: 0 , Overlap 0.999115660104633, p: -2.356194490192345\n",
      "index: 1 , Overlap 0.9998577811240188, p: -1.5707963267948966\n",
      "index: 2 , Overlap 0.9985772107568545, p: -0.7853981633974483\n",
      "index: 3 , Overlap 2.2582938417334174e-05, p: 0.0\n",
      "index: 4 , Overlap 0.9985772107568545, p: 0.7853981633974483\n",
      "index: 5 , Overlap 0.9998577811240188, p: 1.5707963267948966\n",
      "index: 6 , Overlap 0.999115660104633, p: 2.356194490192345\n",
      "index: 7 , Overlap 0.9981374166933965, p: 3.141592653589793\n"
     ]
    }
   ],
   "source": [
    "for index in range(nQ):\n",
    "    mesons = sp.sparse.csr_array(ft.reduce(sp.sparse.kron, [[0.,0.]]* nQ).toarray()).transpose()\n",
    "    p = p_list[index]\n",
    "    for xx in range(nQ):\n",
    "        meson_state = activate1(fake_vac,xx,nQ)\n",
    "        mesons += cmath.exp(1j*p*xx) * meson_state\n",
    "    meson_p = PYP(-0.17929116, -0.1060088,nQ,mesons/math.sqrt(LL)) \n",
    "    print(f\"index: {index} , Overlap {overlap(meson_p_full[index],meson_p)**2}, p: {p}\")"
   ]
  },
  {
   "cell_type": "code",
   "execution_count": 286,
   "metadata": {},
   "outputs": [],
   "source": [
    "def get_meson_p_prob(index):\n",
    "    p = p_list[index]\n",
    "    mesons = sp.sparse.csr_array(ft.reduce(sp.sparse.kron, [[0.,0.]]* nQ).toarray()).transpose()\n",
    "    for xx in range(nQ):\n",
    "        meson_state = activate1(fake_vac,xx,nQ)\n",
    "        mesons += cmath.exp(1j*p*xx) * meson_state\n",
    "    state = PYP(-0.17988941, -0.10526204,nQ,mesons/math.sqrt(LL))\n",
    "    # state = PYP(-0.17988941, -0.10526204,nQ,fake_vac_nQ)\n",
    "    return np.abs(state)**2"
   ]
  },
  {
   "cell_type": "code",
   "execution_count": 287,
   "metadata": {},
   "outputs": [
    {
     "data": {
      "text/plain": [
       "<matplotlib.legend.Legend at 0x147e00dd0>"
      ]
     },
     "execution_count": 287,
     "metadata": {},
     "output_type": "execute_result"
    },
    {
     "data": {
      "image/png": "[encoded data removed]",
      "text/plain": [
       "<Figure size 640x480 with 1 Axes>"
      ]
     },
     "metadata": {},
     "output_type": "display_data"
    }
   ],
   "source": [
    "which_p = 0\n",
    "plt.plot(list(range(2**nQ)), np.reshape(get_meson_p_prob(which_p).toarray(),-1),'g.',label = 'Scipy VQE')\n",
    "plt.plot(list(range(2**nQ)), np.abs(meson_p_full[which_p])**2,'r+',label = 'Numerical')\n",
    "plt.legend()"
   ]
  },
  {
   "cell_type": "code",
   "execution_count": 288,
   "metadata": {},
   "outputs": [
    {
     "data": {
      "text/plain": [
       "4.751527617475582e-16"
      ]
     },
     "execution_count": 288,
     "metadata": {},
     "output_type": "execute_result"
    }
   ],
   "source": [
    "np.abs(np.array(meson_p_full[2]).conj().T @ np.array(meson_p_full[-1]))"
   ]
  },
  {
   "cell_type": "markdown",
   "metadata": {},
   "source": [
    "## Extrapolate angles"
   ]
  },
  {
   "cell_type": "code",
   "execution_count": null,
   "metadata": {},
   "outputs": [],
   "source": [
    "# for 6 qubits removing p0 fidelity in cost function\n",
    "# angles_from_vqe = [-0.17929116, -0.1060088]\n",
    "\n",
    "\n",
    "# not removing p0 fidelity in cost function \n",
    "# 6 qubits [-0.18010458, -0.10601949]\n",
    "# 8 qubits [-0.17939733, -0.10569892]\n",
    "# 10 qubits [-0.17898116, -0.10476864]\n",
    "# 12 qubits [-0.17871452, -0.10364305] changed to minimizing 1-fidelity instead of nq - fidelity\n",
    "# 14 qubits [-0.17853036, -0.10245756]\n",
    "\n",
    "# 20 qubit angles based on Anthony's plot\n",
    "# angles_from_vqe = [0.1781, 0.10]"
   ]
  },
  {
   "cell_type": "code",
   "execution_count": 365,
   "metadata": {},
   "outputs": [
    {
     "name": "stdout",
     "output_type": "stream",
     "text": [
      "Exponential fit: a=0.18107195494370584, b=-0.002140049807961762\n"
     ]
    },
    {
     "data": {
      "image/png": "[encoded data removed]",
      "text/plain": [
       "<Figure size 640x480 with 1 Axes>"
      ]
     },
     "metadata": {},
     "output_type": "display_data"
    }
   ],
   "source": [
    "from matplotlib.pylab import f\n",
    "import numpy as np\n",
    "import matplotlib.pyplot as plt\n",
    "from scipy.optimize import curve_fit\n",
    "\n",
    "# Sample data\n",
    "L_data = np.array([3,4,5,6,7])\n",
    "theta_1_data = np.array([0.18010458,0.17939733,0.17898116,0.17871452,0.17853036])\n",
    "theta_2_data = np.array([0.10601949,0.10569892,0.10476864,0.10364305,0.10245756])\n",
    "\n",
    "# Exponential function to fit\n",
    "def exp_func(x, a, b):\n",
    "    return a * np.exp(b * x)\n",
    "\n",
    "# Fit the data\n",
    "params, _ = curve_fit(exp_func, L_data, theta_1_data)\n",
    "a, b = params\n",
    "\n",
    "# Generate extrapolated data points\n",
    "x_extrap = np.array([3,4,5,6, 7, 8,9,10,11])\n",
    "y_extrap = exp_func(x_extrap, a, b)\n",
    "\n",
    "print(f\"Exponential fit: a={a}, b={b}\")\n",
    "\n",
    "# Plot the original data and the extrapolation\n",
    "plt.scatter(L_data, theta_1_data, label='Original data')\n",
    "plt.plot(x_extrap, y_extrap, 'r', label='Extrapolation')\n",
    "plt.xlabel('L')\n",
    "plt.ylabel('theta_1')\n",
    "plt.legend()\n",
    "plt.show()"
   ]
  },
  {
   "cell_type": "code",
   "execution_count": null,
   "metadata": {},
   "outputs": [
    {
     "name": "stdout",
     "output_type": "stream",
     "text": [
      "Exponential fit: c=0.10919236499414982, d=-0.00876660433226213\n"
     ]
    },
    {
     "data": {
      "image/png": "[encoded data removed]",
      "text/plain": [
       "<Figure size 640x480 with 1 Axes>"
      ]
     },
     "metadata": {},
     "output_type": "display_data"
    }
   ],
   "source": [
    "params, _ = curve_fit(exp_func, L_data, theta_2_data)\n",
    "c, d = params\n",
    "\n",
    "# Generate extrapolated data points\n",
    "x_extrap = np.array([3,4,5,6, 7, 8,9,10,11])\n",
    "y_extrap = exp_func(x_extrap, c, d)\n",
    "print(f\"Exponential fit: c={c}, d={d}\")\n",
    "\n",
    "# Plot the original data and the extrapolation\n",
    "plt.scatter(L_data, theta_2_data, label='Original data')\n",
    "plt.plot(x_extrap, y_extrap, 'r', label='Extrapolation')\n",
    "plt.xlabel('L')\n",
    "plt.ylabel('theta_2')\n",
    "plt.legend()\n",
    "plt.show()"
   ]
  }
 ],
 "metadata": {
  "kernelspec": {
   "display_name": "iqus",
   "language": "python",
   "name": "python3"
  },
  "language_info": {
   "codemirror_mode": {
    "name": "ipython",
    "version": 3
   },
   "file_extension": ".py",
   "mimetype": "text/x-python",
   "name": "python",
   "nbconvert_exporter": "python",
   "pygments_lexer": "ipython3",
   "version": "3.11.5"
  }
 },
 "nbformat": 4,
 "nbformat_minor": 4
}
