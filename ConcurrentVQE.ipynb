{
 "cells": [
  {
   "cell_type": "markdown",
   "metadata": {},
   "source": [
    "In this version, use Anthony's set up for P0YP0 P1YP1, and implement concurrent VQE"
   ]
  },
  {
   "cell_type": "code",
   "execution_count": 1,
   "metadata": {},
   "outputs": [],
   "source": [
    "%run SetUp.ipynb\n",
    "\n",
    "from scipy.optimize import minimize"
   ]
  },
  {
   "cell_type": "code",
   "execution_count": 2,
   "metadata": {},
   "outputs": [],
   "source": [
    "import cmath"
   ]
  },
  {
   "cell_type": "code",
   "execution_count": 3,
   "metadata": {},
   "outputs": [],
   "source": [
    "nQ = 6"
   ]
  },
  {
   "cell_type": "markdown",
   "metadata": {},
   "source": [
    "## Define VQE form"
   ]
  },
  {
   "cell_type": "code",
   "execution_count": 4,
   "metadata": {},
   "outputs": [],
   "source": [
    "# VQE\n",
    "# \"state\" is the state PYP acts on. Implementing this way to not have to generate an entire matrix and save running time. \n",
    "# odd layer theta0*POYPO theta1*P1YP1 then even layer\n",
    "\n",
    "def PYP(angle1,angle2, nq,state):\n",
    "    n_sets = int(nq/2)\n",
    "    for mm in range(n_sets):\n",
    "        bb,cc,dd = (2*mm+1)%nq,(2*mm+2)%nq,(2*mm+3)%nq\n",
    "        state = sp.sparse.linalg.expm_multiply(-1j * angle1 * pad_op(bb,nq,proj0) @ pad_op(cc,nq,y) @ pad_op(dd,nq,proj0),state) #-1j * \n",
    "        state = sp.sparse.linalg.expm_multiply(-1j * angle2 * pad_op(bb,nq,proj1) @ pad_op(cc,nq,y) @ pad_op(dd,nq,proj1),state)\n",
    "    for m in range(n_sets):\n",
    "        aa,bb,cc = (2*m)%nq,(2*m+1)%nq,(2*m+2)%nq\n",
    "        state =  sp.sparse.linalg.expm_multiply(-1j * angle1 * pad_op(aa,nq,proj0) @ pad_op(bb,nq,y) @ pad_op(cc,nq,proj0),state)\n",
    "        state =  sp.sparse.linalg.expm_multiply(-1j * angle2 * pad_op(aa,nq,proj1) @ pad_op(bb,nq,y) @ pad_op(cc,nq,proj1),state)\n",
    "    return state\n"
   ]
  },
  {
   "cell_type": "code",
   "execution_count": 5,
   "metadata": {},
   "outputs": [],
   "source": [
    "\n",
    "# Generate Fake Vacuum\n",
    "# version that generates [[1,0,...]] and has dimension issues:  \n",
    "#  fake_vac = ft.reduce(sp.sparse.kron, [[1,0]]* nq)\n",
    "\n",
    "#fake_vac = sp.sparse.csr_array(np.ndarray.flatten(ft.reduce(sp.sparse.kron, [[1,0]]* nq).toarray()))\n",
    "\n",
    "def fake_vac(nq):\n",
    "    return sp.sparse.csr_array(ft.reduce(sp.sparse.kron, [[1.,0.]]* nq).toarray(),dtype = np.cfloat).transpose()"
   ]
  },
  {
   "cell_type": "markdown",
   "metadata": {},
   "source": [
    "## Set up function to minimize and initial points"
   ]
  },
  {
   "cell_type": "code",
   "execution_count": 6,
   "metadata": {},
   "outputs": [],
   "source": [
    "num_params = 2\n",
    "fake_vac_nQ = fake_vac(nQ) # predefine to save runtime"
   ]
  },
  {
   "cell_type": "code",
   "execution_count": 7,
   "metadata": {},
   "outputs": [],
   "source": [
    "\n",
    "# activate 1 site. \n",
    "\n",
    "def activate1(init,loc,nq): # init is a function of nq, init(nq) is a state, loc is which link is activated\n",
    "    #P0XP0 = math.pi/2* ft.reduce(sp.sparse.kron,[proj0,x,proj0])\n",
    "    act_mat =ft.reduce(sp.sparse.kron, [sp.sparse.identity(2**(loc)),x,sp.sparse.identity(2**(nq-loc-1))]) \n",
    "    return act_mat @ init(nq)"
   ]
  },
  {
   "cell_type": "markdown",
   "metadata": {},
   "source": [
    "#### Concurrent VQE"
   ]
  },
  {
   "cell_type": "code",
   "execution_count": 8,
   "metadata": {},
   "outputs": [],
   "source": [
    "import h5py"
   ]
  },
  {
   "cell_type": "code",
   "execution_count": 9,
   "metadata": {},
   "outputs": [],
   "source": [
    "with h5py.File('/Users/zhiyaoli/IQuS Dropbox/Zhiyao Li/String \\\n",
    "Breaking/Data/eigenstates.h5', 'r') as f:\n",
    "    data = f['Dataset1'][:]"
   ]
  },
  {
   "cell_type": "code",
   "execution_count": 10,
   "metadata": {},
   "outputs": [
    {
     "data": {
      "text/plain": [
       "(8, 64)"
      ]
     },
     "execution_count": 10,
     "metadata": {},
     "output_type": "execute_result"
    }
   ],
   "source": [
    "data.shape"
   ]
  },
  {
   "cell_type": "code",
   "execution_count": 11,
   "metadata": {},
   "outputs": [],
   "source": [
    "meson_p_full = []\n",
    "\n",
    "for i in range(len(data)-1):\n",
    "    real_part = data[i][\"Re\"]\n",
    "    imag_part = data[i][\"Im\"]\n",
    "    complex_data = real_part + 1j * imag_part\n",
    "    meson_p_full.append(complex_data)\n",
    "\n",
    "real_part = data[-1][\"Re\"]\n",
    "imag_part = data[-1][\"Im\"]\n",
    "vac_full = real_part + 1j * imag_part    "
   ]
  },
  {
   "cell_type": "code",
   "execution_count": 32,
   "metadata": {},
   "outputs": [],
   "source": [
    "### Define alternate cost function to maximize for Concurrent VQE\n",
    "\n",
    "LL = nQ # 2L = nQ\n",
    "# vac_full and meson_p_full are the eigenstates of the full Hamiltonian. Need to be defined. \n",
    "\n",
    "def cost_func(angles):\n",
    "    angle1, angle2 = angles[0], angles[1]    \n",
    "    \n",
    "    vac_state = PYP(angle1,angle2,nQ,fake_vac_nQ) \n",
    "    \n",
    "    meson_overlap = 0\n",
    "    for index in range(LL+1): # p goes from -Pi to Pi\n",
    "        p = (2*math.pi/LL)*index -math.pi\n",
    "        \n",
    "        # Sum over x to get |p>\n",
    "        mesons = sp.sparse.csr_array(ft.reduce(sp.sparse.kron, [[0.,0.]]* nQ).toarray(), dtype=np.cfloat).transpose()\n",
    "        for xx in range(nQ):\n",
    "            meson_state = activate1(fake_vac,xx,nQ)\n",
    "            mesons += cmath.exp(1j*p*xx) * meson_state\n",
    "            \n",
    "        meson_p = PYP(angle1,angle2,nQ,mesons/math.sqrt(LL)) \n",
    "        meson_overlap += overlap(meson_p_full[index],meson_p)**2\n",
    "    \n",
    "    return 2*(LL+1)-(overlap(vac_full,vac_state)**2 + meson_overlap)"
   ]
  },
  {
   "cell_type": "code",
   "execution_count": 17,
   "metadata": {},
   "outputs": [],
   "source": [
    "initial_point = np.random.rand(num_params)"
   ]
  },
  {
   "cell_type": "code",
   "execution_count": 18,
   "metadata": {},
   "outputs": [
    {
     "data": {
      "text/plain": [
       "7.7578430420228175"
      ]
     },
     "execution_count": 18,
     "metadata": {},
     "output_type": "execute_result"
    }
   ],
   "source": [
    "cost_func(initial_point)"
   ]
  },
  {
   "cell_type": "code",
   "execution_count": 31,
   "metadata": {},
   "outputs": [
    {
     "data": {
      "text/plain": [
       "8.879298377342387"
      ]
     },
     "execution_count": 31,
     "metadata": {},
     "output_type": "execute_result"
    }
   ],
   "source": [
    "cost_func([0.178,0.078])"
   ]
  },
  {
   "cell_type": "code",
   "execution_count": 35,
   "metadata": {},
   "outputs": [
    {
     "data": {
      "text/plain": [
       "11.003675861629008"
      ]
     },
     "execution_count": 35,
     "metadata": {},
     "output_type": "execute_result"
    }
   ],
   "source": [
    "cost_func([-0.17923051, -0.10247442])"
   ]
  },
  {
   "cell_type": "code",
   "execution_count": 19,
   "metadata": {},
   "outputs": [
    {
     "data": {
      "text/plain": [
       "array([0.04109299, 0.43747055])"
      ]
     },
     "execution_count": 19,
     "metadata": {},
     "output_type": "execute_result"
    }
   ],
   "source": [
    "initial_point"
   ]
  },
  {
   "cell_type": "markdown",
   "metadata": {},
   "source": [
    "## Run VQE"
   ]
  },
  {
   "cell_type": "markdown",
   "metadata": {},
   "source": [
    "#### nelder-mead"
   ]
  },
  {
   "cell_type": "code",
   "execution_count": 20,
   "metadata": {},
   "outputs": [
    {
     "name": "stdout",
     "output_type": "stream",
     "text": [
      "Optimization terminated successfully.\n",
      "         Current function value: 7.006139\n",
      "         Iterations: 74\n",
      "         Function evaluations: 155\n"
     ]
    }
   ],
   "source": [
    "res = minimize(cost_func, initial_point, method='nelder-mead',\n",
    "               options={'xatol': 1e-8, 'disp': True})"
   ]
  },
  {
   "cell_type": "code",
   "execution_count": 21,
   "metadata": {},
   "outputs": [
    {
     "name": "stdout",
     "output_type": "stream",
     "text": [
      "[-0.17988944 -0.10525713]\n"
     ]
    }
   ],
   "source": [
    "print(res.x)"
   ]
  },
  {
   "cell_type": "markdown",
   "metadata": {},
   "source": [
    "#### powell"
   ]
  },
  {
   "cell_type": "code",
   "execution_count": 33,
   "metadata": {},
   "outputs": [
    {
     "name": "stdout",
     "output_type": "stream",
     "text": [
      "Optimization terminated successfully.\n",
      "         Current function value: 11.003676\n",
      "         Iterations: 3\n",
      "         Function evaluations: 98\n"
     ]
    }
   ],
   "source": [
    "res2 = minimize(cost_func, initial_point, method='powell',\n",
    "               options={'disp': True})"
   ]
  },
  {
   "cell_type": "code",
   "execution_count": 34,
   "metadata": {},
   "outputs": [
    {
     "name": "stdout",
     "output_type": "stream",
     "text": [
      "[-0.17923051 -0.10247442]\n"
     ]
    }
   ],
   "source": [
    "print(res2.x)"
   ]
  },
  {
   "cell_type": "markdown",
   "metadata": {},
   "source": [
    "#### BFGS"
   ]
  },
  {
   "cell_type": "code",
   "execution_count": 77,
   "metadata": {},
   "outputs": [
    {
     "name": "stdout",
     "output_type": "stream",
     "text": [
      "         Current function value: -0.772596\n",
      "         Iterations: 13\n",
      "         Function evaluations: 66\n",
      "         Gradient evaluations: 22\n"
     ]
    },
    {
     "name": "stderr",
     "output_type": "stream",
     "text": [
      "/Users/zhiyaoli/anaconda3/envs/iqus/lib/python3.11/site-packages/scipy/optimize/_minimize.py:705: OptimizeWarning: Desired error not necessarily achieved due to precision loss.\n",
      "  res = _minimize_bfgs(fun, x0, args, jac, callback, **options)\n"
     ]
    }
   ],
   "source": [
    "res3 = minimize(cost_func,initial_point, method='BFGS', tol = 1e-8,\n",
    "               options={'disp': True})\n",
    "\n",
    "# tol = 1e-8,\n",
    "# xatol = 1e-8,"
   ]
  },
  {
   "cell_type": "code",
   "execution_count": 78,
   "metadata": {},
   "outputs": [
    {
     "name": "stdout",
     "output_type": "stream",
     "text": [
      "[-0.17752536 -0.04847119]\n"
     ]
    }
   ],
   "source": [
    "print(res3.x)"
   ]
  },
  {
   "cell_type": "markdown",
   "metadata": {},
   "source": [
    "## Test"
   ]
  },
  {
   "cell_type": "markdown",
   "metadata": {},
   "source": [
    "#### Concurrent VQE check"
   ]
  },
  {
   "cell_type": "code",
   "execution_count": 22,
   "metadata": {},
   "outputs": [],
   "source": [
    "scipy_angles = [-0.17988941, -0.10526204]\n",
    "scipy_results = np.reshape(PYP(-0.17988941, -0.10526204,nQ,fake_vac_nQ).toarray(),-1)"
   ]
  },
  {
   "cell_type": "code",
   "execution_count": 23,
   "metadata": {},
   "outputs": [
    {
     "name": "stderr",
     "output_type": "stream",
     "text": [
      "/Users/zhiyaoli/anaconda3/envs/iqus/lib/python3.11/site-packages/matplotlib/cbook.py:1699: ComplexWarning: Casting complex values to real discards the imaginary part\n",
      "  return math.isfinite(val)\n",
      "/Users/zhiyaoli/anaconda3/envs/iqus/lib/python3.11/site-packages/matplotlib/cbook.py:1345: ComplexWarning: Casting complex values to real discards the imaginary part\n",
      "  return np.asarray(x, float)\n"
     ]
    },
    {
     "data": {
      "text/plain": [
       "<matplotlib.legend.Legend at 0x1361085d0>"
      ]
     },
     "execution_count": 23,
     "metadata": {},
     "output_type": "execute_result"
    },
    {
     "data": {
      "image/png": "[encoded data removed]",
      "text/plain": [
       "<Figure size 640x480 with 1 Axes>"
      ]
     },
     "metadata": {},
     "output_type": "display_data"
    }
   ],
   "source": [
    "plt.plot(list(range(2**nQ)), scipy_results,'g.',label = 'Scipy VQE')\n",
    "plt.plot(list(range(2**nQ)),-vac_full,'r+',label = 'Exact Diagonalization')\n",
    "plt.legend()"
   ]
  },
  {
   "cell_type": "code",
   "execution_count": 24,
   "metadata": {},
   "outputs": [],
   "source": [
    "p_list = [(2*math.pi/LL)*index -math.pi for index in range(nQ+1)]"
   ]
  },
  {
   "cell_type": "code",
   "execution_count": 25,
   "metadata": {},
   "outputs": [
    {
     "name": "stdout",
     "output_type": "stream",
     "text": [
      "index: 0 , Overlap 0.9981926876487185, p: -3.141592653589793\n",
      "index: 1 , Overlap 0.9995457887031952, p: -2.0943951023931957\n",
      "index: 2 , Overlap 0.999225207451092, p: -1.0471975511965979\n",
      "index: 3 , Overlap 3.086771330597718e-05, p: 0.0\n",
      "index: 4 , Overlap 0.999225207451092, p: 1.0471975511965974\n",
      "index: 5 , Overlap 0.9995457887031954, p: 2.094395102393195\n",
      "index: 6 , Overlap 0.9981926876487185, p: 3.141592653589793\n"
     ]
    }
   ],
   "source": [
    "for index in range(nQ+1):\n",
    "    mesons = sp.sparse.csr_array(ft.reduce(sp.sparse.kron, [[0.,0.]]* nQ).toarray()).transpose()\n",
    "    p = p_list[index]\n",
    "    for xx in range(nQ):\n",
    "        meson_state = activate1(fake_vac,xx,nQ)\n",
    "        mesons += cmath.exp(1j*p*xx) * meson_state\n",
    "    meson_p = PYP(-0.17988941, -0.10526204,nQ,mesons/math.sqrt(LL)) \n",
    "    print(f\"index: {index} , Overlap {overlap(meson_p_full[index],meson_p)**2}, p: {p}\")"
   ]
  },
  {
   "cell_type": "code",
   "execution_count": 36,
   "metadata": {},
   "outputs": [
    {
     "name": "stdout",
     "output_type": "stream",
     "text": [
      "index: 0 , Overlap 0.9981943942857587, p: -3.141592653589793\n",
      "index: 1 , Overlap 0.9995577604409818, p: -2.0943951023931957\n",
      "index: 2 , Overlap 0.9992065911180062, p: -1.0471975511965979\n",
      "index: 3 , Overlap 1.5733583564686317e-05, p: 0.0\n",
      "index: 4 , Overlap 0.9992065911180062, p: 1.0471975511965974\n",
      "index: 5 , Overlap 0.9995577604409818, p: 2.094395102393195\n",
      "index: 6 , Overlap 0.9981943942857587, p: 3.141592653589793\n"
     ]
    }
   ],
   "source": [
    "for index in range(nQ+1):\n",
    "    mesons = sp.sparse.csr_array(ft.reduce(sp.sparse.kron, [[0.,0.]]* nQ).toarray()).transpose()\n",
    "    p = p_list[index]\n",
    "    for xx in range(nQ):\n",
    "        meson_state = activate1(fake_vac,xx,nQ)\n",
    "        mesons += cmath.exp(1j*p*xx) * meson_state\n",
    "    meson_p = PYP(-0.17923051, -0.10247442,nQ,mesons/math.sqrt(LL)) \n",
    "    print(f\"index: {index} , Overlap {overlap(meson_p_full[index],meson_p)**2}, p: {p}\")"
   ]
  },
  {
   "cell_type": "code",
   "execution_count": 272,
   "metadata": {},
   "outputs": [],
   "source": [
    "def get_meson_p_prob(index):\n",
    "    p = p_list[index]\n",
    "    mesons = sp.sparse.csr_array(ft.reduce(sp.sparse.kron, [[0.,0.]]* nQ).toarray()).transpose()\n",
    "    for xx in range(nQ):\n",
    "        meson_state = activate1(fake_vac,xx,nQ)\n",
    "        mesons += cmath.exp(1j*p*xx) * meson_state\n",
    "    state = PYP(-0.17988941, -0.10526204,nQ,mesons/math.sqrt(LL))\n",
    "    # state = PYP(-0.17988941, -0.10526204,nQ,fake_vac_nQ)\n",
    "    return np.abs(state)**2"
   ]
  },
  {
   "cell_type": "code",
   "execution_count": 273,
   "metadata": {},
   "outputs": [
    {
     "data": {
      "text/plain": [
       "[<matplotlib.lines.Line2D at 0x14a1caf90>]"
      ]
     },
     "execution_count": 273,
     "metadata": {},
     "output_type": "execute_result"
    },
    {
     "data": {
      "image/png": "[encoded data removed]",
      "text/plain": [
       "<Figure size 640x480 with 1 Axes>"
      ]
     },
     "metadata": {},
     "output_type": "display_data"
    }
   ],
   "source": [
    "which_p = 2\n",
    "plt.plot(list(range(2**nQ)), np.reshape(get_meson_p_prob(which_p).toarray(),-1),'g.',label = 'Scipy VQE')\n",
    "plt.plot(list(range(2**nQ)), np.abs(meson_p_full[which_p])**2,'r+',label = 'NNumerical')"
   ]
  }
 ],
 "metadata": {
  "kernelspec": {
   "display_name": "iqus",
   "language": "python",
   "name": "python3"
  },
  "language_info": {
   "codemirror_mode": {
    "name": "ipython",
    "version": 3
   },
   "file_extension": ".py",
   "mimetype": "text/x-python",
   "name": "python",
   "nbconvert_exporter": "python",
   "pygments_lexer": "ipython3",
   "version": "3.11.5"
  }
 },
 "nbformat": 4,
 "nbformat_minor": 4
}
