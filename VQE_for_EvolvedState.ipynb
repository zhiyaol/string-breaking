{
 "cells": [
  {
   "cell_type": "code",
   "execution_count": null,
   "metadata": {},
   "outputs": [],
   "source": []
  },
  {
   "cell_type": "markdown",
   "metadata": {},
   "source": [
    "## Propagated State Prep by minimizing infidelity"
   ]
  },
  {
   "cell_type": "code",
   "execution_count": null,
   "metadata": {},
   "outputs": [],
   "source": [
    "# Generate a state from a set of angles\n",
    "# Want to minimize the infidelity\n",
    "\n",
    "num_params = 5\n",
    "\n",
    "target = np.array([1]) # placeholder\n",
    "\n",
    "Hf = sp.sparse.csr_matrix(np.real(Hfull(nq,m,g).to_matrix()))\n",
    "\n",
    "def infidel(angles): # test this and see if does what I expect it to do # can check against target and see if get 0\n",
    "    state = vqe_form(angles).dot(fake_vac)\n",
    "    return 1- (target.getH() @ state)**2  # need to do abs? "
   ]
  },
  {
   "cell_type": "code",
   "execution_count": null,
   "metadata": {},
   "outputs": [],
   "source": [
    "initial_point = np.random.rand(num_params) \n",
    "\n",
    "infidel(initial_point)"
   ]
  },
  {
   "cell_type": "code",
   "execution_count": null,
   "metadata": {},
   "outputs": [
    {
     "ename": "NameError",
     "evalue": "name 'minimize' is not defined",
     "output_type": "error",
     "traceback": [
      "\u001b[0;31m---------------------------------------------------------------------------\u001b[0m\n",
      "\u001b[0;31mNameError\u001b[0m                                 Traceback (most recent call last)\n",
      "Cell \u001b[0;32mIn[1], line 1\u001b[0m\n",
      "\u001b[0;32m----> 1\u001b[0m state_result \u001b[38;5;241m=\u001b[39m \u001b[43mminimize\u001b[49m(infidel, initial_point, method\u001b[38;5;241m=\u001b[39m\u001b[38;5;124m'\u001b[39m\u001b[38;5;124mpowell\u001b[39m\u001b[38;5;124m'\u001b[39m,\n",
      "\u001b[1;32m      2\u001b[0m                options\u001b[38;5;241m=\u001b[39m{\u001b[38;5;124m'\u001b[39m\u001b[38;5;124mxatol\u001b[39m\u001b[38;5;124m'\u001b[39m: \u001b[38;5;241m1e-8\u001b[39m, \u001b[38;5;124m'\u001b[39m\u001b[38;5;124mdisp\u001b[39m\u001b[38;5;124m'\u001b[39m: \u001b[38;5;28;01mTrue\u001b[39;00m})\n",
      "\n",
      "\u001b[0;31mNameError\u001b[0m: name 'minimize' is not defined"
     ]
    }
   ],
   "source": [
    "state_result = minimize(infidel, initial_point, method='powell',\n",
    "               options={'xatol': 1e-8, 'disp': True})"
   ]
  }
 ],
 "metadata": {
  "language_info": {
   "name": "python"
  }
 },
 "nbformat": 4,
 "nbformat_minor": 2
}
