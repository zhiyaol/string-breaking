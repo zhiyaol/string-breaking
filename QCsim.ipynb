{
 "cells": [
  {
   "cell_type": "code",
   "execution_count": 1,
   "metadata": {},
   "outputs": [
    {
     "name": "stderr",
     "output_type": "stream",
     "text": [
      "/var/folders/px/x0b827mx07s9_8yq2xxdt9qr0000gr/T/ipykernel_1129/4272923362.py:20: DeprecationWarning: The package qiskit_ibm_provider is being deprecated. Please see https://docs.quantum.ibm.com/api/migration-guides/qiskit-runtime to get instructions on how to migrate to qiskit-ibm-runtime (https://github.com/Qiskit/qiskit-ibm-runtime).\n",
      "  import qiskit_ibm_provider\n"
     ]
    }
   ],
   "source": [
    "import numpy as np\n",
    "import math\n",
    "from math import pi\n",
    "from matplotlib import pyplot as plt\n",
    "\n",
    "import qiskit\n",
    "from qiskit import QuantumCircuit, transpile,  assemble\n",
    "from qiskit_aer import AerSimulator,Aer\n",
    "\n",
    "from qiskit.visualization import *\n",
    "\n",
    "from qiskit import ClassicalRegister, QuantumRegister, transpile\n",
    "#from qiskit.tools.visualization import circuit_drawer\n",
    "from qiskit.visualization import circuit_drawer\n",
    "from qiskit.quantum_info import state_fidelity, Statevector, SparsePauliOp, Operator\n",
    "#from qiskit import BasicAer\n",
    "\n",
    "from qiskit.quantum_info.operators import Operator, Pauli\n",
    "\n",
    "import qiskit.quantum_info as qi\n",
    "\n",
    "import itertools\n",
    "from itertools import combinations\n",
    "\n",
    "from qiskit import *\n",
    "\n",
    "# Need gate classes for generating the Pauli twirling sets\n",
    "from qiskit.circuit.library import (IGate, XGate, YGate, ZGate,\n",
    "                                    CXGate, CZGate, ECRGate, iSwapGate,QFT, RYGate, RZGate)\n",
    "\n",
    "# Classes for building up a directed-acyclic graph (DAG) structure\n",
    "from qiskit.circuit import QuantumRegister,Parameter, ParameterVector, CircuitInstruction\n",
    "from qiskit.dagcircuit import DAGCircuit\n",
    "\n",
    "# Transpiler stuff needed to make a pass and passmanager\n",
    "from qiskit.transpiler import PassManager\n",
    "from qiskit.transpiler.basepasses import TransformationPass\n",
    "from qiskit.transpiler.passes import Optimize1qGatesDecomposition,CommutativeCancellation,CXCancellation,Optimize1qGatesSimpleCommutation"
   ]
  },
  {
   "cell_type": "code",
   "execution_count": 48,
   "metadata": {},
   "outputs": [],
   "source": [
    "from qiskit_ibm_runtime import QiskitRuntimeService, Session\n",
    "from qiskit_ibm_runtime import SamplerV2 as Sampler\n",
    "from qiskit.transpiler.preset_passmanagers import generate_preset_pass_manager"
   ]
  },
  {
   "cell_type": "code",
   "execution_count": 18,
   "metadata": {},
   "outputs": [
    {
     "name": "stdout",
     "output_type": "stream",
     "text": [
      "1.2.0\n"
     ]
    }
   ],
   "source": [
    "print(qiskit.version.get_version_info())"
   ]
  },
  {
   "cell_type": "code",
   "execution_count": 19,
   "metadata": {},
   "outputs": [],
   "source": [
    "%run SetUp.ipynb"
   ]
  },
  {
   "cell_type": "code",
   "execution_count": 20,
   "metadata": {},
   "outputs": [],
   "source": [
    "angles_from_vqe = [-0.17752535, -0.04847123]"
   ]
  },
  {
   "cell_type": "code",
   "execution_count": 21,
   "metadata": {},
   "outputs": [],
   "source": [
    "nQ = 6 # nq needs to be even\n",
    "# m = 0.5\n",
    "# g = math.sqrt(m*16/3)\n",
    "m = 1.\n",
    "g = 2."
   ]
  },
  {
   "cell_type": "markdown",
   "metadata": {},
   "source": [
    "# Circuit Construction"
   ]
  },
  {
   "cell_type": "markdown",
   "metadata": {},
   "source": [
    "## Initialize Vacuum\n"
   ]
  },
  {
   "cell_type": "code",
   "execution_count": 22,
   "metadata": {},
   "outputs": [],
   "source": [
    "# prototype. activate nl links in the middle of the circuit\n",
    "\n",
    "def activate(nl, nq = nQ, cir = None):\n",
    "    if nq <= nl: raise Exception (\" Size of system needs to be bigger than the number of links being activated. \")\n",
    "    if cir == None: cir = QuantumCircuit(nq)\n",
    "    loc = (nq-nl) // 2\n",
    "    for i in range(nl):\n",
    "        cir.x(loc+i)\n",
    "    return cir"
   ]
  },
  {
   "cell_type": "code",
   "execution_count": 23,
   "metadata": {},
   "outputs": [],
   "source": [
    "# apply the VQE that initialize the circuit into true vacuum to circuit\n",
    "\n",
    "def true_vac(angles = angles_from_vqe, nq = nQ, cir = None):\n",
    "    if cir == None: cir = QuantumCircuit(nq)\n",
    "    \n",
    "    # even index operations\n",
    "    for i in range(nq//2): # odd sites go to y basis\n",
    "        cir.sdg(2*i+1)\n",
    "        cir.h(2*i+1)    \n",
    "    for i in range(nq//2):\n",
    "        cir.rz((angles[0]+angles[1])/2, 2*i+1) # applying the single y gate\n",
    "        cir.cx(2*i+1, (2*i+2)%nq)                      # applying IYZ\n",
    "        cir.rz((angles[0]- angles[1])/2, (2*i+2)%nq)\n",
    "        cir.cx(2*i+1, (2*i+2)%nq)\n",
    "    for i in range(nq//2):   # applying ZYI, CNOT on the right cancelled with CNOT in ZYZ\n",
    "        cir.cx(2*i, 2*i+1)                      \n",
    "        cir.rz((angles[0] - angles[1])/2, 2*i+1)\n",
    "    for i in range(nq//2):  # applying ZYZ, CNOT on the left cancelled\n",
    "        cir.cx(2*i+1, (2*i+2)%nq)\n",
    "        cir.rz((angles[0] + angles[1])/2, (2*i+2)%nq)\n",
    "        cir.cx(2*i+1, (2*i+2)%nq)\n",
    "        cir.cx(2*i, 2*i+1)  \n",
    "    for i in range(nq//2): # odd sites go to y basis\n",
    "        cir.h(2*i+1)   \n",
    "        cir.s(2*i+1)\n",
    "    \n",
    "    #cir.barrier() # for visualization purposes\n",
    "     \n",
    "    # odd index operations\n",
    "    for i in range(nq//2): # even sites go to y basis\n",
    "        cir.sdg(2*i)\n",
    "        cir.h(2*i)  \n",
    "    for i in range(nq//2):\n",
    "        cir.rz((angles[0]+angles[1])/2, 2*i) # applying the single y gate\n",
    "        cir.cx(2*i, (2*i+1)%nq)                      # applying IYZ\n",
    "        cir.rz((angles[0]- angles[1])/2, (2*i+1)%nq)\n",
    "        cir.cx(2*i, (2*i+1)%nq)  \n",
    "    for i in range(nq//2):   # applying ZYI, CNOT on the right cancelled with CNOT in ZYZ\n",
    "        cir.cx(2*i+1, (2*i+2)%nq)                      \n",
    "        cir.rz((angles[0] - angles[1])/2, (2*i+2)%nq)\n",
    "    for i in range(nq//2):  # applying ZYZ, CNOT on the left cancelled\n",
    "        cir.cx((2*i+2)%nq, (2*i+3)%nq)\n",
    "        cir.rz((angles[0] + angles[1])/2, (2*i+3)%nq)\n",
    "        cir.cx((2*i+2)%nq, (2*i+3)%nq)\n",
    "        cir.cx(2*i+1, (2*i+2)%nq)\n",
    "    for i in range(nq//2): # even sites go to y basis\n",
    "        cir.h(2*i)\n",
    "        cir.s(2*i)\n",
    "        \n",
    "    return cir"
   ]
  },
  {
   "cell_type": "code",
   "execution_count": 24,
   "metadata": {},
   "outputs": [],
   "source": [
    "# by applying $U^\\dagger(\\Vec{\\theta})$ before performing measurements\n",
    "# qubits in the $\\ket{1}$ state can be interpreted as having a meson present at that site\n",
    "# while qubits in the $\\ket{0}$ state correspond to the vacuum\n",
    "\n",
    "def inv_vac(nq = nQ,cir=None):\n",
    "    if cir == None: cir = QuantumCircuit(nq)\n",
    "    true_vac_cir = true_vac(angles = angles_from_vqe, nq = nq)\n",
    "    inv_true_vac = true_vac_cir.inverse()\n",
    "    cir.compose(inv_true_vac,inplace = True)\n",
    "    return cir"
   ]
  },
  {
   "cell_type": "markdown",
   "metadata": {},
   "source": [
    "## Construct Hamiltonian for QC"
   ]
  },
  {
   "cell_type": "code",
   "execution_count": 25,
   "metadata": {},
   "outputs": [],
   "source": [
    "from math import sqrt\n",
    "\n",
    "\n",
    "def exp_hkin_even(t, nq = nQ, cir = None):\n",
    "    if cir == None: cir = QuantumCircuit(nq)\n",
    "    angles = (1/math.sqrt(2),1/(2* math.sqrt(2)))\n",
    "    for i in range(nq//2): # odd sites go to x basis\n",
    "        cir.h(2*i+1)    \n",
    "    for i in range(nq//2):\n",
    "        cir.rz((angles[0]+angles[1])*t/2, 2*i+1) # applying the single x gate\n",
    "        cir.cx(2*i+1, (2*i+2)%nq)                      # applying IXZ\n",
    "        cir.rz((angles[0]- angles[1])*t/2, (2*i+2)%nq)\n",
    "        cir.cx(2*i+1, (2*i+2)%nq)\n",
    "    for i in range(nq//2):   # applying ZXI, CNOT on the right cancelled with CNOT in ZXZ\n",
    "        cir.cx(2*i, 2*i+1)                      \n",
    "        cir.rz((angles[0] - angles[1])*t/2, 2*i+1)\n",
    "    for i in range(nq//2):  # applying ZXZ, CNOT on the left cancelled\n",
    "        cir.cx(2*i+1, (2*i+2)%nq)\n",
    "        cir.rz((angles[0] + angles[1])*t/2, (2*i+2)%nq)\n",
    "        cir.cx(2*i+1, (2*i+2)%nq)\n",
    "        cir.cx(2*i, 2*i+1)  \n",
    "    for i in range(nq//2): # odd sites go to x basis\n",
    "        cir.h(2*i+1)   \n",
    "    return cir\n",
    "\n",
    "def exp_hkin_odd(t, nq = nQ, cir = None):\n",
    "    if cir == None: cir = QuantumCircuit(nq)\n",
    "    angles = (1/math.sqrt(2),1/(2* math.sqrt(2)))\n",
    "    for i in range(nq//2): # even sites go to x basis\n",
    "        cir.h(2*i)  \n",
    "    for i in range(nq//2):\n",
    "        cir.rz((angles[0]+angles[1])*t/2, 2*i) # applying the single x gate\n",
    "        cir.cx(2*i, (2*i+1)%nq)                      # applying IXZ\n",
    "        cir.rz((angles[0]- angles[1])*t/2, (2*i+1)%nq)\n",
    "        cir.cx(2*i, (2*i+1)%nq)  \n",
    "    for i in range(nq//2):   # applying ZXI, CNOT on the right cancelled with CNOT in ZXZ\n",
    "        cir.cx(2*i+1, (2*i+2)%nq)                      \n",
    "        cir.rz((angles[0] - angles[1])*t/2, (2*i+2)%nq)\n",
    "    for i in range(nq//2):  # applying ZXZ, CNOT on the left cancelled\n",
    "        cir.cx((2*i+2)%nq, (2*i+3)%nq)\n",
    "        cir.rz((angles[0] + angles[1])*t/2, (2*i+3)%nq)\n",
    "        cir.cx((2*i+2)%nq, (2*i+3)%nq)\n",
    "        cir.cx(2*i+1, (2*i+2)%nq)\n",
    "    for i in range(nq//2): # even sites go to x basis\n",
    "        cir.h(2*i)\n",
    "    return cir"
   ]
  },
  {
   "cell_type": "code",
   "execution_count": 26,
   "metadata": {},
   "outputs": [],
   "source": [
    "def exp_hm(t, nq = nQ, cir = None):\n",
    "    if cir == None: cir = QuantumCircuit(nq)\n",
    "    for i in range(nq):\n",
    "        cir.cx(i, (i+1)%nq)\n",
    "        cir.rz(-m*t, (i+1)%nq)\n",
    "        cir.cx(i, (i+1)%nq)\n",
    "    return cir"
   ]
  },
  {
   "cell_type": "code",
   "execution_count": 27,
   "metadata": {},
   "outputs": [],
   "source": [
    "def exp_he(t, nq = nQ, cir = None):\n",
    "    if cir == None: cir = QuantumCircuit(nq)\n",
    "    for i in range(nq):\n",
    "        cir.rz(-3*t*g**2/8,i)\n",
    "    return cir"
   ]
  },
  {
   "cell_type": "markdown",
   "metadata": {},
   "source": [
    "## Time Evolution"
   ]
  },
  {
   "cell_type": "code",
   "execution_count": 28,
   "metadata": {},
   "outputs": [],
   "source": [
    "def trotter_step(dt, nq = nQ, cir = None):\n",
    "    if cir == None: cir = QuantumCircuit(nq)\n",
    "    exp_hkin_odd(dt/2, nq, cir) # can save cost by preconstructing kin_odd and kin_even and do cir.compose(kin_odd)\n",
    "    exp_hkin_even(dt/2, nq, cir) # leaving as is for now until it is required to save compilation time\n",
    "    exp_hm(dt, nq, cir)\n",
    "    exp_he(dt, nq, cir)\n",
    "    exp_hkin_even(dt/2, nq, cir)\n",
    "    exp_hkin_odd(dt/2, nq, cir)\n",
    "    return cir"
   ]
  },
  {
   "cell_type": "code",
   "execution_count": 29,
   "metadata": {},
   "outputs": [],
   "source": [
    "def time_ev(dt,steps, nq = nQ, cir = None):\n",
    "    if cir == None: cir = QuantumCircuit(nq)\n",
    "    for i in range(steps):\n",
    "        trotter_step(dt, nq, cir)\n",
    "    return cir"
   ]
  },
  {
   "cell_type": "markdown",
   "metadata": {},
   "source": [
    "# Run"
   ]
  },
  {
   "cell_type": "markdown",
   "metadata": {},
   "source": [
    "## Examine Vacuum time evolution to find a small enough dt"
   ]
  },
  {
   "cell_type": "code",
   "execution_count": 140,
   "metadata": {},
   "outputs": [
    {
     "data": {
      "text/plain": [
       "[<matplotlib.lines.Line2D at 0x14c540310>]"
      ]
     },
     "execution_count": 140,
     "metadata": {},
     "output_type": "execute_result"
    },
    {
     "data": {
      "image/png": "[encoded data removed]",
      "text/plain": [
       "<Figure size 640x480 with 1 Axes>"
      ]
     },
     "metadata": {},
     "output_type": "display_data"
    }
   ],
   "source": [
    "del_t = 0.7\n",
    "overlaps = []\n",
    "\n",
    "for i in range(25):\n",
    "    vac_cir = true_vac(angles_from_vqe)\n",
    "    result_state = Statevector.from_int(0, 2**nQ)\n",
    "    result_state = result_state.evolve(time_ev(del_t, i, nQ, vac_cir))\n",
    "    overlaps.append(qiskit.quantum_info.state_fidelity(result_state,mathematica_result_6_SU2))\n",
    "    \n",
    "plt.plot(np.arange(0, 16.8, 0.7),overlaps, 'o-')"
   ]
  },
  {
   "cell_type": "markdown",
   "metadata": {},
   "source": [
    "# Classical Simulation and Measurements of Observables"
   ]
  },
  {
   "cell_type": "markdown",
   "metadata": {},
   "source": [
    "#### Electric energy per site"
   ]
  },
  {
   "cell_type": "code",
   "execution_count": 225,
   "metadata": {},
   "outputs": [],
   "source": [
    "# Expectation value of electric hamiltonian per site\n",
    "\n",
    "del_t = 0.7\n",
    "steps = np.arange(0,25, 1) \n",
    "sites = np.arange(0, nQ, 1) \n",
    "\n",
    "# initialize the list to save observable results\n",
    "e_per_site_time = []\n",
    "\n",
    "for i in steps:\n",
    "    # Initialize the circuit with 3 links activated \n",
    "    circir = QuantumCircuit(nQ)\n",
    "    activate(3,nQ,circir)\n",
    "    true_vac(angles_from_vqe,nQ,circir)\n",
    "    \n",
    "    result_state = Statevector.from_int(0, 2**nQ)\n",
    "    result_state = result_state.evolve(time_ev(del_t, i, nQ, circir))\n",
    "    result_probs = padbitstringDict(result_state.probabilities_dict())\n",
    "    \n",
    "    E_exps = []\n",
    "    for j in sites:\n",
    "        E_exps.append(np.dot(np.real(He_persite(j).to_matrix(sparse = True).diagonal()),result_probs)) # can do this because electric hamiltonian is diagonal\n",
    "    e_per_site_time.append(E_exps)\n"
   ]
  },
  {
   "cell_type": "code",
   "execution_count": 229,
   "metadata": {},
   "outputs": [
    {
     "data": {
      "image/png": "[encoded data removed]",
      "text/plain": [
       "<Figure size 640x480 with 2 Axes>"
      ]
     },
     "metadata": {},
     "output_type": "display_data"
    }
   ],
   "source": [
    "plt.pcolormesh(sites, steps, e_per_site_time)\n",
    "plt.colorbar()\n",
    "plt.set_cmap('plasma')\n",
    "# plt.clim(0.9729,0.99)\n",
    "plt.xticks(sites)\n",
    "plt.yticks(ticks = steps, labels = [ 0. ,  0.7,  1.4,  2.1,  2.8,  3.5,  4.2,  4.9,  5.6,  6.3,  7. ,\n",
    "        7.7,  8.4,  9.1,  9.8, 10.5, 11.2, 11.9, 12.6, 13.3, 14. , 14.7,\n",
    "       15.4, 16.1, 16.8])\n",
    "plt.xlabel(\"Site\")\n",
    "plt.ylabel(\"Time\")\n",
    "plt.title(\"Electric energy per site\")\n",
    "plt.show()"
   ]
  },
  {
   "cell_type": "markdown",
   "metadata": {},
   "source": [
    "#### Entanglement Entropy"
   ]
  },
  {
   "cell_type": "markdown",
   "metadata": {},
   "source": [
    "#### Chiral Condensate"
   ]
  },
  {
   "cell_type": "code",
   "execution_count": 242,
   "metadata": {},
   "outputs": [],
   "source": [
    "# Expectation value of mass hamiltonian per site\n",
    "\n",
    "del_t = 0.7\n",
    "steps = np.arange(0,25, 1) \n",
    "sites = np.arange(0, nQ, 1) \n",
    "\n",
    "# initialize the list to save observable results\n",
    "m_per_site_time = []\n",
    "\n",
    "for i in steps:\n",
    "    # Initialize the circuit with 3 links activated \n",
    "    circir = QuantumCircuit(nQ)\n",
    "    activate(3,nQ,circir)\n",
    "    true_vac(angles_from_vqe,nQ,circir)\n",
    "    \n",
    "    result_state = Statevector.from_int(0, 2**nQ)\n",
    "    result_state = result_state.evolve(time_ev(del_t, i, nQ, circir))\n",
    "    result_probs = padbitstringDict(result_state.probabilities_dict())\n",
    "    \n",
    "    M_exps = []\n",
    "    for j in sites:\n",
    "        M_exps.append(np.dot(np.real(Hm_persite(j).to_matrix(sparse = True).diagonal()),result_probs)) # can do this because electric hamiltonian is diagonal\n",
    "    m_per_site_time.append(M_exps)"
   ]
  },
  {
   "cell_type": "code",
   "execution_count": 243,
   "metadata": {},
   "outputs": [
    {
     "data": {
      "image/png": "[encoded data removed]",
      "text/plain": [
       "<Figure size 640x480 with 2 Axes>"
      ]
     },
     "metadata": {},
     "output_type": "display_data"
    }
   ],
   "source": [
    "plt.pcolormesh(sites, steps, m_per_site_time)\n",
    "plt.colorbar()\n",
    "plt.set_cmap('plasma')\n",
    "# plt.clim(0.9729,0.99)\n",
    "plt.xticks(sites)\n",
    "plt.yticks(ticks = steps, labels = [ 0. ,  0.7,  1.4,  2.1,  2.8,  3.5,  4.2,  4.9,  5.6,  6.3,  7. ,\n",
    "        7.7,  8.4,  9.1,  9.8, 10.5, 11.2, 11.9, 12.6, 13.3, 14. , 14.7,\n",
    "       15.4, 16.1, 16.8])\n",
    "plt.xlabel(\"Site\")\n",
    "plt.ylabel(\"Time\")\n",
    "plt.title(\"Number of (anti)quarks per site\")\n",
    "plt.show()"
   ]
  },
  {
   "cell_type": "markdown",
   "metadata": {},
   "source": [
    "# Quantum Simulation"
   ]
  },
  {
   "cell_type": "markdown",
   "metadata": {},
   "source": [
    "## Noiseless check"
   ]
  },
  {
   "cell_type": "code",
   "execution_count": 37,
   "metadata": {},
   "outputs": [],
   "source": [
    "simulator = Aer.get_backend('qasm_simulator')"
   ]
  },
  {
   "cell_type": "code",
   "execution_count": 88,
   "metadata": {},
   "outputs": [
    {
     "name": "stdout",
     "output_type": "stream",
     "text": [
      "  depth: 29\n",
      "  CNOT depth:18\n",
      "  gate counts: OrderedDict([('cx', 30), ('rz', 16), ('u2', 8), ('measure', 6), ('unitary', 2), ('x', 1), ('barrier', 1)])\n",
      "--------------\n",
      "  depth: 96\n",
      "  CNOT depth:61\n",
      "  gate counts: OrderedDict([('cx', 98), ('rz', 54), ('u2', 12), ('h', 8), ('unitary', 7), ('measure', 6), ('x', 1), ('barrier', 1)])\n",
      "--------------\n",
      "  depth: 163\n",
      "  CNOT depth:104\n",
      "  gate counts: OrderedDict([('cx', 166), ('rz', 95), ('u2', 16), ('h', 13), ('unitary', 12), ('measure', 6), ('x', 1), ('barrier', 1)])\n",
      "--------------\n",
      "  depth: 230\n",
      "  CNOT depth:147\n",
      "  gate counts: OrderedDict([('cx', 234), ('rz', 136), ('u2', 20), ('h', 18), ('unitary', 17), ('measure', 6), ('x', 1), ('barrier', 1)])\n",
      "--------------\n",
      "  depth: 297\n",
      "  CNOT depth:190\n",
      "  gate counts: OrderedDict([('cx', 302), ('rz', 177), ('u2', 24), ('h', 23), ('unitary', 22), ('measure', 6), ('x', 1), ('barrier', 1)])\n",
      "--------------\n",
      "  depth: 364\n",
      "  CNOT depth:233\n",
      "  gate counts: OrderedDict([('cx', 370), ('rz', 218), ('u2', 28), ('h', 28), ('unitary', 27), ('measure', 6), ('x', 1), ('barrier', 1)])\n",
      "--------------\n",
      "  depth: 431\n",
      "  CNOT depth:276\n",
      "  gate counts: OrderedDict([('cx', 438), ('rz', 259), ('h', 33), ('u2', 32), ('unitary', 32), ('measure', 6), ('x', 1), ('barrier', 1)])\n",
      "--------------\n",
      "  depth: 498\n",
      "  CNOT depth:319\n",
      "  gate counts: OrderedDict([('cx', 506), ('rz', 300), ('h', 38), ('unitary', 37), ('u2', 36), ('measure', 6), ('x', 1), ('barrier', 1)])\n",
      "--------------\n"
     ]
    }
   ],
   "source": [
    "del_t = 0.7\n",
    "steps = np.arange(0,8, 1) \n",
    "sites = np.arange(0, nQ, 1) \n",
    "cirlist = []\n",
    "\n",
    "for i in steps:\n",
    "    circir = QuantumCircuit(nQ)\n",
    "    activate(3,nQ,circir)     # Initialize the circuit with 3 links activated \n",
    "    true_vac(angles_from_vqe,nQ,circir)\n",
    "    time_ev(del_t, i, nQ, circir)\n",
    "    circir.measure_all()\n",
    "    \n",
    "    circir_tran = qiskit.compiler.transpile(circir,\n",
    "                                                    backend=simulator, #probably won't work for number of qubits > 32\n",
    "                                                    optimization_level=3 )\n",
    "    \n",
    "    print(f'  depth: {circir_tran.depth()}')\n",
    "    print(f'  CNOT depth:{circir_tran.depth(filter_function=lambda x: len(x.qubits)>1)}')\n",
    "    print(f'  gate counts: {circir_tran.count_ops()}')\n",
    "    print(\"--------------\")\n",
    "    \n",
    "    cirlist.append(circir_tran)"
   ]
  },
  {
   "cell_type": "code",
   "execution_count": 90,
   "metadata": {},
   "outputs": [],
   "source": [
    "service = QiskitRuntimeService()\n",
    "backend = service.least_busy(operational=True, simulator=False, min_num_qubits=127)"
   ]
  },
  {
   "cell_type": "code",
   "execution_count": 92,
   "metadata": {},
   "outputs": [],
   "source": [
    "pm = generate_preset_pass_manager(optimization_level=1, backend=backend)"
   ]
  },
  {
   "cell_type": "code",
   "execution_count": 107,
   "metadata": {},
   "outputs": [],
   "source": [
    "# transpile circuit to specific backend\n",
    "\n",
    "\n",
    "circir_transpiled = qiskit.compiler.transpile(cirlist,\n",
    "                                                    backend=backend,\n",
    "                                                    optimization_level=1\n",
    "                                                   )\n",
    "\n",
    "# or\n",
    "\n",
    "isa_circir = pm.run(cirlist)"
   ]
  },
  {
   "cell_type": "code",
   "execution_count": 110,
   "metadata": {},
   "outputs": [
    {
     "data": {
      "text/plain": [
       "[<qiskit.circuit.quantumcircuit.QuantumCircuit at 0x148dd0b90>,\n",
       " <qiskit.circuit.quantumcircuit.QuantumCircuit at 0x1491f0b10>,\n",
       " <qiskit.circuit.quantumcircuit.QuantumCircuit at 0x1499902d0>,\n",
       " <qiskit.circuit.quantumcircuit.QuantumCircuit at 0x148280350>,\n",
       " <qiskit.circuit.quantumcircuit.QuantumCircuit at 0x1375dd950>,\n",
       " <qiskit.circuit.quantumcircuit.QuantumCircuit at 0x149fc5710>,\n",
       " <qiskit.circuit.quantumcircuit.QuantumCircuit at 0x149796c90>,\n",
       " <qiskit.circuit.quantumcircuit.QuantumCircuit at 0x149169b90>]"
      ]
     },
     "execution_count": 110,
     "metadata": {},
     "output_type": "execute_result"
    }
   ],
   "source": [
    "isa_circir"
   ]
  },
  {
   "cell_type": "code",
   "execution_count": 91,
   "metadata": {},
   "outputs": [
    {
     "data": {
      "text/plain": [
       "<IBMBackend('ibm_kyoto')>"
      ]
     },
     "execution_count": 91,
     "metadata": {},
     "output_type": "execute_result"
    }
   ],
   "source": [
    "backend"
   ]
  },
  {
   "cell_type": "code",
   "execution_count": 95,
   "metadata": {},
   "outputs": [
    {
     "name": "stdout",
     "output_type": "stream",
     "text": [
      ">>> dynamical decoupling is turned on: True\n",
      ">>> gate twirling is turned on: True\n"
     ]
    }
   ],
   "source": [
    "sampler = Sampler(simulator)\n",
    " \n",
    "sampler.options.twirling.enable_gates = True\n",
    "sampler.options.twirling.enable_measure = True\n",
    "sampler.options.twirling.num_randomizations = 40\n",
    "sampler.options.twirling.shots_per_randomization = 1000\n",
    "\n",
    "sampler.options.dynamical_decoupling.enable = True\n",
    "sampler.options.dynamical_decoupling.sequence_type = 'XY4'\n",
    " \n",
    "print(f\">>> dynamical decoupling is turned on: {sampler.options.dynamical_decoupling.enable}\")\n",
    "print(f\">>> gate twirling is turned on: {sampler.options.twirling.enable_gates}\")\n",
    " "
   ]
  },
  {
   "cell_type": "code",
   "execution_count": 96,
   "metadata": {},
   "outputs": [
    {
     "name": "stdout",
     "output_type": "stream",
     "text": [
      ">>> Job ID: 30c35968-dd6f-430a-9a85-085dc859ca92\n",
      ">>> Job Status: JobStatus.RUNNING\n"
     ]
    },
    {
     "name": "stderr",
     "output_type": "stream",
     "text": [
      "/Users/zhiyaoli/anaconda3/envs/iqus/lib/python3.11/site-packages/qiskit_ibm_runtime/fake_provider/local_service.py:232: UserWarning: Options {'dynamical_decoupling': {'enable': True, 'sequence_type': 'XY4'}, 'twirling': {'enable_gates': True, 'enable_measure': True, 'num_randomizations': 40, 'shots_per_randomization': 1000}} have no effect in local testing mode.\n",
      "  warnings.warn(f\"Options {options_copy} have no effect in local testing mode.\")\n"
     ]
    }
   ],
   "source": [
    "sampler_job = sampler.run(cirlist)\n",
    "print(f\">>> Job ID: {sampler_job.job_id()}\")\n",
    "print(f\">>> Job Status: {sampler_job.status()}\")"
   ]
  },
  {
   "cell_type": "code",
   "execution_count": 115,
   "metadata": {},
   "outputs": [
    {
     "name": "stdout",
     "output_type": "stream",
     "text": [
      ">>> Job ID: c0afc7ab-52e2-44a8-ac58-295fc1287744\n",
      ">>> Job Status: JobStatus.RUNNING\n"
     ]
    }
   ],
   "source": [
    "with Session(backend = simulator) as session:\n",
    "    sampler = Sampler(simulator)\n",
    "    sampler_job = sampler.run(cirlist)\n",
    "    print(f\">>> Job ID: {sampler_job.job_id()}\")\n",
    "    print(f\">>> Job Status: {sampler_job.status()}\")"
   ]
  },
  {
   "cell_type": "code",
   "execution_count": 116,
   "metadata": {},
   "outputs": [],
   "source": [
    "sampler_result = sampler_job.result()"
   ]
  },
  {
   "cell_type": "code",
   "execution_count": 105,
   "metadata": {},
   "outputs": [
    {
     "data": {
      "text/plain": [
       "{'001110': 986, '101110': 35, '001010': 3}"
      ]
     },
     "execution_count": 105,
     "metadata": {},
     "output_type": "execute_result"
    }
   ],
   "source": [
    "sampler_result._pub_results[0].data.meas.get_counts()"
   ]
  },
  {
   "cell_type": "code",
   "execution_count": 117,
   "metadata": {},
   "outputs": [
    {
     "name": "stdout",
     "output_type": "stream",
     "text": [
      " > Counts for pub 0: {'001110': 995, '101110': 24, '001010': 5}\n",
      " > Counts for pub 1: {'111110': 1, '001110': 960, '001010': 58, '101110': 4, '101111': 1}\n",
      " > Counts for pub 2: {'001110': 777, '001010': 220, '101110': 17, '000010': 1, '101111': 4, '111111': 1, '010010': 1, '101011': 1, '111010': 1, '101010': 1}\n",
      " > Counts for pub 3: {'001010': 434, '001110': 573, '000010': 2, '010010': 2, '111110': 1, '111011': 2, '001000': 3, '101110': 2, '101010': 3, '101011': 1, '111010': 1}\n",
      " > Counts for pub 4: {'001010': 538, '001110': 455, '111111': 2, '001001': 6, '101110': 4, '101010': 3, '001000': 2, '010010': 6, '111011': 2, '110110': 1, '101111': 1, '000010': 2, '101011': 1, '111010': 1}\n",
      " > Counts for pub 5: {'001110': 435, '001010': 555, '001000': 6, '001001': 10, '010010': 7, '000010': 1, '101010': 1, '100011': 1, '111011': 3, '101110': 4, '101011': 1}\n",
      " > Counts for pub 6: {'001110': 480, '001010': 502, '001001': 14, '101010': 5, '101110': 4, '111110': 2, '010010': 11, '011101': 1, '101011': 1, '000010': 3, '110101': 1}\n",
      " > Counts for pub 7: {'001110': 632, '001010': 320, '001001': 17, '010010': 20, '111011': 1, '101110': 15, '101101': 1, '010111': 1, '110110': 3, '101010': 3, '010000': 1, '101000': 1, '001000': 3, '110101': 1, '010101': 2, '101111': 1, '011111': 1, '000000': 1}\n"
     ]
    }
   ],
   "source": [
    "for idx, pub_result in enumerate(sampler_result):\n",
    "    print(f\" > Counts for pub {idx}: {pub_result.data.meas.get_counts()}\")"
   ]
  },
  {
   "cell_type": "code",
   "execution_count": 120,
   "metadata": {},
   "outputs": [],
   "source": [
    "# turn a list of counts into quasi_dists\n",
    "\n",
    "def quasi_dists(sampler_result):\n",
    "    results = []\n",
    "    for i, pub_result in enumerate(sampler_result):\n",
    "        counts = pub_result.data.meas.get_counts()\n",
    "        coeffs = [0] * np.power(2, nQ)\n",
    "        count_list = [val for _,val in counts.items()]\n",
    "        for i in range(2**nQ):\n",
    "            coeffs[i] = sum([val for key,val in counts.items() if index_from_bitstring(key) == i]) / sum(count_list)\n",
    "        results.append(coeffs)\n",
    "        \n",
    "        # Compute the expectation value: tr(rho*E)\n",
    "        # rho = np.diag(coeffs)\n",
    "        # result = np.trace(np.dot(rho, E))\n",
    "        # results.append(result)\n",
    "        \n",
    "    return results"
   ]
  },
  {
   "cell_type": "code",
   "execution_count": null,
   "metadata": {},
   "outputs": [],
   "source": []
  }
 ],
 "metadata": {
  "kernelspec": {
   "display_name": "iqus",
   "language": "python",
   "name": "python3"
  },
  "language_info": {
   "codemirror_mode": {
    "name": "ipython",
    "version": 3
   },
   "file_extension": ".py",
   "mimetype": "text/x-python",
   "name": "python",
   "nbconvert_exporter": "python",
   "pygments_lexer": "ipython3",
   "version": "3.11.5"
  }
 },
 "nbformat": 4,
 "nbformat_minor": 2
}
