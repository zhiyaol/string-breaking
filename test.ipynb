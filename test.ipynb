{
 "cells": [
  {
   "cell_type": "code",
   "execution_count": null,
   "metadata": {},
   "outputs": [
    {
     "data": {
      "text/plain": [
       "0.999944425356032"
      ]
     },
     "metadata": {},
     "output_type": "display_data"
    }
   ],
   "source": [
    "vac_cir = true_vac(angles_from_vqe)\n",
    "result_state = Statevector.from_int(0, 2**nQ)\n",
    "result_state = result_state.evolve(time_ev(0, 1, nQ, vac_cir))\n",
    "qiskit.quantum_info.state_fidelity(result_state,mathematica_result_6_SU2)"
   ]
  },
  {
   "cell_type": "code",
   "execution_count": null,
   "metadata": {},
   "outputs": [
    {
     "name": "stdout",
     "output_type": "stream",
     "text": [
      "Circuit unitary:\n",
      " [0.19307-0.j 0.33405-0.j 0.33405-0.j 0.57797-0.j 0.33405-0.j 0.41222-0.j\n",
      " 0.57797-0.j 0.71322-0.j 0.33405-0.j 0.57797-0.j 0.41222-0.j 0.71322-0.j\n",
      " 0.57797-0.j 0.71322-0.j 0.71322-0.j 0.88012-0.j 0.33405-0.j 0.41222-0.j\n",
      " 0.57797-0.j 0.71322-0.j 0.41222-0.j 0.36281-0.j 0.71322-0.j 0.62772-0.j\n",
      " 0.57797-0.j 0.71322-0.j 0.71322-0.j 0.88012-0.j 0.71322-0.j 0.62772-0.j\n",
      " 0.88012-0.j 0.77462-0.j 0.33405-0.j 0.57797-0.j 0.41222-0.j 0.71322-0.j\n",
      " 0.57797-0.j 0.71322-0.j 0.71322-0.j 0.88012-0.j 0.41222-0.j 0.71322-0.j\n",
      " 0.36281-0.j 0.62772-0.j 0.71322-0.j 0.88012-0.j 0.62772-0.j 0.77462-0.j\n",
      " 0.57797-0.j 0.71322-0.j 0.71322-0.j 0.88012-0.j 0.71322-0.j 0.62772-0.j\n",
      " 0.88012-0.j 0.77462-0.j 0.71322-0.j 0.88012-0.j 0.62772-0.j 0.77462-0.j\n",
      " 0.88012-0.j 0.77462-0.j 0.77462-0.j 0.68176-0.j]\n"
     ]
    }
   ],
   "source": [
    "# Construct quantum circuit without measure\n",
    "Hkin_cir = exp_hkin_odd(1,6)\n",
    "Hkin_cir = exp_hkin_even(1,6,Hkin_cir)\n",
    "Hkin_cir.save_unitary()\n",
    "\n",
    "# Transpile for simulator\n",
    "simulator = Aer.get_backend('aer_simulator')\n",
    "# Another option to create the simulator\n",
    "# simulator = AerSimulator(method = 'unitary')\n",
    "circ = transpile(Hkin_cir, simulator)\n",
    "\n",
    "# Run and get unitary\n",
    "result = simulator.run(Hkin_cir).result()\n",
    "unitary = result.get_unitary(Hkin_cir)\n",
    "print(\"Circuit unitary:\\n\", np.diag(np.asarray(unitary)).round(5))"
   ]
  },
  {
   "cell_type": "code",
   "execution_count": null,
   "metadata": {},
   "outputs": [
    {
     "data": {
      "text/plain": [
       "array([[0.0884847 , 0.03273622, 0.0877319 , ..., 0.00462777, 0.02620568,\n",
       "        0.00963848],\n",
       "       [0.0877319 , 0.03644792, 0.08875095, ..., 0.00997358, 0.0009858 ,\n",
       "        0.00231388],\n",
       "       [0.03273622, 0.05222817, 0.03644792, ..., 0.0009858 , 0.02610959,\n",
       "        0.01100299],\n",
       "       ...,\n",
       "       [0.02620568, 0.02610959, 0.0009858 , ..., 0.00108847, 0.04248133,\n",
       "        0.02109619],\n",
       "       [0.00462777, 0.0009858 , 0.00997358, ..., 0.05037777, 0.00108847,\n",
       "        0.01317444],\n",
       "       [0.00963848, 0.01100299, 0.00231388, ..., 0.01317444, 0.02109619,\n",
       "        0.01257983]])"
      ]
     },
     "metadata": {},
     "output_type": "display_data"
    }
   ],
   "source": [
    "np.abs(np.abs(np.asarray(unitary))-np.abs(sp.linalg.expm(-1j*Hkin(6).to_matrix())))"
   ]
  }
 ],
 "metadata": {
  "language_info": {
   "name": "python"
  }
 },
 "nbformat": 4,
 "nbformat_minor": 2
}
