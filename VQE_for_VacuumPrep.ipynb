{
 "cells": [
  {
   "cell_type": "markdown",
   "metadata": {},
   "source": [
    "In this version, use more matrix implementation P0YP0 P1YP1 to hopefully reduce optimization time, get a working version of VQE for scipy, and something to compare and discuss with Anthony with. (When he uses P0YP0 P1YP1, how does he then later move it to qiskit)"
   ]
  },
  {
   "cell_type": "code",
   "execution_count": 49,
   "metadata": {},
   "outputs": [],
   "source": [
    "%run SetUp.ipynb\n",
    "\n",
    "from scipy.optimize import minimize"
   ]
  },
  {
   "cell_type": "code",
   "execution_count": null,
   "metadata": {},
   "outputs": [],
   "source": [
    "nQ = 6"
   ]
  },
  {
   "cell_type": "markdown",
   "metadata": {},
   "source": [
    "## Define VQE form"
   ]
  },
  {
   "cell_type": "code",
   "execution_count": 4,
   "metadata": {},
   "outputs": [],
   "source": [
    "# Layers of VQE\n",
    "\n",
    "def PYP(angle,nq):\n",
    "    n_sets = int(nq/3)\n",
    "    mat = sp.sparse.identity(2**nq)\n",
    "    angle = angle/2\n",
    "\n",
    "    for mmm in range(n_sets):\n",
    "        cc,dd,ee = (3*mmm+2)%nq,(3*mmm+3)%nq,(3*mmm+4)%nq\n",
    "        mat @= sp.sparse.linalg.expm(-1j * angle * pad_op(cc,nq,proj0) @ pad_op(dd,nq,y) @ pad_op(ee,nq,proj0))\n",
    "        mat @= sp.sparse.linalg.expm(-1j * angle * pad_op(cc,nq,proj1) @ pad_op(dd,nq,y) @ pad_op(ee,nq,proj1))\n",
    "\n",
    "    for mm in range(n_sets):\n",
    "        bb,cc,dd = (3*mm+1)%nq,(3*mm+2)%nq,(3*mm+3)%nq\n",
    "        mat @= sp.sparse.linalg.expm(-1j * angle * pad_op(bb,nq,proj0) @ pad_op(cc,nq,y) @ pad_op(dd,nq,proj0))\n",
    "        mat @= sp.sparse.linalg.expm(-1j * angle * pad_op(bb,nq,proj1) @ pad_op(cc,nq,y) @ pad_op(dd,nq,proj1))\n",
    "\n",
    "        \n",
    "    for m in range(n_sets):\n",
    "        aa,bb,cc = (3*m)%nq,(3*m+1)%nq,(3*m+2)%nq\n",
    "        mat @= sp.sparse.linalg.expm(-1j * angle * pad_op(aa,nq,proj0) @ pad_op(bb,nq,y) @ pad_op(cc,nq,proj0))\n",
    "        mat @= sp.sparse.linalg.expm(-1j * angle * pad_op(aa,nq,proj1) @ pad_op(bb,nq,y) @ pad_op(cc,nq,proj1))\n",
    "    \n",
    "\n",
    "    return mat\n"
   ]
  },
  {
   "cell_type": "code",
   "execution_count": 7,
   "metadata": {},
   "outputs": [],
   "source": [
    "def vqe_form(angles,nq):\n",
    "    it = iter(angles)\n",
    "    mat = sp.sparse.identity(2**nq)\n",
    "    for i in range(len(angles)):\n",
    "        angle = next(it)\n",
    "        mat @= PYP(angle,nq)\n",
    "    return mat"
   ]
  },
  {
   "cell_type": "markdown",
   "metadata": {},
   "source": [
    "## Set up function to minimize and initial points"
   ]
  },
  {
   "cell_type": "code",
   "execution_count": 9,
   "metadata": {},
   "outputs": [],
   "source": [
    "\n",
    "# Generate Fake Vacuum\n",
    "# version that generates [[1,0,...]] and has dimension issues:  \n",
    "#  fake_vac = ft.reduce(sp.sparse.kron, [[1,0]]* nq)\n",
    "\n",
    "#fake_vac = sp.sparse.csr_array(np.ndarray.flatten(ft.reduce(sp.sparse.kron, [[1,0]]* nq).toarray()))\n",
    "\n",
    "def fake_vac(nq):\n",
    "    return sp.sparse.csr_array(ft.reduce(sp.sparse.kron, [[1.,0.]]* nq).toarray()).transpose()"
   ]
  },
  {
   "cell_type": "code",
   "execution_count": 200,
   "metadata": {},
   "outputs": [],
   "source": [
    "# Generate a state from a set of angles\n",
    "# Calculate full Hamiltonian expectation value for this state \n",
    "# Want to minimize this expectation value\n",
    "\n",
    "num_params = 1\n",
    "\n",
    "# Hf = sp.sparse.bsr_matrix(Hfull(nq,m,g).to_matrix())\n",
    "\n",
    "Hf = sp.sparse.csr_matrix(np.real(Hfull(nQ,m,g).to_matrix()))\n",
    "\n",
    "def H_exp(angles):\n",
    "    \n",
    "    state = vqe_form(angles,nQ).dot(fake_vac(nQ)) # turning fake vac into a function might increase runtime\n",
    "    \n",
    "    #val = np.reshape(np.asarray(state.conjugate()),-1) @ Hf @ np.reshape(np.asarray(state),-1)\n",
    "    val = state.getH() @ Hf @ state\n",
    "    \n",
    "    return np.real(val.toarray()[0][0])"
   ]
  },
  {
   "cell_type": "code",
   "execution_count": 201,
   "metadata": {},
   "outputs": [
    {
     "name": "stderr",
     "output_type": "stream",
     "text": [
      "/var/folders/px/x0b827mx07s9_8yq2xxdt9qr0000gr/T/ipykernel_17315/1897183568.py:4: DeprecationWarning: `getH` is deprecated and will be removed in v1.13.0; use `X.conj().T` instead.\n",
      "  test_val = test_state.getH() @ Hf @ test_state\n"
     ]
    },
    {
     "data": {
      "text/plain": [
       "-0.6909044667416253"
      ]
     },
     "execution_count": 201,
     "metadata": {},
     "output_type": "execute_result"
    }
   ],
   "source": [
    "# Test to see if H_exp gets results as expected\n",
    "\n",
    "test_state = sp.sparse.csr_array(mathematica_result_6_SU2).transpose()\n",
    "test_val = test_state.getH() @ Hf @ test_state\n",
    "test_val.toarray()[0][0]"
   ]
  },
  {
   "cell_type": "code",
   "execution_count": 202,
   "metadata": {},
   "outputs": [
    {
     "data": {
      "text/plain": [
       "array([[ 0.        ,  0.70710678,  0.70710678, ...,  0.        ,\n",
       "         0.        ,  0.        ],\n",
       "       [ 0.70710678,  4.        ,  0.        , ...,  0.        ,\n",
       "         0.        ,  0.        ],\n",
       "       [ 0.70710678,  0.        ,  4.        , ...,  0.        ,\n",
       "         0.        ,  0.        ],\n",
       "       ...,\n",
       "       [ 0.        ,  0.        ,  0.        , ..., 12.        ,\n",
       "         0.        ,  0.35355339],\n",
       "       [ 0.        ,  0.        ,  0.        , ...,  0.        ,\n",
       "        12.        ,  0.35355339],\n",
       "       [ 0.        ,  0.        ,  0.        , ...,  0.35355339,\n",
       "         0.35355339, 12.        ]])"
      ]
     },
     "execution_count": 202,
     "metadata": {},
     "output_type": "execute_result"
    }
   ],
   "source": [
    "np.real(Hfull(nQ,m,g).to_matrix())"
   ]
  },
  {
   "cell_type": "code",
   "execution_count": 203,
   "metadata": {},
   "outputs": [
    {
     "data": {
      "text/plain": [
       "<64x64 sparse matrix of type '<class 'numpy.float64'>'\n",
       "\twith 255 stored elements in Compressed Sparse Row format>"
      ]
     },
     "execution_count": 203,
     "metadata": {},
     "output_type": "execute_result"
    }
   ],
   "source": [
    "Hf"
   ]
  },
  {
   "cell_type": "code",
   "execution_count": 204,
   "metadata": {},
   "outputs": [
    {
     "data": {
      "text/plain": [
       "0.8372355009516048"
      ]
     },
     "execution_count": 204,
     "metadata": {},
     "output_type": "execute_result"
    }
   ],
   "source": [
    "initial_point = np.random.rand(num_params)\n",
    "\n",
    "H_exp(initial_point)"
   ]
  },
  {
   "cell_type": "code",
   "execution_count": 205,
   "metadata": {},
   "outputs": [
    {
     "data": {
      "text/plain": [
       "array([0.16258994])"
      ]
     },
     "execution_count": 205,
     "metadata": {},
     "output_type": "execute_result"
    }
   ],
   "source": [
    "initial_point"
   ]
  },
  {
   "cell_type": "markdown",
   "metadata": {},
   "source": [
    "## Run VQE"
   ]
  },
  {
   "cell_type": "markdown",
   "metadata": {},
   "source": [
    "#### nelder-mead"
   ]
  },
  {
   "cell_type": "code",
   "execution_count": 206,
   "metadata": {},
   "outputs": [
    {
     "name": "stdout",
     "output_type": "stream",
     "text": [
      "Optimization terminated successfully.\n",
      "         Current function value: -0.690633\n",
      "         Iterations: 31\n",
      "         Function evaluations: 62\n"
     ]
    }
   ],
   "source": [
    "res = minimize(H_exp, initial_point, method='nelder-mead',\n",
    "               options={'xatol': 1e-8, 'disp': True})"
   ]
  },
  {
   "cell_type": "code",
   "execution_count": 207,
   "metadata": {},
   "outputs": [
    {
     "name": "stdout",
     "output_type": "stream",
     "text": [
      "[-0.3188006]\n"
     ]
    }
   ],
   "source": [
    "print(res.x)"
   ]
  },
  {
   "cell_type": "markdown",
   "metadata": {},
   "source": [
    "#### powell"
   ]
  },
  {
   "cell_type": "code",
   "execution_count": 226,
   "metadata": {},
   "outputs": [
    {
     "name": "stderr",
     "output_type": "stream",
     "text": [
      "/var/folders/px/x0b827mx07s9_8yq2xxdt9qr0000gr/T/ipykernel_17315/3822391983.py:1: OptimizeWarning: Unknown solver options: xatol\n",
      "  res2 = minimize(H_exp, initial_point, method='powell',\n"
     ]
    },
    {
     "name": "stdout",
     "output_type": "stream",
     "text": [
      "Optimization terminated successfully.\n",
      "         Current function value: -0.690633\n",
      "         Iterations: 2\n",
      "         Function evaluations: 28\n"
     ]
    }
   ],
   "source": [
    "res2 = minimize(H_exp, initial_point, method='powell',\n",
    "               options={'disp': True})"
   ]
  },
  {
   "cell_type": "code",
   "execution_count": 227,
   "metadata": {},
   "outputs": [
    {
     "name": "stdout",
     "output_type": "stream",
     "text": [
      "[-0.3188006]\n"
     ]
    }
   ],
   "source": [
    "print(res2.x)"
   ]
  },
  {
   "cell_type": "markdown",
   "metadata": {},
   "source": [
    "#### BFGS"
   ]
  },
  {
   "cell_type": "code",
   "execution_count": 224,
   "metadata": {},
   "outputs": [
    {
     "name": "stdout",
     "output_type": "stream",
     "text": [
      "Optimization terminated successfully.\n",
      "         Current function value: -0.690633\n",
      "         Iterations: 4\n",
      "         Function evaluations: 12\n",
      "         Gradient evaluations: 6\n"
     ]
    }
   ],
   "source": [
    "res3 = minimize(H_exp,initial_point, method='BFGS', tol = 1e-8,\n",
    "               options={'disp': True})\n",
    "\n",
    "# tol = 1e-8,\n",
    "# xatol = 1e-8,"
   ]
  },
  {
   "cell_type": "code",
   "execution_count": 225,
   "metadata": {},
   "outputs": [
    {
     "name": "stdout",
     "output_type": "stream",
     "text": [
      "[-0.31880061]\n"
     ]
    }
   ],
   "source": [
    "print(res3.x)"
   ]
  },
  {
   "cell_type": "markdown",
   "metadata": {},
   "source": [
    "## Test"
   ]
  },
  {
   "cell_type": "markdown",
   "metadata": {},
   "source": [
    "Agrees nicely with 6 qubits numerical results. Does not work great for 8 qubits but good for 12 qubits. Assuming 12 qubits is also divisable by 6,so the vqe_form are set up the same as 12, vs for 8 qubits there are some weird boundary stuff. 3 layers behave better than 1 layer for 12 qubits. "
   ]
  },
  {
   "cell_type": "markdown",
   "metadata": {},
   "source": [
    "#### Against mathematica result for 6 qubits"
   ]
  },
  {
   "cell_type": "code",
   "execution_count": 228,
   "metadata": {},
   "outputs": [],
   "source": [
    "#[-0.08070716, -0.09582326, -0.14136288]\n",
    "#[-0.56718282,  0.44043292, -0.19426729]\n",
    "#[-0.26173984, -0.28023671,  0.22319269]\n",
    "#[-0.56723781,  0.24395558]\n",
    "\n",
    "scipy_angles = [-0.3188006]\n",
    "scipy_results = np.reshape(vqe_form(scipy_angles,nQ).dot(fake_vac(nQ)).toarray(),-1)"
   ]
  },
  {
   "cell_type": "code",
   "execution_count": 229,
   "metadata": {},
   "outputs": [
    {
     "data": {
      "text/plain": [
       "<matplotlib.legend.Legend at 0x14e4c6990>"
      ]
     },
     "execution_count": 229,
     "metadata": {},
     "output_type": "execute_result"
    },
    {
     "data": {
      "image/png": "[encoded data removed]",
      "text/plain": [
       "<Figure size 640x480 with 1 Axes>"
      ]
     },
     "metadata": {},
     "output_type": "display_data"
    }
   ],
   "source": [
    "plt.plot(list(range(2**nq)), scipy_results,'g.',label = 'Scipy VQE')\n",
    "plt.plot(list(range(2**nq)), mathematica_result_6_SU2,'r+',label = 'Exact Diagonalization')\n",
    "plt.legend()"
   ]
  },
  {
   "cell_type": "markdown",
   "metadata": {},
   "source": [
    "#### Angle aquired from 6 qubits on 8 qubits"
   ]
  },
  {
   "cell_type": "code",
   "execution_count": 41,
   "metadata": {},
   "outputs": [],
   "source": [
    "ang = [-0.08070716, -0.09582326, -0.14136288]\n",
    "nQ_8 = 8\n",
    "\n",
    "vacuum_8 = np.reshape(vqe_form(ang,nQ_8).dot(fake_vac(nQ_8)).toarray(),-1)"
   ]
  },
  {
   "cell_type": "code",
   "execution_count": 42,
   "metadata": {},
   "outputs": [
    {
     "data": {
      "text/plain": [
       "<matplotlib.legend.Legend at 0x12e81b490>"
      ]
     },
     "execution_count": 42,
     "metadata": {},
     "output_type": "execute_result"
    },
    {
     "data": {
      "image/png": "[encoded data removed]",
      "text/plain": [
       "<Figure size 640x480 with 1 Axes>"
      ]
     },
     "metadata": {},
     "output_type": "display_data"
    }
   ],
   "source": [
    "plt.plot(list(range(2**nQ_8)), vacuum_8,'g.',label = 'Scipy VQE')\n",
    "plt.plot(list(range(2**nQ_8)), -np.array(mathematica_result_8_SU2),'r+',label = 'Exact Diagonalization')\n",
    "plt.legend()"
   ]
  },
  {
   "cell_type": "code",
   "execution_count": 43,
   "metadata": {},
   "outputs": [],
   "source": [
    "Hf_8 = sp.sparse.csr_matrix(np.real(Hfull(nQ_8,m,g).to_matrix()))\n",
    "vacuum_8 = vqe_form(ang,nQ_8).dot(fake_vac(nQ_8))"
   ]
  },
  {
   "cell_type": "code",
   "execution_count": 44,
   "metadata": {},
   "outputs": [
    {
     "data": {
      "text/plain": [
       "array([[-0.69642222+0.j]])"
      ]
     },
     "execution_count": 44,
     "metadata": {},
     "output_type": "execute_result"
    }
   ],
   "source": [
    "(vacuum_8.getH() @ Hf_8 @ vacuum_8).toarray()"
   ]
  },
  {
   "cell_type": "markdown",
   "metadata": {},
   "source": [
    "#### Angle aquired from 6 qubits on 12 qubits (1 parameter)"
   ]
  },
  {
   "cell_type": "code",
   "execution_count": 54,
   "metadata": {},
   "outputs": [],
   "source": [
    "ang = [-0.3188006]\n",
    "nQQ = 12"
   ]
  },
  {
   "cell_type": "code",
   "execution_count": 55,
   "metadata": {},
   "outputs": [
    {
     "name": "stderr",
     "output_type": "stream",
     "text": [
      "/Users/zhiyaoli/anaconda3/envs/iqus/lib/python3.11/site-packages/scipy/sparse/linalg/_dsolve/linsolve.py:412: SparseEfficiencyWarning: splu converted its input to CSC format\n",
      "  warn('splu converted its input to CSC format', SparseEfficiencyWarning)\n",
      "/Users/zhiyaoli/anaconda3/envs/iqus/lib/python3.11/site-packages/scipy/sparse/linalg/_dsolve/linsolve.py:302: SparseEfficiencyWarning: spsolve is more efficient when sparse b is in the CSC matrix format\n",
      "  warn('spsolve is more efficient when sparse b '\n",
      "/Users/zhiyaoli/anaconda3/envs/iqus/lib/python3.11/site-packages/scipy/sparse/linalg/_dsolve/linsolve.py:229: SparseEfficiencyWarning: spsolve requires A be CSC or CSR matrix format\n",
      "  warn('spsolve requires A be CSC or CSR matrix format',\n"
     ]
    }
   ],
   "source": [
    "Hf_12 = sp.sparse.csr_matrix(np.real(Hfull(nQQ,m,g).to_matrix()))\n",
    "vacuum_12 = vqe_form(ang,nQQ).dot(fake_vac(nQQ))"
   ]
  },
  {
   "cell_type": "code",
   "execution_count": 56,
   "metadata": {},
   "outputs": [
    {
     "data": {
      "text/plain": [
       "array([[-1.38126538+0.j]])"
      ]
     },
     "execution_count": 56,
     "metadata": {},
     "output_type": "execute_result"
    }
   ],
   "source": [
    "(vacuum_12.getH() @ Hf_12 @ vacuum_12).toarray()"
   ]
  },
  {
   "cell_type": "code",
   "execution_count": 57,
   "metadata": {},
   "outputs": [
    {
     "data": {
      "text/plain": [
       "<4096x1 sparse matrix of type '<class 'numpy.complex128'>'\n",
       "\twith 466 stored elements in Compressed Sparse Row format>"
      ]
     },
     "execution_count": 57,
     "metadata": {},
     "output_type": "execute_result"
    }
   ],
   "source": [
    "vacuum_12"
   ]
  },
  {
   "cell_type": "code",
   "execution_count": 59,
   "metadata": {},
   "outputs": [
    {
     "name": "stderr",
     "output_type": "stream",
     "text": [
      "/Users/zhiyaoli/anaconda3/envs/iqus/lib/python3.11/site-packages/matplotlib/cbook.py:1699: ComplexWarning: Casting complex values to real discards the imaginary part\n",
      "  return math.isfinite(val)\n",
      "/Users/zhiyaoli/anaconda3/envs/iqus/lib/python3.11/site-packages/matplotlib/cbook.py:1345: ComplexWarning: Casting complex values to real discards the imaginary part\n",
      "  return np.asarray(x, float)\n"
     ]
    },
    {
     "data": {
      "text/plain": [
       "<matplotlib.legend.Legend at 0x141ae4e50>"
      ]
     },
     "execution_count": 59,
     "metadata": {},
     "output_type": "execute_result"
    },
    {
     "data": {
      "image/png": "[encoded data removed]",
      "text/plain": [
       "<Figure size 640x480 with 1 Axes>"
      ]
     },
     "metadata": {},
     "output_type": "display_data"
    }
   ],
   "source": [
    "plt.plot(list(range(2**nQQ)), vacuum_12.toarray(),'g.',label = 'Scipy VQE')\n",
    "plt.plot(list(range(2**nQQ)), np.array(mathematica_result_12_SU2),'r+',label = 'Exact Diagonalization')\n",
    "plt.legend()"
   ]
  },
  {
   "cell_type": "markdown",
   "metadata": {},
   "source": [
    "#### Angle aquired from 6 qubits on 12 qubits (3 parameters)"
   ]
  },
  {
   "cell_type": "code",
   "execution_count": 45,
   "metadata": {},
   "outputs": [
    {
     "name": "stderr",
     "output_type": "stream",
     "text": [
      "/Users/zhiyaoli/anaconda3/envs/iqus/lib/python3.11/site-packages/scipy/sparse/linalg/_dsolve/linsolve.py:412: SparseEfficiencyWarning: splu converted its input to CSC format\n",
      "  warn('splu converted its input to CSC format', SparseEfficiencyWarning)\n",
      "/Users/zhiyaoli/anaconda3/envs/iqus/lib/python3.11/site-packages/scipy/sparse/linalg/_dsolve/linsolve.py:302: SparseEfficiencyWarning: spsolve is more efficient when sparse b is in the CSC matrix format\n",
      "  warn('spsolve is more efficient when sparse b '\n",
      "/Users/zhiyaoli/anaconda3/envs/iqus/lib/python3.11/site-packages/scipy/sparse/linalg/_dsolve/linsolve.py:229: SparseEfficiencyWarning: spsolve requires A be CSC or CSR matrix format\n",
      "  warn('spsolve requires A be CSC or CSR matrix format',\n"
     ]
    }
   ],
   "source": [
    "ang = [-0.08070716, -0.09582326, -0.14136288]\n",
    "nQQ = 12"
   ]
  },
  {
   "cell_type": "code",
   "execution_count": 46,
   "metadata": {},
   "outputs": [],
   "source": [
    "Hf_12 = sp.sparse.csr_matrix(np.real(Hfull(nQQ,m,g).to_matrix()))\n",
    "vacuum_12 = vqe_form(ang,nQQ).dot(fake_vac(nQQ))"
   ]
  },
  {
   "cell_type": "code",
   "execution_count": 47,
   "metadata": {},
   "outputs": [
    {
     "data": {
      "text/plain": [
       "array([[-1.38172513+0.j]])"
      ]
     },
     "execution_count": 47,
     "metadata": {},
     "output_type": "execute_result"
    }
   ],
   "source": [
    "(vacuum_12.getH() @ Hf_12 @ vacuum_12).toarray()"
   ]
  },
  {
   "cell_type": "code",
   "execution_count": 51,
   "metadata": {},
   "outputs": [
    {
     "data": {
      "text/plain": [
       "array([ 8.57812810e-01+0.j, -1.39827376e-01+0.j, -1.40379982e-01+0.j, ...,\n",
       "       -1.38354625e-11+0.j, -1.10320339e-11+0.j,  1.58480933e-12+0.j])"
      ]
     },
     "execution_count": 51,
     "metadata": {},
     "output_type": "execute_result"
    }
   ],
   "source": [
    "vacuum_12"
   ]
  },
  {
   "cell_type": "code",
   "execution_count": 53,
   "metadata": {},
   "outputs": [
    {
     "data": {
      "text/plain": [
       "<matplotlib.legend.Legend at 0x12ec72690>"
      ]
     },
     "execution_count": 53,
     "metadata": {},
     "output_type": "execute_result"
    },
    {
     "data": {
      "image/png": "[encoded data removed]",
      "text/plain": [
       "<Figure size 640x480 with 1 Axes>"
      ]
     },
     "metadata": {},
     "output_type": "display_data"
    }
   ],
   "source": [
    "plt.plot(list(range(2**nQQ)), vacuum_12,'g.',label = 'Scipy VQE')\n",
    "plt.plot(list(range(2**nQQ)), np.array(mathematica_result_12_SU2),'r+',label = 'Exact Diagonalization')\n",
    "plt.legend()"
   ]
  },
  {
   "cell_type": "code",
   "execution_count": null,
   "metadata": {},
   "outputs": [],
   "source": []
  }
 ],
 "metadata": {
  "kernelspec": {
   "display_name": "Python 3 (ipykernel)",
   "language": "python",
   "name": "python3"
  },
  "language_info": {
   "codemirror_mode": {
    "name": "ipython",
    "version": 3
   },
   "file_extension": ".py",
   "mimetype": "text/x-python",
   "name": "python",
   "nbconvert_exporter": "python",
   "pygments_lexer": "ipython3",
   "version": "3.11.5"
  }
 },
 "nbformat": 4,
 "nbformat_minor": 4
}
